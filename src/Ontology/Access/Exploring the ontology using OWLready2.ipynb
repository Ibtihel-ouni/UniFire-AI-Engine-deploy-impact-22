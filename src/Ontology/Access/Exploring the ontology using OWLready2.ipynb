{
 "cells": [
  {
   "cell_type": "markdown",
   "id": "4bf836f8",
   "metadata": {},
   "source": [
    "## Navigating the unifire ontology owl file using OWLready2"
   ]
  },
  {
   "cell_type": "code",
   "execution_count": 1,
   "id": "1e5f08ed",
   "metadata": {},
   "outputs": [
    {
     "name": "stderr",
     "output_type": "stream",
     "text": [
      "* Owlready2 * Warning: optimized Cython parser module 'owlready2_optimized' is not available, defaulting to slower Python implementation\n"
     ]
    }
   ],
   "source": [
    "# import required module\n",
    "\n",
    "from owlready2 import *"
   ]
  },
  {
   "cell_type": "code",
   "execution_count": 2,
   "id": "ee60b68a",
   "metadata": {},
   "outputs": [],
   "source": [
    "# load ontology file\n",
    "\n",
    "onto = get_ontology(\"unifire-openedu.owl\").load()"
   ]
  },
  {
   "cell_type": "code",
   "execution_count": 3,
   "id": "e0be4984",
   "metadata": {},
   "outputs": [
    {
     "data": {
      "text/plain": [
       "[[26]]"
      ]
     },
     "execution_count": 3,
     "metadata": {},
     "output_type": "execute_result"
    }
   ],
   "source": [
    "# Get the number of Classes in the ontology using SPARQL query\n",
    "\n",
    "list(default_world.sparql(\"\"\"\n",
    "           SELECT (COUNT(?x) AS ?nb)\n",
    "           { ?x a owl:Class . FILTER(ISIRI(?x)) }\n",
    "                          \"\"\"))"
   ]
  },
  {
   "cell_type": "code",
   "execution_count": 12,
   "id": "4833de23",
   "metadata": {},
   "outputs": [
    {
     "data": {
      "text/plain": [
       "[[unifire-openedu.InstitutionProfile],\n",
       " [unifire-openedu.UserProfile],\n",
       " [unifire-openedu.DynamicContent],\n",
       " [unifire-openedu.AttendanceForm],\n",
       " [unifire-openedu.GuidesAndTutorials],\n",
       " [unifire-openedu.TrainingsAndWorkshops],\n",
       " [unifire-openedu.DifficultyLevel],\n",
       " [unifire-openedu.Resource],\n",
       " [unifire-openedu.Language],\n",
       " [unifire-openedu.License],\n",
       " [unifire-openedu.Institution],\n",
       " [unifire-openedu.User],\n",
       " [unifire-openedu.UserRole],\n",
       " [unifire-openedu.TargetAudience],\n",
       " [unifire-openedu.KnowledgeTopic],\n",
       " [unifire-openedu.EducationalLevel],\n",
       " [unifire-openedu.Collections],\n",
       " [unifire-openedu.KeyCompetences],\n",
       " [unifire-openedu.Skills],\n",
       " [unifire-openedu.AidingToolsAndReferenceMaterial],\n",
       " [unifire-openedu.Projects],\n",
       " [unifire-openedu.EventsAndContests],\n",
       " [unifire-openedu.EducationalInstitution],\n",
       " [unifire-openedu.Foundation],\n",
       " [unifire-openedu.OpenContentOnlineResources],\n",
       " [unifire-openedu.Tools]]"
      ]
     },
     "execution_count": 12,
     "metadata": {},
     "output_type": "execute_result"
    }
   ],
   "source": [
    "# Get list of Classes in the ontology using SPARQL query\n",
    "\n",
    "list(default_world.sparql(\"\"\"\n",
    "           SELECT * \n",
    "           { ?x a owl:Class . FILTER(ISIRI(?x)) }\n",
    "                          \"\"\"))"
   ]
  },
  {
   "cell_type": "code",
   "execution_count": 4,
   "id": "620fe6b4",
   "metadata": {},
   "outputs": [
    {
     "data": {
      "text/plain": [
       "[unifire-openedu.InstitutionProfile,\n",
       " unifire-openedu.UserProfile,\n",
       " unifire-openedu.DynamicContent,\n",
       " unifire-openedu.AttendanceForm,\n",
       " unifire-openedu.GuidesAndTutorials,\n",
       " unifire-openedu.TrainingsAndWorkshops,\n",
       " unifire-openedu.DifficultyLevel,\n",
       " unifire-openedu.Resource,\n",
       " unifire-openedu.Language,\n",
       " unifire-openedu.License,\n",
       " unifire-openedu.Institution,\n",
       " unifire-openedu.User,\n",
       " unifire-openedu.UserRole,\n",
       " unifire-openedu.TargetAudience,\n",
       " unifire-openedu.KnowledgeTopic,\n",
       " unifire-openedu.EducationalLevel,\n",
       " unifire-openedu.Collections,\n",
       " unifire-openedu.KeyCompetences,\n",
       " unifire-openedu.Skills,\n",
       " unifire-openedu.AidingToolsAndReferenceMaterial,\n",
       " unifire-openedu.Projects,\n",
       " unifire-openedu.EventsAndContests,\n",
       " unifire-openedu.EducationalInstitution,\n",
       " unifire-openedu.Foundation,\n",
       " unifire-openedu.OpenContentOnlineResources,\n",
       " unifire-openedu.Tools]"
      ]
     },
     "execution_count": 4,
     "metadata": {},
     "output_type": "execute_result"
    }
   ],
   "source": [
    "# or just using owlready2 methods\n",
    "\n",
    "list(onto.classes())"
   ]
  },
  {
   "cell_type": "code",
   "execution_count": 8,
   "id": "8d9eb050",
   "metadata": {},
   "outputs": [
    {
     "data": {
      "text/plain": [
       "[unifire-openedu.hasAccessibilityFeatures,\n",
       " unifire-openedu.hasAdditionalInfo,\n",
       " unifire-openedu.hasAddress,\n",
       " unifire-openedu.hasBio,\n",
       " unifire-openedu.hasDescription,\n",
       " unifire-openedu.hasDuration,\n",
       " unifire-openedu.hasEmailAddress,\n",
       " unifire-openedu.hasEndDate,\n",
       " unifire-openedu.hasExternalPartner,\n",
       " unifire-openedu.hasFunding,\n",
       " unifire-openedu.hasId,\n",
       " unifire-openedu.hasLink,\n",
       " unifire-openedu.hasLocationCanton,\n",
       " unifire-openedu.hasLocationCity,\n",
       " unifire-openedu.hasLocationCountry,\n",
       " unifire-openedu.hasMedia,\n",
       " unifire-openedu.hasName,\n",
       " unifire-openedu.hasNumberOfContributions,\n",
       " unifire-openedu.hasPersonalTitle,\n",
       " unifire-openedu.hasRecurrence,\n",
       " unifire-openedu.hasRecurrenceDescription,\n",
       " unifire-openedu.hasSocialNetworkProfile,\n",
       " unifire-openedu.hasSponsor,\n",
       " unifire-openedu.hasStartDate,\n",
       " unifire-openedu.hasSubtitle,\n",
       " unifire-openedu.hasTag,\n",
       " unifire-openedu.hasTelephoneNumber,\n",
       " unifire-openedu.hasTitle]"
      ]
     },
     "execution_count": 8,
     "metadata": {},
     "output_type": "execute_result"
    }
   ],
   "source": [
    "# listing data properties (aka attributes)\n",
    "\n",
    "list(onto.data_properties())"
   ]
  },
  {
   "cell_type": "code",
   "execution_count": 6,
   "id": "16c06615",
   "metadata": {},
   "outputs": [
    {
     "data": {
      "text/plain": [
       "[unifire-openedu.hasAffiliatedUsers,\n",
       " unifire-openedu.isAffiliatedTo,\n",
       " unifire-openedu.hasAttendanceForm,\n",
       " unifire-openedu.hasDifficultyLevel,\n",
       " unifire-openedu.hasLanguageOfContent,\n",
       " unifire-openedu.hasLicense,\n",
       " unifire-openedu.hasPartner,\n",
       " unifire-openedu.hasProfile,\n",
       " unifire-openedu.isLinkedTo,\n",
       " unifire-openedu.hasRole,\n",
       " unifire-openedu.hasTarget,\n",
       " unifire-openedu.hasTopic,\n",
       " unifire-openedu.hasUploader,\n",
       " unifire-openedu.isUploaderOf,\n",
       " unifire-openedu.isForEducationalLevel,\n",
       " unifire-openedu.isGroupOf,\n",
       " unifire-openedu.isPartOf,\n",
       " unifire-openedu.trainsKeyCompetency,\n",
       " unifire-openedu.trainsSkill,\n",
       " unifire-openedu.utilizes]"
      ]
     },
     "execution_count": 6,
     "metadata": {},
     "output_type": "execute_result"
    }
   ],
   "source": [
    "# listing object properties (aka entity relationships)\n",
    "\n",
    "list(onto.object_properties())"
   ]
  },
  {
   "cell_type": "code",
   "execution_count": 9,
   "id": "f1c435c8",
   "metadata": {},
   "outputs": [
    {
     "data": {
      "text/plain": [
       "[unifire-openedu.Hybrid,\n",
       " unifire-openedu.Online,\n",
       " unifire-openedu.Onsite,\n",
       " unifire-openedu.ContinuingEducation,\n",
       " unifire-openedu.HighSchool,\n",
       " unifire-openedu.MiddleSchool,\n",
       " unifire-openedu.PrimarySchool,\n",
       " unifire-openedu.University,\n",
       " unifire-openedu.Citizenship,\n",
       " unifire-openedu.CulturalAwarenessAndExpression,\n",
       " unifire-openedu.Digital,\n",
       " unifire-openedu.Entrepreneurship,\n",
       " unifire-openedu.Literacy,\n",
       " unifire-openedu.MathematicalScienceTechnologEngineering,\n",
       " unifire-openedu.Multilingual,\n",
       " unifire-openedu.PersonalSocialLearningToLearn,\n",
       " unifire-openedu.ArtsAndRecreation,\n",
       " unifire-openedu.Biology,\n",
       " unifire-openedu.Chemistry,\n",
       " unifire-openedu.CodingAndProgramming,\n",
       " unifire-openedu.ComputerScience,\n",
       " unifire-openedu.Economics,\n",
       " unifire-openedu.Education,\n",
       " unifire-openedu.Encyclopedia,\n",
       " unifire-openedu.Engineering,\n",
       " unifire-openedu.Ethics,\n",
       " unifire-openedu.General,\n",
       " unifire-openedu.HistoryAndGeography,\n",
       " unifire-openedu.HumanitiesAndSocialSciences,\n",
       " unifire-openedu.InformationTechnology,\n",
       " unifire-openedu.Literature,\n",
       " unifire-openedu.Mathematics,\n",
       " unifire-openedu.MedicineAndHealth,\n",
       " unifire-openedu.Music,\n",
       " unifire-openedu.Philosophy,\n",
       " unifire-openedu.Photography,\n",
       " unifire-openedu.Physics,\n",
       " unifire-openedu.PoliticalScience,\n",
       " unifire-openedu.Psycology,\n",
       " unifire-openedu.Religion,\n",
       " unifire-openedu.Science,\n",
       " unifire-openedu.Sports,\n",
       " unifire-openedu.Sustainability,\n",
       " unifire-openedu.Technology,\n",
       " unifire-openedu.Bulgarian,\n",
       " unifire-openedu.Croatian,\n",
       " unifire-openedu.Czech,\n",
       " unifire-openedu.Danish,\n",
       " unifire-openedu.Dutch,\n",
       " unifire-openedu.English,\n",
       " unifire-openedu.Estonian,\n",
       " unifire-openedu.Finnish,\n",
       " unifire-openedu.French,\n",
       " unifire-openedu.German,\n",
       " unifire-openedu.Greek,\n",
       " unifire-openedu.Hungarian,\n",
       " unifire-openedu.Irish,\n",
       " unifire-openedu.Italian,\n",
       " unifire-openedu.Latvian,\n",
       " unifire-openedu.Lithuanian,\n",
       " unifire-openedu.Maltese,\n",
       " unifire-openedu.MultipleLanguages,\n",
       " unifire-openedu.Other,\n",
       " unifire-openedu.Polish,\n",
       " unifire-openedu.Portuguese,\n",
       " unifire-openedu.Romanian,\n",
       " unifire-openedu.Slovak,\n",
       " unifire-openedu.Slovenian,\n",
       " unifire-openedu.Spanish,\n",
       " unifire-openedu.Swedish,\n",
       " unifire-openedu.CCbySA,\n",
       " unifire-openedu.Creativity,\n",
       " unifire-openedu.EffectiveCommunication,\n",
       " unifire-openedu.Leadership,\n",
       " unifire-openedu.ProblemSolving,\n",
       " unifire-openedu.ResearchAndDataAnalysis,\n",
       " unifire-openedu.Responsibility,\n",
       " unifire-openedu.Teamwork,\n",
       " unifire-openedu.TechnologicalAndDigitalLiteracy,\n",
       " unifire-openedu.TimeManagement,\n",
       " unifire-openedu.Adults,\n",
       " unifire-openedu.Children,\n",
       " unifire-openedu.Educators,\n",
       " unifire-openedu.SchoolStudents,\n",
       " unifire-openedu.Volunteers,\n",
       " unifire-openedu.Educator,\n",
       " unifire-openedu.Learner,\n",
       " unifire-openedu.Academics,\n",
       " unifire-openedu.Advanced,\n",
       " unifire-openedu.Beginner,\n",
       " unifire-openedu.Collection01,\n",
       " unifire-openedu.OpenResource01,\n",
       " unifire-openedu.OpenResource02,\n",
       " unifire-openedu.OpenResource03,\n",
       " unifire-openedu.OpenResource04,\n",
       " unifire-openedu.Contest01,\n",
       " unifire-openedu.WikimediaCH,\n",
       " unifire-openedu.Contest02,\n",
       " unifire-openedu.WikimediaFoundation,\n",
       " unifire-openedu.Event01,\n",
       " unifire-openedu.Guide01,\n",
       " unifire-openedu.Intermediate,\n",
       " unifire-openedu.Guide02,\n",
       " unifire-openedu.WikimediaGermany,\n",
       " unifire-openedu.OpenResource05,\n",
       " unifire-openedu.OpenResource06,\n",
       " unifire-openedu.OpenResource07,\n",
       " unifire-openedu.Professors,\n",
       " unifire-openedu.Project01,\n",
       " unifire-openedu.UZH,\n",
       " unifire-openedu.Project02,\n",
       " unifire-openedu.WikimediaSpain,\n",
       " unifire-openedu.Project03,\n",
       " unifire-openedu.UniversityStudents,\n",
       " unifire-openedu.WikimediaArmenia,\n",
       " unifire-openedu.Project04,\n",
       " unifire-openedu.Project05,\n",
       " unifire-openedu.SMU,\n",
       " unifire-openedu.Project06,\n",
       " unifire-openedu.Project07,\n",
       " unifire-openedu.WikimediaArgentina,\n",
       " unifire-openedu.Project08,\n",
       " unifire-openedu.Teachers,\n",
       " unifire-openedu.SMUProfile,\n",
       " unifire-openedu.Scientists,\n",
       " unifire-openedu.Test01,\n",
       " unifire-openedu.Yasmine,\n",
       " unifire-openedu.Test02,\n",
       " unifire-openedu.Test03,\n",
       " unifire-openedu.Test04,\n",
       " unifire-openedu.Test05,\n",
       " unifire-openedu.Test06,\n",
       " unifire-openedu.Test07,\n",
       " unifire-openedu.Test08,\n",
       " unifire-openedu.Test09,\n",
       " unifire-openedu.Test10,\n",
       " unifire-openedu.Tool01,\n",
       " unifire-openedu.Tool02,\n",
       " unifire-openedu.Tool03,\n",
       " unifire-openedu.WikiEdu,\n",
       " unifire-openedu.Training01,\n",
       " unifire-openedu.Training02,\n",
       " unifire-openedu.UZHProfile,\n",
       " unifire-openedu.WikiEduProfile,\n",
       " unifire-openedu.WikimediaArgentinaProfile,\n",
       " unifire-openedu.WikimediaArmeniaProfile,\n",
       " unifire-openedu.WikimediaCHProfile,\n",
       " unifire-openedu.WikimediaFoundationProfile,\n",
       " unifire-openedu.WikimediaGermanyProfile,\n",
       " unifire-openedu.WikimediaSpainProfile,\n",
       " unifire-openedu.WikimediansFromBolivia,\n",
       " unifire-openedu.WikimediansFromBoliviaProfile,\n",
       " unifire-openedu.Workshop01,\n",
       " unifire-openedu.YasmineProfile]"
      ]
     },
     "execution_count": 9,
     "metadata": {},
     "output_type": "execute_result"
    }
   ],
   "source": [
    "list(onto.individuals())"
   ]
  },
  {
   "cell_type": "code",
   "execution_count": 14,
   "id": "540eb1ca",
   "metadata": {},
   "outputs": [
    {
     "ename": "TypeError",
     "evalue": "'CallbackList' object is not callable",
     "output_type": "error",
     "traceback": [
      "\u001b[1;31m---------------------------------------------------------------------------\u001b[0m",
      "\u001b[1;31mTypeError\u001b[0m                                 Traceback (most recent call last)",
      "\u001b[1;32m~\\AppData\\Local\\Temp\\ipykernel_21560\\408861011.py\u001b[0m in \u001b[0;36m<module>\u001b[1;34m\u001b[0m\n\u001b[1;32m----> 1\u001b[1;33m \u001b[0monto\u001b[0m\u001b[1;33m.\u001b[0m\u001b[0mChemistry\u001b[0m\u001b[1;33m.\u001b[0m\u001b[0mis_a\u001b[0m\u001b[1;33m(\u001b[0m\u001b[1;33m)\u001b[0m\u001b[1;33m\u001b[0m\u001b[1;33m\u001b[0m\u001b[0m\n\u001b[0m",
      "\u001b[1;31mTypeError\u001b[0m: 'CallbackList' object is not callable"
     ]
    }
   ],
   "source": [
    "onto.Chemistry.is_a()"
   ]
  }
 ],
 "metadata": {
  "kernelspec": {
   "display_name": "Python 3 (ipykernel)",
   "language": "python",
   "name": "python3"
  },
  "language_info": {
   "codemirror_mode": {
    "name": "ipython",
    "version": 3
   },
   "file_extension": ".py",
   "mimetype": "text/x-python",
   "name": "python",
   "nbconvert_exporter": "python",
   "pygments_lexer": "ipython3",
   "version": "3.9.13"
  }
 },
 "nbformat": 4,
 "nbformat_minor": 5
}
