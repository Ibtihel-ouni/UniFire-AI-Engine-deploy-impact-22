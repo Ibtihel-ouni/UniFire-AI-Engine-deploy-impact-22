{
 "cells": [
  {
   "cell_type": "markdown",
   "metadata": {},
   "source": [
    "# Wikimedia database Topics Modeling"
   ]
  },
  {
   "cell_type": "code",
   "execution_count": 2,
   "metadata": {},
   "outputs": [
    {
     "data": {
      "text/plain": [
       "'3.0.0.rc3'"
      ]
     },
     "execution_count": 2,
     "metadata": {},
     "output_type": "execute_result"
    }
   ],
   "source": [
    "# check version\n",
    "from pycaret.utils import version\n",
    "version()"
   ]
  },
  {
   "cell_type": "markdown",
   "metadata": {},
   "source": [
    "# 1. Loading Dataset"
   ]
  },
  {
   "cell_type": "code",
   "execution_count": 1,
   "metadata": {},
   "outputs": [
    {
     "data": {
      "text/html": [
       "<div>\n",
       "<style scoped>\n",
       "    .dataframe tbody tr th:only-of-type {\n",
       "        vertical-align: middle;\n",
       "    }\n",
       "\n",
       "    .dataframe tbody tr th {\n",
       "        vertical-align: top;\n",
       "    }\n",
       "\n",
       "    .dataframe thead th {\n",
       "        text-align: right;\n",
       "    }\n",
       "</style>\n",
       "<table border=\"1\" class=\"dataframe\">\n",
       "  <thead>\n",
       "    <tr style=\"text-align: right;\">\n",
       "      <th></th>\n",
       "      <th>Title</th>\n",
       "      <th>Description or Summary</th>\n",
       "      <th>Start date</th>\n",
       "      <th>End date</th>\n",
       "      <th>Institutions/Partners</th>\n",
       "      <th>Affiliate/Organization</th>\n",
       "      <th>Region</th>\n",
       "      <th>Country</th>\n",
       "      <th>Main focal point</th>\n",
       "      <th>Main Activities</th>\n",
       "      <th>...</th>\n",
       "      <th>Funding</th>\n",
       "      <th>Evaluation</th>\n",
       "      <th>Case Study</th>\n",
       "      <th>Newsletter articles</th>\n",
       "      <th>Other documentation</th>\n",
       "      <th>Media</th>\n",
       "      <th>Number of pages created</th>\n",
       "      <th>Number of bytes added</th>\n",
       "      <th>Number of participants</th>\n",
       "      <th>Number of Influenced Policies</th>\n",
       "    </tr>\n",
       "  </thead>\n",
       "  <tbody>\n",
       "    <tr>\n",
       "      <th>0</th>\n",
       "      <td>WikiAcademy Albania</td>\n",
       "      <td>Albanian speaking Wikimedians started organizi...</td>\n",
       "      <td>2013</td>\n",
       "      <td>NaN</td>\n",
       "      <td>NaN</td>\n",
       "      <td>Wikimedians of Albanian language UG</td>\n",
       "      <td>Eastern Europe</td>\n",
       "      <td>Albania</td>\n",
       "      <td>Greta Doçi</td>\n",
       "      <td>Editing training</td>\n",
       "      <td>...</td>\n",
       "      <td>Grants</td>\n",
       "      <td>No</td>\n",
       "      <td>No</td>\n",
       "      <td>No</td>\n",
       "      <td>NaN</td>\n",
       "      <td>https://meta.wikimedia.org/wiki/Grants:IEG/Wik...</td>\n",
       "      <td>NaN</td>\n",
       "      <td>NaN</td>\n",
       "      <td>NaN</td>\n",
       "      <td>NaN</td>\n",
       "    </tr>\n",
       "    <tr>\n",
       "      <th>1</th>\n",
       "      <td>Wikipedia Education Project Algeria</td>\n",
       "      <td>Familiarizing students with Wikipedia and expl...</td>\n",
       "      <td>2012</td>\n",
       "      <td>2018</td>\n",
       "      <td>University of Medea</td>\n",
       "      <td>Algeria Wikimedians UG</td>\n",
       "      <td>Northern Africa</td>\n",
       "      <td>Algeria</td>\n",
       "      <td>Fareh Abdelhak</td>\n",
       "      <td>Editing training</td>\n",
       "      <td>...</td>\n",
       "      <td>NaN</td>\n",
       "      <td>No</td>\n",
       "      <td>No</td>\n",
       "      <td>No</td>\n",
       "      <td>NaN</td>\n",
       "      <td>https://commons.wikimedia.org/wiki/Category:Wi...</td>\n",
       "      <td>NaN</td>\n",
       "      <td>NaN</td>\n",
       "      <td>NaN</td>\n",
       "      <td>NaN</td>\n",
       "    </tr>\n",
       "    <tr>\n",
       "      <th>2</th>\n",
       "      <td>Wikipedia en tu universidad</td>\n",
       "      <td>3 training sessions (3 days of work) for unive...</td>\n",
       "      <td>2015</td>\n",
       "      <td>We organized it on demand, we launch at the be...</td>\n",
       "      <td>Various public and private universities in the...</td>\n",
       "      <td>Wikimedia Argentina</td>\n",
       "      <td>South America</td>\n",
       "      <td>Argentina</td>\n",
       "      <td>Luisina Ferrante, Florencia Guastavino</td>\n",
       "      <td>Editing training</td>\n",
       "      <td>...</td>\n",
       "      <td>WMF APG</td>\n",
       "      <td>NaN</td>\n",
       "      <td>No</td>\n",
       "      <td>https://outreach.wikimedia.org/wiki/Education/...</td>\n",
       "      <td>NaN</td>\n",
       "      <td>http://wikimedia.org.ar/programadeeducacion/ot...</td>\n",
       "      <td>NaN</td>\n",
       "      <td>NaN</td>\n",
       "      <td>NaN</td>\n",
       "      <td>NaN</td>\n",
       "    </tr>\n",
       "    <tr>\n",
       "      <th>3</th>\n",
       "      <td>Online course: “Bridges for a free, digital, s...</td>\n",
       "      <td>Two online training courses for educators, of ...</td>\n",
       "      <td>2015</td>\n",
       "      <td>NaN</td>\n",
       "      <td>we partner specifically for the communication ...</td>\n",
       "      <td>Wikimedia Argentina</td>\n",
       "      <td>South America</td>\n",
       "      <td>Argentina</td>\n",
       "      <td>Luisina Ferrante, Florencia Guastavino</td>\n",
       "      <td>Editing training</td>\n",
       "      <td>...</td>\n",
       "      <td>WMF APG</td>\n",
       "      <td>NaN</td>\n",
       "      <td>No</td>\n",
       "      <td>https://outreach.wikimedia.org/wiki/Education/...</td>\n",
       "      <td>NaN</td>\n",
       "      <td>http://wikimedia.org.ar/programadeeducacion/ot...</td>\n",
       "      <td>NaN</td>\n",
       "      <td>NaN</td>\n",
       "      <td>NaN</td>\n",
       "      <td>NaN</td>\n",
       "    </tr>\n",
       "    <tr>\n",
       "      <th>4</th>\n",
       "      <td>Editing Clubs with high school students</td>\n",
       "      <td>Training sessions for educators that provide t...</td>\n",
       "      <td>2017</td>\n",
       "      <td>we define with each institution and partner th...</td>\n",
       "      <td>Partnerships with local instances of the Minis...</td>\n",
       "      <td>Wikimedia Argentina</td>\n",
       "      <td>South America</td>\n",
       "      <td>Argentina</td>\n",
       "      <td>Luisina Ferrante, Florencia Guastavino</td>\n",
       "      <td>Editing training</td>\n",
       "      <td>...</td>\n",
       "      <td>WMF APG</td>\n",
       "      <td>NaN</td>\n",
       "      <td>No</td>\n",
       "      <td>NaN</td>\n",
       "      <td>NaN</td>\n",
       "      <td>http://wikimedia.org.ar/clubesdeedicion/, http...</td>\n",
       "      <td>NaN</td>\n",
       "      <td>NaN</td>\n",
       "      <td>NaN</td>\n",
       "      <td>NaN</td>\n",
       "    </tr>\n",
       "  </tbody>\n",
       "</table>\n",
       "<p>5 rows × 26 columns</p>\n",
       "</div>"
      ],
      "text/plain": [
       "                                               Title  \\\n",
       "0                               WikiAcademy Albania    \n",
       "1                Wikipedia Education Project Algeria   \n",
       "2                        Wikipedia en tu universidad   \n",
       "3  Online course: “Bridges for a free, digital, s...   \n",
       "4            Editing Clubs with high school students   \n",
       "\n",
       "                              Description or Summary Start date  \\\n",
       "0  Albanian speaking Wikimedians started organizi...       2013   \n",
       "1  Familiarizing students with Wikipedia and expl...       2012   \n",
       "2  3 training sessions (3 days of work) for unive...       2015   \n",
       "3  Two online training courses for educators, of ...       2015   \n",
       "4  Training sessions for educators that provide t...       2017   \n",
       "\n",
       "                                            End date  \\\n",
       "0                                                NaN   \n",
       "1                                               2018   \n",
       "2  We organized it on demand, we launch at the be...   \n",
       "3                                                NaN   \n",
       "4  we define with each institution and partner th...   \n",
       "\n",
       "                               Institutions/Partners  \\\n",
       "0                                                NaN   \n",
       "1                                University of Medea   \n",
       "2  Various public and private universities in the...   \n",
       "3  we partner specifically for the communication ...   \n",
       "4  Partnerships with local instances of the Minis...   \n",
       "\n",
       "                Affiliate/Organization           Region    Country  \\\n",
       "0  Wikimedians of Albanian language UG   Eastern Europe    Albania   \n",
       "1               Algeria Wikimedians UG  Northern Africa    Algeria   \n",
       "2                  Wikimedia Argentina    South America  Argentina   \n",
       "3                  Wikimedia Argentina    South America  Argentina   \n",
       "4                  Wikimedia Argentina    South America  Argentina   \n",
       "\n",
       "                         Main focal point    Main Activities  ...  Funding  \\\n",
       "0                              Greta Doçi   Editing training  ...   Grants   \n",
       "1                          Fareh Abdelhak   Editing training  ...      NaN   \n",
       "2  Luisina Ferrante, Florencia Guastavino   Editing training  ...  WMF APG   \n",
       "3  Luisina Ferrante, Florencia Guastavino   Editing training  ...  WMF APG   \n",
       "4  Luisina Ferrante, Florencia Guastavino   Editing training  ...  WMF APG   \n",
       "\n",
       "  Evaluation Case Study                                Newsletter articles  \\\n",
       "0         No         No                                                 No   \n",
       "1         No         No                                                 No   \n",
       "2        NaN         No  https://outreach.wikimedia.org/wiki/Education/...   \n",
       "3        NaN         No  https://outreach.wikimedia.org/wiki/Education/...   \n",
       "4        NaN         No                                                NaN   \n",
       "\n",
       "  Other documentation                                              Media  \\\n",
       "0                 NaN  https://meta.wikimedia.org/wiki/Grants:IEG/Wik...   \n",
       "1                 NaN  https://commons.wikimedia.org/wiki/Category:Wi...   \n",
       "2                 NaN  http://wikimedia.org.ar/programadeeducacion/ot...   \n",
       "3                 NaN  http://wikimedia.org.ar/programadeeducacion/ot...   \n",
       "4                 NaN  http://wikimedia.org.ar/clubesdeedicion/, http...   \n",
       "\n",
       "  Number of pages created Number of bytes added Number of participants  \\\n",
       "0                     NaN                   NaN                    NaN   \n",
       "1                     NaN                   NaN                    NaN   \n",
       "2                     NaN                   NaN                    NaN   \n",
       "3                     NaN                   NaN                    NaN   \n",
       "4                     NaN                   NaN                    NaN   \n",
       "\n",
       "  Number of Influenced Policies  \n",
       "0                           NaN  \n",
       "1                           NaN  \n",
       "2                           NaN  \n",
       "3                           NaN  \n",
       "4                           NaN  \n",
       "\n",
       "[5 rows x 26 columns]"
      ]
     },
     "execution_count": 1,
     "metadata": {},
     "output_type": "execute_result"
    }
   ],
   "source": [
    "# load dataset\n",
    "import pandas as pd\n",
    "\n",
    "#https://docs.google.com/spreadsheets/d/1LJdsqxmhnTbGe2djTz1EbuJ85TVx3gQ6jj0Qlj1pZ9k/edit#gid=509961721\n",
    "URL = 'https://drive.google.com/file/d/1U-MCsVWArIeQYPQ8xvZ2_82ePOhbZ8wJ/view?usp=sharing'\n",
    "path = 'https://drive.google.com/uc?export=download&id='+ URL.split('/')[-2]\n",
    "\n",
    "data = pd.read_csv(path) #, dtype=\"string\"\n",
    "data.drop(\"QID\", axis=1, inplace=True)\n",
    "data.rename(columns={\"LEN\": \"Title\"}, inplace=True) # rename column Title of Project or activity\n",
    "data.head()"
   ]
  },
  {
   "cell_type": "code",
   "execution_count": 3,
   "metadata": {},
   "outputs": [],
   "source": [
    "DataPoints = int((data.shape[0]) * 0.7)\n",
    "trainDataset_1 = data[:DataPoints]\n",
    "testDataset_1 = data[DataPoints:]\n",
    "trainDataset_1.to_csv('trainDataset.csv', index=False)\n",
    "testDataset_1.to_csv(\"testDataset.csv\", index=False)"
   ]
  },
  {
   "cell_type": "code",
   "execution_count": 3,
   "metadata": {},
   "outputs": [
    {
     "data": {
      "text/html": [
       "<div>\n",
       "<style scoped>\n",
       "    .dataframe tbody tr th:only-of-type {\n",
       "        vertical-align: middle;\n",
       "    }\n",
       "\n",
       "    .dataframe tbody tr th {\n",
       "        vertical-align: top;\n",
       "    }\n",
       "\n",
       "    .dataframe thead th {\n",
       "        text-align: right;\n",
       "    }\n",
       "</style>\n",
       "<table border=\"1\" class=\"dataframe\">\n",
       "  <thead>\n",
       "    <tr style=\"text-align: right;\">\n",
       "      <th></th>\n",
       "      <th>Title</th>\n",
       "      <th>Description or Summary</th>\n",
       "      <th>Start date</th>\n",
       "      <th>End date</th>\n",
       "      <th>Institutions/Partners</th>\n",
       "      <th>Affiliate/Organization</th>\n",
       "      <th>Region</th>\n",
       "      <th>Country</th>\n",
       "      <th>Main focal point</th>\n",
       "      <th>Main Activities</th>\n",
       "      <th>...</th>\n",
       "      <th>Funding</th>\n",
       "      <th>Evaluation</th>\n",
       "      <th>Case Study</th>\n",
       "      <th>Newsletter articles</th>\n",
       "      <th>Other documentation</th>\n",
       "      <th>Media</th>\n",
       "      <th>Number of pages created</th>\n",
       "      <th>Number of bytes added</th>\n",
       "      <th>Number of participants</th>\n",
       "      <th>Number of Influenced Policies</th>\n",
       "    </tr>\n",
       "  </thead>\n",
       "  <tbody>\n",
       "    <tr>\n",
       "      <th>0</th>\n",
       "      <td>WikiAcademy Albania</td>\n",
       "      <td>Albanian speaking Wikimedians started organizi...</td>\n",
       "      <td>2013</td>\n",
       "      <td>NaN</td>\n",
       "      <td>NaN</td>\n",
       "      <td>Wikimedians of Albanian language UG</td>\n",
       "      <td>Eastern Europe</td>\n",
       "      <td>Albania</td>\n",
       "      <td>Greta Doçi</td>\n",
       "      <td>Editing training</td>\n",
       "      <td>...</td>\n",
       "      <td>Grants</td>\n",
       "      <td>No</td>\n",
       "      <td>No</td>\n",
       "      <td>No</td>\n",
       "      <td>NaN</td>\n",
       "      <td>https://meta.wikimedia.org/wiki/Grants:IEG/Wik...</td>\n",
       "      <td>NaN</td>\n",
       "      <td>NaN</td>\n",
       "      <td>NaN</td>\n",
       "      <td>NaN</td>\n",
       "    </tr>\n",
       "    <tr>\n",
       "      <th>1</th>\n",
       "      <td>Wikipedia Education Project Algeria</td>\n",
       "      <td>Familiarizing students with Wikipedia and expl...</td>\n",
       "      <td>2012</td>\n",
       "      <td>2018</td>\n",
       "      <td>University of Medea</td>\n",
       "      <td>Algeria Wikimedians UG</td>\n",
       "      <td>Northern Africa</td>\n",
       "      <td>Algeria</td>\n",
       "      <td>Fareh Abdelhak</td>\n",
       "      <td>Editing training</td>\n",
       "      <td>...</td>\n",
       "      <td>NaN</td>\n",
       "      <td>No</td>\n",
       "      <td>No</td>\n",
       "      <td>No</td>\n",
       "      <td>NaN</td>\n",
       "      <td>https://commons.wikimedia.org/wiki/Category:Wi...</td>\n",
       "      <td>NaN</td>\n",
       "      <td>NaN</td>\n",
       "      <td>NaN</td>\n",
       "      <td>NaN</td>\n",
       "    </tr>\n",
       "    <tr>\n",
       "      <th>2</th>\n",
       "      <td>Wikipedia en tu universidad</td>\n",
       "      <td>3 training sessions (3 days of work) for unive...</td>\n",
       "      <td>2015</td>\n",
       "      <td>We organized it on demand, we launch at the be...</td>\n",
       "      <td>Various public and private universities in the...</td>\n",
       "      <td>Wikimedia Argentina</td>\n",
       "      <td>South America</td>\n",
       "      <td>Argentina</td>\n",
       "      <td>Luisina Ferrante, Florencia Guastavino</td>\n",
       "      <td>Editing training</td>\n",
       "      <td>...</td>\n",
       "      <td>WMF APG</td>\n",
       "      <td>NaN</td>\n",
       "      <td>No</td>\n",
       "      <td>https://outreach.wikimedia.org/wiki/Education/...</td>\n",
       "      <td>NaN</td>\n",
       "      <td>http://wikimedia.org.ar/programadeeducacion/ot...</td>\n",
       "      <td>NaN</td>\n",
       "      <td>NaN</td>\n",
       "      <td>NaN</td>\n",
       "      <td>NaN</td>\n",
       "    </tr>\n",
       "    <tr>\n",
       "      <th>3</th>\n",
       "      <td>Online course: “Bridges for a free, digital, s...</td>\n",
       "      <td>Two online training courses for educators, of ...</td>\n",
       "      <td>2015</td>\n",
       "      <td>NaN</td>\n",
       "      <td>we partner specifically for the communication ...</td>\n",
       "      <td>Wikimedia Argentina</td>\n",
       "      <td>South America</td>\n",
       "      <td>Argentina</td>\n",
       "      <td>Luisina Ferrante, Florencia Guastavino</td>\n",
       "      <td>Editing training</td>\n",
       "      <td>...</td>\n",
       "      <td>WMF APG</td>\n",
       "      <td>NaN</td>\n",
       "      <td>No</td>\n",
       "      <td>https://outreach.wikimedia.org/wiki/Education/...</td>\n",
       "      <td>NaN</td>\n",
       "      <td>http://wikimedia.org.ar/programadeeducacion/ot...</td>\n",
       "      <td>NaN</td>\n",
       "      <td>NaN</td>\n",
       "      <td>NaN</td>\n",
       "      <td>NaN</td>\n",
       "    </tr>\n",
       "    <tr>\n",
       "      <th>4</th>\n",
       "      <td>Editing Clubs with high school students</td>\n",
       "      <td>Training sessions for educators that provide t...</td>\n",
       "      <td>2017</td>\n",
       "      <td>we define with each institution and partner th...</td>\n",
       "      <td>Partnerships with local instances of the Minis...</td>\n",
       "      <td>Wikimedia Argentina</td>\n",
       "      <td>South America</td>\n",
       "      <td>Argentina</td>\n",
       "      <td>Luisina Ferrante, Florencia Guastavino</td>\n",
       "      <td>Editing training</td>\n",
       "      <td>...</td>\n",
       "      <td>WMF APG</td>\n",
       "      <td>NaN</td>\n",
       "      <td>No</td>\n",
       "      <td>NaN</td>\n",
       "      <td>NaN</td>\n",
       "      <td>http://wikimedia.org.ar/clubesdeedicion/, http...</td>\n",
       "      <td>NaN</td>\n",
       "      <td>NaN</td>\n",
       "      <td>NaN</td>\n",
       "      <td>NaN</td>\n",
       "    </tr>\n",
       "  </tbody>\n",
       "</table>\n",
       "<p>5 rows × 26 columns</p>\n",
       "</div>"
      ],
      "text/plain": [
       "                                               Title  \\\n",
       "0                               WikiAcademy Albania    \n",
       "1                Wikipedia Education Project Algeria   \n",
       "2                        Wikipedia en tu universidad   \n",
       "3  Online course: “Bridges for a free, digital, s...   \n",
       "4            Editing Clubs with high school students   \n",
       "\n",
       "                              Description or Summary Start date  \\\n",
       "0  Albanian speaking Wikimedians started organizi...       2013   \n",
       "1  Familiarizing students with Wikipedia and expl...       2012   \n",
       "2  3 training sessions (3 days of work) for unive...       2015   \n",
       "3  Two online training courses for educators, of ...       2015   \n",
       "4  Training sessions for educators that provide t...       2017   \n",
       "\n",
       "                                            End date  \\\n",
       "0                                                NaN   \n",
       "1                                               2018   \n",
       "2  We organized it on demand, we launch at the be...   \n",
       "3                                                NaN   \n",
       "4  we define with each institution and partner th...   \n",
       "\n",
       "                               Institutions/Partners  \\\n",
       "0                                                NaN   \n",
       "1                                University of Medea   \n",
       "2  Various public and private universities in the...   \n",
       "3  we partner specifically for the communication ...   \n",
       "4  Partnerships with local instances of the Minis...   \n",
       "\n",
       "                Affiliate/Organization           Region    Country  \\\n",
       "0  Wikimedians of Albanian language UG   Eastern Europe    Albania   \n",
       "1               Algeria Wikimedians UG  Northern Africa    Algeria   \n",
       "2                  Wikimedia Argentina    South America  Argentina   \n",
       "3                  Wikimedia Argentina    South America  Argentina   \n",
       "4                  Wikimedia Argentina    South America  Argentina   \n",
       "\n",
       "                         Main focal point    Main Activities  ...  Funding  \\\n",
       "0                              Greta Doçi   Editing training  ...   Grants   \n",
       "1                          Fareh Abdelhak   Editing training  ...      NaN   \n",
       "2  Luisina Ferrante, Florencia Guastavino   Editing training  ...  WMF APG   \n",
       "3  Luisina Ferrante, Florencia Guastavino   Editing training  ...  WMF APG   \n",
       "4  Luisina Ferrante, Florencia Guastavino   Editing training  ...  WMF APG   \n",
       "\n",
       "  Evaluation Case Study                                Newsletter articles  \\\n",
       "0         No         No                                                 No   \n",
       "1         No         No                                                 No   \n",
       "2        NaN         No  https://outreach.wikimedia.org/wiki/Education/...   \n",
       "3        NaN         No  https://outreach.wikimedia.org/wiki/Education/...   \n",
       "4        NaN         No                                                NaN   \n",
       "\n",
       "  Other documentation                                              Media  \\\n",
       "0                 NaN  https://meta.wikimedia.org/wiki/Grants:IEG/Wik...   \n",
       "1                 NaN  https://commons.wikimedia.org/wiki/Category:Wi...   \n",
       "2                 NaN  http://wikimedia.org.ar/programadeeducacion/ot...   \n",
       "3                 NaN  http://wikimedia.org.ar/programadeeducacion/ot...   \n",
       "4                 NaN  http://wikimedia.org.ar/clubesdeedicion/, http...   \n",
       "\n",
       "  Number of pages created Number of bytes added Number of participants  \\\n",
       "0                     NaN                   NaN                    NaN   \n",
       "1                     NaN                   NaN                    NaN   \n",
       "2                     NaN                   NaN                    NaN   \n",
       "3                     NaN                   NaN                    NaN   \n",
       "4                     NaN                   NaN                    NaN   \n",
       "\n",
       "  Number of Influenced Policies  \n",
       "0                           NaN  \n",
       "1                           NaN  \n",
       "2                           NaN  \n",
       "3                           NaN  \n",
       "4                           NaN  \n",
       "\n",
       "[5 rows x 26 columns]"
      ]
     },
     "execution_count": 3,
     "metadata": {},
     "output_type": "execute_result"
    }
   ],
   "source": [
    "# https://docs.google.com/spreadsheets/d/1LJdsqxmhnTbGe2djTz1EbuJ85TVx3gQ6jj0Qlj1pZ9k/edit#gid=509961721\n",
    "import pandas as pd\n",
    "\n",
    "URL = 'https://drive.google.com/file/d/1U-MCsVWArIeQYPQ8xvZ2_82ePOhbZ8wJ/view?usp=sharing'\n",
    "path = 'https://drive.google.com/uc?export=download&id='+ URL.split('/')[-2]\n",
    "\n",
    "data = pd.read_csv(path) #, dtype=\"string\"\n",
    "data.drop(\"QID\", axis=1, inplace=True)\n",
    "data.rename(columns={\"LEN\": \"Title\"}, inplace=True) # rename column Title of Project or activity\n",
    "data.head()"
   ]
  },
  {
   "cell_type": "code",
   "execution_count": 4,
   "metadata": {},
   "outputs": [
    {
     "name": "stdout",
     "output_type": "stream",
     "text": [
      "<class 'pandas.core.frame.DataFrame'>\n",
      "RangeIndex: 197 entries, 0 to 196\n",
      "Data columns (total 26 columns):\n",
      " #   Column                         Non-Null Count  Dtype  \n",
      "---  ------                         --------------  -----  \n",
      " 0   Title                          197 non-null    object \n",
      " 1   Description or Summary         187 non-null    object \n",
      " 2   Start date                     185 non-null    object \n",
      " 3   End date                       121 non-null    object \n",
      " 4   Institutions/Partners          170 non-null    object \n",
      " 5   Affiliate/Organization         177 non-null    object \n",
      " 6   Region                         196 non-null    object \n",
      " 7   Country                        196 non-null    object \n",
      " 8   Main focal point               186 non-null    object \n",
      " 9   Main Activities                187 non-null    object \n",
      " 10  Wikimedia Projects Used        192 non-null    object \n",
      " 11  Audience                       137 non-null    object \n",
      " 12  Level of Education             189 non-null    object \n",
      " 13  SDG4 Areas                     107 non-null    object \n",
      " 14  Subject                        134 non-null    object \n",
      " 15  Skills addressed               176 non-null    object \n",
      " 16  Funding                        140 non-null    object \n",
      " 17  Evaluation                     112 non-null    object \n",
      " 18  Case Study                     151 non-null    object \n",
      " 19  Newsletter articles            117 non-null    object \n",
      " 20  Other documentation            124 non-null    object \n",
      " 21  Media                          38 non-null     object \n",
      " 22  Number of pages created        10 non-null     object \n",
      " 23  Number of bytes added          10 non-null     object \n",
      " 24  Number of participants         10 non-null     object \n",
      " 25  Number of Influenced Policies  0 non-null      float64\n",
      "dtypes: float64(1), object(25)\n",
      "memory usage: 40.1+ KB\n"
     ]
    }
   ],
   "source": [
    "data.info()"
   ]
  },
  {
   "cell_type": "code",
   "execution_count": 5,
   "metadata": {},
   "outputs": [
    {
     "data": {
      "text/plain": [
       "Index(['Title', 'Description or Summary', 'Start date', 'End date',\n",
       "       'Institutions/Partners', 'Affiliate/Organization', 'Region', 'Country',\n",
       "       'Main focal point', 'Main Activities', 'Wikimedia Projects Used',\n",
       "       'Audience', 'Level of Education', 'SDG4 Areas', 'Subject',\n",
       "       'Skills addressed', 'Funding', 'Evaluation', 'Case Study',\n",
       "       'Newsletter articles', 'Other documentation', 'Media',\n",
       "       'Number of pages created', 'Number of bytes added',\n",
       "       'Number of participants', 'Number of Influenced Policies'],\n",
       "      dtype='object')"
      ]
     },
     "execution_count": 5,
     "metadata": {},
     "output_type": "execute_result"
    }
   ],
   "source": [
    "# suggesting classes/Individuals\n",
    "data.columns"
   ]
  },
  {
   "cell_type": "code",
   "execution_count": 6,
   "metadata": {},
   "outputs": [
    {
     "data": {
      "text/plain": [
       "Language                                                          8\n",
       "History                                                           8\n",
       "Math, Science, Literature, Art, Photography, History, Language    7\n",
       "Science                                                           6\n",
       "-                                                                 5\n",
       "                                                                 ..\n",
       "Biology, Forensic Chemistry                                       1\n",
       "Computer Science and Language                                     1\n",
       "Digitisation, Skill learning                                      1\n",
       "School Wiki                                                       1\n",
       "Information management                                            1\n",
       "Name: Subject, Length: 84, dtype: int64"
      ]
     },
     "execution_count": 6,
     "metadata": {},
     "output_type": "execute_result"
    }
   ],
   "source": [
    "data['Subject'].value_counts()"
   ]
  },
  {
   "cell_type": "code",
   "execution_count": 7,
   "metadata": {},
   "outputs": [
    {
     "data": {
      "text/html": [
       "<div>\n",
       "<style scoped>\n",
       "    .dataframe tbody tr th:only-of-type {\n",
       "        vertical-align: middle;\n",
       "    }\n",
       "\n",
       "    .dataframe tbody tr th {\n",
       "        vertical-align: top;\n",
       "    }\n",
       "\n",
       "    .dataframe thead th {\n",
       "        text-align: right;\n",
       "    }\n",
       "</style>\n",
       "<table border=\"1\" class=\"dataframe\">\n",
       "  <thead>\n",
       "    <tr style=\"text-align: right;\">\n",
       "      <th></th>\n",
       "      <th>Title</th>\n",
       "      <th>Description or Summary</th>\n",
       "      <th>Start date</th>\n",
       "      <th>End date</th>\n",
       "      <th>Institutions/Partners</th>\n",
       "      <th>Region</th>\n",
       "      <th>Country</th>\n",
       "      <th>Main focal point</th>\n",
       "      <th>Main Activities</th>\n",
       "      <th>Wikimedia Projects Used</th>\n",
       "      <th>...</th>\n",
       "      <th>Funding</th>\n",
       "      <th>Evaluation</th>\n",
       "      <th>Case Study</th>\n",
       "      <th>Newsletter articles</th>\n",
       "      <th>Other documentation</th>\n",
       "      <th>Media</th>\n",
       "      <th>Number of pages created</th>\n",
       "      <th>Number of bytes added</th>\n",
       "      <th>Number of participants</th>\n",
       "      <th>Number of Influenced Policies</th>\n",
       "    </tr>\n",
       "    <tr>\n",
       "      <th>Affiliate/Organization</th>\n",
       "      <th></th>\n",
       "      <th></th>\n",
       "      <th></th>\n",
       "      <th></th>\n",
       "      <th></th>\n",
       "      <th></th>\n",
       "      <th></th>\n",
       "      <th></th>\n",
       "      <th></th>\n",
       "      <th></th>\n",
       "      <th></th>\n",
       "      <th></th>\n",
       "      <th></th>\n",
       "      <th></th>\n",
       "      <th></th>\n",
       "      <th></th>\n",
       "      <th></th>\n",
       "      <th></th>\n",
       "      <th></th>\n",
       "      <th></th>\n",
       "      <th></th>\n",
       "    </tr>\n",
       "  </thead>\n",
       "  <tbody>\n",
       "    <tr>\n",
       "      <th>Wikimedia CH</th>\n",
       "      <td>2</td>\n",
       "      <td>0</td>\n",
       "      <td>2</td>\n",
       "      <td>0</td>\n",
       "      <td>2</td>\n",
       "      <td>2</td>\n",
       "      <td>2</td>\n",
       "      <td>0</td>\n",
       "      <td>2</td>\n",
       "      <td>2</td>\n",
       "      <td>...</td>\n",
       "      <td>2</td>\n",
       "      <td>0</td>\n",
       "      <td>0</td>\n",
       "      <td>0</td>\n",
       "      <td>0</td>\n",
       "      <td>0</td>\n",
       "      <td>0</td>\n",
       "      <td>0</td>\n",
       "      <td>0</td>\n",
       "      <td>0</td>\n",
       "    </tr>\n",
       "  </tbody>\n",
       "</table>\n",
       "<p>1 rows × 25 columns</p>\n",
       "</div>"
      ],
      "text/plain": [
       "                        Title  Description or Summary  Start date  End date  \\\n",
       "Affiliate/Organization                                                        \n",
       "Wikimedia CH                2                       0           2         0   \n",
       "\n",
       "                        Institutions/Partners  Region  Country  \\\n",
       "Affiliate/Organization                                           \n",
       "Wikimedia CH                                2       2        2   \n",
       "\n",
       "                        Main focal point  Main Activities  \\\n",
       "Affiliate/Organization                                      \n",
       "Wikimedia CH                           0                2   \n",
       "\n",
       "                        Wikimedia Projects Used  ...  Funding  Evaluation  \\\n",
       "Affiliate/Organization                           ...                        \n",
       "Wikimedia CH                                  2  ...        2           0   \n",
       "\n",
       "                        Case Study  Newsletter articles  Other documentation  \\\n",
       "Affiliate/Organization                                                         \n",
       "Wikimedia CH                     0                    0                    0   \n",
       "\n",
       "                        Media  Number of pages created  Number of bytes added  \\\n",
       "Affiliate/Organization                                                          \n",
       "Wikimedia CH                0                        0                      0   \n",
       "\n",
       "                        Number of participants  Number of Influenced Policies  \n",
       "Affiliate/Organization                                                         \n",
       "Wikimedia CH                                 0                              0  \n",
       "\n",
       "[1 rows x 25 columns]"
      ]
     },
     "execution_count": 7,
     "metadata": {},
     "output_type": "execute_result"
    }
   ],
   "source": [
    "data[data['Affiliate/Organization'] == 'Wikimedia CH'].groupby('Affiliate/Organization').count()"
   ]
  },
  {
   "cell_type": "code",
   "execution_count": 8,
   "metadata": {},
   "outputs": [
    {
     "data": {
      "text/html": [
       "<div>\n",
       "<style scoped>\n",
       "    .dataframe tbody tr th:only-of-type {\n",
       "        vertical-align: middle;\n",
       "    }\n",
       "\n",
       "    .dataframe tbody tr th {\n",
       "        vertical-align: top;\n",
       "    }\n",
       "\n",
       "    .dataframe thead th {\n",
       "        text-align: right;\n",
       "    }\n",
       "</style>\n",
       "<table border=\"1\" class=\"dataframe\">\n",
       "  <thead>\n",
       "    <tr style=\"text-align: right;\">\n",
       "      <th></th>\n",
       "      <th>Title</th>\n",
       "      <th>Description or Summary</th>\n",
       "      <th>Start date</th>\n",
       "      <th>End date</th>\n",
       "      <th>Institutions/Partners</th>\n",
       "      <th>Affiliate/Organization</th>\n",
       "      <th>Region</th>\n",
       "      <th>Country</th>\n",
       "      <th>Main focal point</th>\n",
       "      <th>Main Activities</th>\n",
       "      <th>...</th>\n",
       "      <th>Funding</th>\n",
       "      <th>Evaluation</th>\n",
       "      <th>Case Study</th>\n",
       "      <th>Newsletter articles</th>\n",
       "      <th>Other documentation</th>\n",
       "      <th>Media</th>\n",
       "      <th>Number of pages created</th>\n",
       "      <th>Number of bytes added</th>\n",
       "      <th>Number of participants</th>\n",
       "      <th>Number of Influenced Policies</th>\n",
       "    </tr>\n",
       "  </thead>\n",
       "  <tbody>\n",
       "    <tr>\n",
       "      <th>78</th>\n",
       "      <td>University of Berne</td>\n",
       "      <td>NaN</td>\n",
       "      <td>2018</td>\n",
       "      <td>NaN</td>\n",
       "      <td>University of Berne</td>\n",
       "      <td>Wikimedia CH</td>\n",
       "      <td>Central Europe</td>\n",
       "      <td>Switzerland</td>\n",
       "      <td>NaN</td>\n",
       "      <td>Training, awareness</td>\n",
       "      <td>...</td>\n",
       "      <td>WMF APG</td>\n",
       "      <td>NaN</td>\n",
       "      <td>NaN</td>\n",
       "      <td>NaN</td>\n",
       "      <td>NaN</td>\n",
       "      <td>NaN</td>\n",
       "      <td>NaN</td>\n",
       "      <td>NaN</td>\n",
       "      <td>NaN</td>\n",
       "      <td>NaN</td>\n",
       "    </tr>\n",
       "    <tr>\n",
       "      <th>79</th>\n",
       "      <td>University of Neuchâtel</td>\n",
       "      <td>NaN</td>\n",
       "      <td>2018</td>\n",
       "      <td>NaN</td>\n",
       "      <td>University of Neuchâtel</td>\n",
       "      <td>Wikimedia CH</td>\n",
       "      <td>Central Europe</td>\n",
       "      <td>Switzerland</td>\n",
       "      <td>NaN</td>\n",
       "      <td>Trainining, awareness</td>\n",
       "      <td>...</td>\n",
       "      <td>WMF APG</td>\n",
       "      <td>NaN</td>\n",
       "      <td>NaN</td>\n",
       "      <td>NaN</td>\n",
       "      <td>NaN</td>\n",
       "      <td>NaN</td>\n",
       "      <td>NaN</td>\n",
       "      <td>NaN</td>\n",
       "      <td>NaN</td>\n",
       "      <td>NaN</td>\n",
       "    </tr>\n",
       "  </tbody>\n",
       "</table>\n",
       "<p>2 rows × 26 columns</p>\n",
       "</div>"
      ],
      "text/plain": [
       "                      Title Description or Summary Start date End date  \\\n",
       "78      University of Berne                    NaN       2018      NaN   \n",
       "79  University of Neuchâtel                    NaN       2018      NaN   \n",
       "\n",
       "      Institutions/Partners Affiliate/Organization          Region  \\\n",
       "78      University of Berne           Wikimedia CH  Central Europe   \n",
       "79  University of Neuchâtel           Wikimedia CH  Central Europe   \n",
       "\n",
       "        Country Main focal point        Main Activities  ...  Funding  \\\n",
       "78  Switzerland              NaN    Training, awareness  ...  WMF APG   \n",
       "79  Switzerland              NaN  Trainining, awareness  ...  WMF APG   \n",
       "\n",
       "   Evaluation Case Study Newsletter articles Other documentation Media  \\\n",
       "78        NaN        NaN                 NaN                 NaN   NaN   \n",
       "79        NaN        NaN                 NaN                 NaN   NaN   \n",
       "\n",
       "   Number of pages created Number of bytes added Number of participants  \\\n",
       "78                     NaN                   NaN                    NaN   \n",
       "79                     NaN                   NaN                    NaN   \n",
       "\n",
       "   Number of Influenced Policies  \n",
       "78                           NaN  \n",
       "79                           NaN  \n",
       "\n",
       "[2 rows x 26 columns]"
      ]
     },
     "execution_count": 8,
     "metadata": {},
     "output_type": "execute_result"
    }
   ],
   "source": [
    "data[data['Affiliate/Organization'] == 'Wikimedia CH']\n",
    "# data[data['Country'] == 'Switzerland']"
   ]
  },
  {
   "cell_type": "code",
   "execution_count": 9,
   "metadata": {},
   "outputs": [
    {
     "data": {
      "text/plain": [
       "Wikipedia                                                                       116\n",
       "Wikipedia, Commons                                                               14\n",
       "Wikipedia, Wikimedia Commons                                                      7\n",
       "Wikipedia, Wikimedia Commons, Wikidata                                            4\n",
       "Wikipedia, Commons, Wikisource                                                    3\n",
       "Wiktionary                                                                        2\n",
       "Wikimedia Commons, Wikipedia                                                      2\n",
       "Vicipéid, Wikipedia, and Wikimedia Commons                                        2\n",
       "Wikipedia and Wikimedia Commons                                                   2\n",
       "Wikimedia Commons                                                                 2\n",
       "Wikipedia, Wikisource, Incubator                                                  2\n",
       "Wikicommons                                                                       1\n",
       "Wikipedia, Wikidata                                                               1\n",
       "Wikipedia, Wikidata and Wikiversity                                               1\n",
       "wikipedia, wikimedia commons                                                      1\n",
       "Wikipedia, Commons. Wikibooks, Wikivoyage, Wikiversity, Wikisource, Wikidata      1\n",
       "Wikipedia, Commons, Wikibooks, Wikivoyage, Wikiversity, Wikisource                1\n",
       "Wikipedia, Commons, (Wikidata, Wikiversity, Wikibooks)                            1\n",
       "Wikipedia, Wikisource, Wikibooks, Commons                                         1\n",
       "none                                                                              1\n",
       "Telugu Wikipedia, Wiki Data                                                       1\n",
       "Wikidata, Wikipedia, Commons.wiki                                                 1\n",
       "Arabic Wikipedia                                                                  1\n",
       "Arabic Wikipedia & Arabic Wiktionary                                              1\n",
       "English Wikipedia and Wikidata                                                    1\n",
       "Arabic and English Wikipedia                                                      1\n",
       "Arabic and English Wikipedia and Wikidata                                         1\n",
       "Ar.wiki,en.wiki,ml,wiki& wikidata                                                 1\n",
       "tr.wiki, commons                                                                  1\n",
       "Vikidia / Wikimedia Commons                                                       1\n",
       "en.wiki, tr.wiki                                                                  1\n",
       "Wikipedia, Wikidata, Wikimedia Commons, Wikisource, MediaWiki, Wiktionary         1\n",
       "Swedish Language Wikipedia, Wikimedia Commons                                     1\n",
       "WIkipedia                                                                         1\n",
       "Wikipedia, Wikisource and Commons                                                 1\n",
       "Wikipedia, Wikidata, Wikisource, Wikimedia Commons,                               1\n",
       "Wikipedia, Wikimedia Commons                                                      1\n",
       "Wikipedia                                                                         1\n",
       "Wikipedia, Wikimedia Commons.                                                     1\n",
       "WikiLovesAfrica, WikiLovesEarth, WikiLovesWomen                                   1\n",
       "ay.wikipedia.org                                                                  1\n",
       "Wikipedia mostly, some Commons & Wikidata                                         1\n",
       "Wikiversity, Wikipedia                                                            1\n",
       "Wikipedia, Commons, Wikisource, Wikidata                                          1\n",
       "Vicipéid, Wikipedia, Wikidata and Wikimedia Commons                               1\n",
       "tr.wiki                                                                           1\n",
       "Wikidata                                                                          1\n",
       "Name: Wikimedia Projects Used, dtype: int64"
      ]
     },
     "execution_count": 9,
     "metadata": {},
     "output_type": "execute_result"
    }
   ],
   "source": [
    "data['Wikimedia Projects Used'].value_counts()"
   ]
  },
  {
   "cell_type": "code",
   "execution_count": 10,
   "metadata": {},
   "outputs": [],
   "source": [
    "contain_values = data[data['Wikimedia Projects Used'].str.contains('Wikimedia', na=False)]"
   ]
  },
  {
   "cell_type": "code",
   "execution_count": 11,
   "metadata": {},
   "outputs": [
    {
     "data": {
      "text/html": [
       "<div>\n",
       "<style scoped>\n",
       "    .dataframe tbody tr th:only-of-type {\n",
       "        vertical-align: middle;\n",
       "    }\n",
       "\n",
       "    .dataframe tbody tr th {\n",
       "        vertical-align: top;\n",
       "    }\n",
       "\n",
       "    .dataframe thead th {\n",
       "        text-align: right;\n",
       "    }\n",
       "</style>\n",
       "<table border=\"1\" class=\"dataframe\">\n",
       "  <thead>\n",
       "    <tr style=\"text-align: right;\">\n",
       "      <th></th>\n",
       "      <th>Title</th>\n",
       "      <th>Description or Summary</th>\n",
       "      <th>Start date</th>\n",
       "      <th>End date</th>\n",
       "      <th>Institutions/Partners</th>\n",
       "      <th>Affiliate/Organization</th>\n",
       "      <th>Region</th>\n",
       "      <th>Country</th>\n",
       "      <th>Main focal point</th>\n",
       "      <th>Main Activities</th>\n",
       "      <th>...</th>\n",
       "      <th>Funding</th>\n",
       "      <th>Evaluation</th>\n",
       "      <th>Case Study</th>\n",
       "      <th>Newsletter articles</th>\n",
       "      <th>Other documentation</th>\n",
       "      <th>Media</th>\n",
       "      <th>Number of pages created</th>\n",
       "      <th>Number of bytes added</th>\n",
       "      <th>Number of participants</th>\n",
       "      <th>Number of Influenced Policies</th>\n",
       "    </tr>\n",
       "  </thead>\n",
       "  <tbody>\n",
       "    <tr>\n",
       "      <th>15</th>\n",
       "      <td>Wikipedia Education Program Bulgaria</td>\n",
       "      <td>Introducing Wikipedia as a learning tool in un...</td>\n",
       "      <td>2009</td>\n",
       "      <td>2018</td>\n",
       "      <td>Sofia University, New Bulgarian University, Un...</td>\n",
       "      <td>Wikimedians of Bulgaria</td>\n",
       "      <td>Eastern Europe</td>\n",
       "      <td>Bulgaria</td>\n",
       "      <td>Spiritia, Maymay, Laveol</td>\n",
       "      <td>Research</td>\n",
       "      <td>...</td>\n",
       "      <td>NaN</td>\n",
       "      <td>No</td>\n",
       "      <td>No</td>\n",
       "      <td>NaN</td>\n",
       "      <td>https://outreach.wikimedia.org/wiki/Education/...</td>\n",
       "      <td>NaN</td>\n",
       "      <td>NaN</td>\n",
       "      <td>NaN</td>\n",
       "      <td>NaN</td>\n",
       "      <td>NaN</td>\n",
       "    </tr>\n",
       "    <tr>\n",
       "      <th>19</th>\n",
       "      <td>Photo project and outreach in China</td>\n",
       "      <td>Outreach activities and photo project on Wikim...</td>\n",
       "      <td>2015</td>\n",
       "      <td>2015</td>\n",
       "      <td>Shanghai Jiaotong University, Dalian Universit...</td>\n",
       "      <td>Wikimedia UG China</td>\n",
       "      <td>East Asia</td>\n",
       "      <td>China</td>\n",
       "      <td>Addis Wang; Wilson ye</td>\n",
       "      <td>Photo expedition</td>\n",
       "      <td>...</td>\n",
       "      <td>NaN</td>\n",
       "      <td>No</td>\n",
       "      <td>No</td>\n",
       "      <td>https://outreach.wikimedia.org/wiki/Education/...</td>\n",
       "      <td>NaN</td>\n",
       "      <td>NaN</td>\n",
       "      <td>NaN</td>\n",
       "      <td>NaN</td>\n",
       "      <td>NaN</td>\n",
       "      <td>NaN</td>\n",
       "    </tr>\n",
       "    <tr>\n",
       "      <th>26</th>\n",
       "      <td>Education program in universities - Estonia</td>\n",
       "      <td>Promotion of Wikipedia in education, productio...</td>\n",
       "      <td>2007</td>\n",
       "      <td>NaN</td>\n",
       "      <td>University of Tartu, Estonian Entrepreneurship...</td>\n",
       "      <td>Wikimedia Eesti</td>\n",
       "      <td>Eastern Europe</td>\n",
       "      <td>Estonia</td>\n",
       "      <td>Ivo Kruusamägi</td>\n",
       "      <td>Editing training</td>\n",
       "      <td>...</td>\n",
       "      <td>NaN</td>\n",
       "      <td>No</td>\n",
       "      <td>No</td>\n",
       "      <td>https://outreach.wikimedia.org/wiki/Education/...</td>\n",
       "      <td>https://outreach.wikimedia.org/wiki/Education/...</td>\n",
       "      <td>https://blog.wikimedia.org/2015/07/30/educatio...</td>\n",
       "      <td>NaN</td>\n",
       "      <td>NaN</td>\n",
       "      <td>NaN</td>\n",
       "      <td>NaN</td>\n",
       "    </tr>\n",
       "    <tr>\n",
       "      <th>30</th>\n",
       "      <td>Tartu Art School image project</td>\n",
       "      <td>Art students provide free images and pictures ...</td>\n",
       "      <td>2014</td>\n",
       "      <td>2014</td>\n",
       "      <td>University of Tartu</td>\n",
       "      <td>Wikimedia Eesti</td>\n",
       "      <td>Eastern Europe</td>\n",
       "      <td>Estonia</td>\n",
       "      <td>Kaarel Vaidla</td>\n",
       "      <td>Photo uploads</td>\n",
       "      <td>...</td>\n",
       "      <td>NaN</td>\n",
       "      <td>No</td>\n",
       "      <td>No</td>\n",
       "      <td>No</td>\n",
       "      <td>https://outreach.wikimedia.org/wiki/Education/...</td>\n",
       "      <td>NaN</td>\n",
       "      <td>NaN</td>\n",
       "      <td>NaN</td>\n",
       "      <td>NaN</td>\n",
       "      <td>NaN</td>\n",
       "    </tr>\n",
       "    <tr>\n",
       "      <th>31</th>\n",
       "      <td>Wikipedia editing for students in Finland</td>\n",
       "      <td>It has 3 courses - computer science, design, a...</td>\n",
       "      <td>2014</td>\n",
       "      <td>2018</td>\n",
       "      <td>University of Helsinki Department of Computer ...</td>\n",
       "      <td>Wikimedia Suomi</td>\n",
       "      <td>Northern Europe</td>\n",
       "      <td>Finland</td>\n",
       "      <td>Teemu Perhiö</td>\n",
       "      <td>Editing training</td>\n",
       "      <td>...</td>\n",
       "      <td>University Helsinki and Alto</td>\n",
       "      <td>No</td>\n",
       "      <td>No</td>\n",
       "      <td>No</td>\n",
       "      <td>NaN</td>\n",
       "      <td>http://informaatiomuotoilu.fi/2012/03/student-...</td>\n",
       "      <td>NaN</td>\n",
       "      <td>NaN</td>\n",
       "      <td>NaN</td>\n",
       "      <td>NaN</td>\n",
       "    </tr>\n",
       "    <tr>\n",
       "      <th>36</th>\n",
       "      <td>Valoriser ses connaissances avec Wikipédia</td>\n",
       "      <td>The goal is to guide PhD students or young res...</td>\n",
       "      <td>2009</td>\n",
       "      <td>2018</td>\n",
       "      <td>Lille Nord University of France</td>\n",
       "      <td>Wikimedia France</td>\n",
       "      <td>Western Europe</td>\n",
       "      <td>France</td>\n",
       "      <td>Nathalie Martin</td>\n",
       "      <td>research, student editing</td>\n",
       "      <td>...</td>\n",
       "      <td>NaN</td>\n",
       "      <td>NaN</td>\n",
       "      <td>NaN</td>\n",
       "      <td>NaN</td>\n",
       "      <td>https://fr.wikipedia.org/wiki/Projet:Valoriser...</td>\n",
       "      <td>NaN</td>\n",
       "      <td>NaN</td>\n",
       "      <td>NaN</td>\n",
       "      <td>NaN</td>\n",
       "      <td>NaN</td>\n",
       "    </tr>\n",
       "    <tr>\n",
       "      <th>97</th>\n",
       "      <td>WikiChallenge Ecoles d'Afrique</td>\n",
       "      <td>Primary school students writing encyclopedic a...</td>\n",
       "      <td>9/1/2017</td>\n",
       "      <td>NaN</td>\n",
       "      <td>Orange Foundation</td>\n",
       "      <td>WikiAfrica</td>\n",
       "      <td>Eastern Africa, Middle Africa, Western Africa,...</td>\n",
       "      <td>Tunisia, Madagascar, Cameroon, Niger, Guinea, ...</td>\n",
       "      <td>Florence Devouard</td>\n",
       "      <td>Editor Training, Teacher Training, Photo exped...</td>\n",
       "      <td>...</td>\n",
       "      <td>Orange Foundation</td>\n",
       "      <td>no</td>\n",
       "      <td>https://commons.wikimedia.org/wiki/File:WikiCh...</td>\n",
       "      <td>Several in the Education newsletter</td>\n",
       "      <td>https://fr.vikidia.org/wiki/Projet:WikiChallen...</td>\n",
       "      <td>NaN</td>\n",
       "      <td>NaN</td>\n",
       "      <td>NaN</td>\n",
       "      <td>NaN</td>\n",
       "      <td>NaN</td>\n",
       "    </tr>\n",
       "    <tr>\n",
       "      <th>98</th>\n",
       "      <td>VVIT WikiConnect</td>\n",
       "      <td>VVIT WikiConnect is a student organization fro...</td>\n",
       "      <td>11/6/2017</td>\n",
       "      <td>NaN</td>\n",
       "      <td>Vasireddy Venkatadri Institute of Technology</td>\n",
       "      <td>NaN</td>\n",
       "      <td>Southern Asia</td>\n",
       "      <td>India</td>\n",
       "      <td>Krishna Chaitanya Velaga</td>\n",
       "      <td>WikiClub, Editor Training, Teacher Training, T...</td>\n",
       "      <td>...</td>\n",
       "      <td>Wikimedia Foundation, CIS-A2K</td>\n",
       "      <td>https://meta.wikimedia.org/wiki/Grants:Project...</td>\n",
       "      <td>NaN</td>\n",
       "      <td>https://outreach.wikimedia.org/wiki/Category:V...</td>\n",
       "      <td>NaN</td>\n",
       "      <td>NaN</td>\n",
       "      <td>NaN</td>\n",
       "      <td>NaN</td>\n",
       "      <td>NaN</td>\n",
       "      <td>NaN</td>\n",
       "    </tr>\n",
       "    <tr>\n",
       "      <th>100</th>\n",
       "      <td>Writing Cultural History on Wikipedia</td>\n",
       "      <td>12th grade (final year) students at Swedish hi...</td>\n",
       "      <td>9/1/2016</td>\n",
       "      <td>4/1/2019</td>\n",
       "      <td>6 Swedish high schools</td>\n",
       "      <td>Wikimedia Sverige</td>\n",
       "      <td>Northern Europe</td>\n",
       "      <td>Sweden</td>\n",
       "      <td>Aron Ambrosiani</td>\n",
       "      <td>Editor Training, Teacher Training, Digitization</td>\n",
       "      <td>...</td>\n",
       "      <td>None</td>\n",
       "      <td>No structured evaluation</td>\n",
       "      <td>Has been presented in Swedish in http://libris...</td>\n",
       "      <td>NaN</td>\n",
       "      <td>some articles in Swedish can be found at https...</td>\n",
       "      <td>NaN</td>\n",
       "      <td>NaN</td>\n",
       "      <td>NaN</td>\n",
       "      <td>NaN</td>\n",
       "      <td>NaN</td>\n",
       "    </tr>\n",
       "    <tr>\n",
       "      <th>104</th>\n",
       "      <td>University of Edinburgh Wikimedian in Residence</td>\n",
       "      <td>The University of Edinburgh residency is to fa...</td>\n",
       "      <td>1/11/2016</td>\n",
       "      <td>NaN</td>\n",
       "      <td>University of Edinburgh</td>\n",
       "      <td>Wikimedia UK (and Wikimedia Scotland #ScotWiki)</td>\n",
       "      <td>Western Europe, Northern Europe</td>\n",
       "      <td>Scotland</td>\n",
       "      <td>Ewan McAndrew</td>\n",
       "      <td>Editor Training, Teacher Training, Research, T...</td>\n",
       "      <td>...</td>\n",
       "      <td>University of Edinburgh</td>\n",
       "      <td>https://en.wikipedia.org/wiki/Wikipedia:Univer...</td>\n",
       "      <td>https://www.jisc.ac.uk/news/turning-students-f...</td>\n",
       "      <td>https://blog.wikimedia.org.uk/2019/06/universi...</td>\n",
       "      <td>https://thinking.is.ed.ac.uk/wir/</td>\n",
       "      <td>NaN</td>\n",
       "      <td>NaN</td>\n",
       "      <td>NaN</td>\n",
       "      <td>NaN</td>\n",
       "      <td>NaN</td>\n",
       "    </tr>\n",
       "    <tr>\n",
       "      <th>105</th>\n",
       "      <td>Wikimedia Indonesia Education Program 2018</td>\n",
       "      <td>The goal of this program is to: \\n1. Raise an ...</td>\n",
       "      <td>NaN</td>\n",
       "      <td>NaN</td>\n",
       "      <td>Universitas Negeri Yogyakarta, Universitas PGR...</td>\n",
       "      <td>Wikimedia Indonesia</td>\n",
       "      <td>Southeastern Asia</td>\n",
       "      <td>Indonesia</td>\n",
       "      <td>Raymond Sutanto, Nur Rahmi Nailah</td>\n",
       "      <td>Editor Training, Teacher Training, Translation...</td>\n",
       "      <td>...</td>\n",
       "      <td>Wikimedia Foundation, in-kind donation</td>\n",
       "      <td>https://meta.wikimedia.org/wiki/Grants:APG/Pro...</td>\n",
       "      <td>NaN</td>\n",
       "      <td>NaN</td>\n",
       "      <td>NaN</td>\n",
       "      <td>NaN</td>\n",
       "      <td>NaN</td>\n",
       "      <td>NaN</td>\n",
       "      <td>NaN</td>\n",
       "      <td>NaN</td>\n",
       "    </tr>\n",
       "    <tr>\n",
       "      <th>106</th>\n",
       "      <td>Wikimedia Indonesia Education Program 2019</td>\n",
       "      <td>The goal of this program is to: \\n1. Raise an ...</td>\n",
       "      <td>NaN</td>\n",
       "      <td>NaN</td>\n",
       "      <td>Universitas Gadjah Mada, Universitas Negeri Yo...</td>\n",
       "      <td>Wikimedia Indonesia</td>\n",
       "      <td>Southeastern Asia</td>\n",
       "      <td>Indonesia</td>\n",
       "      <td>Raymond Sutanto, Nur Rahmi Nailah</td>\n",
       "      <td>Editor Training, Teacher Training, Translation...</td>\n",
       "      <td>...</td>\n",
       "      <td>Wikimedia Foundation, in-kind donation</td>\n",
       "      <td>not yet</td>\n",
       "      <td>none</td>\n",
       "      <td>https://outreach.wikimedia.org/wiki/Education/...</td>\n",
       "      <td>none</td>\n",
       "      <td>NaN</td>\n",
       "      <td>NaN</td>\n",
       "      <td>NaN</td>\n",
       "      <td>NaN</td>\n",
       "      <td>NaN</td>\n",
       "    </tr>\n",
       "    <tr>\n",
       "      <th>110</th>\n",
       "      <td>Community Service with Wikipedia</td>\n",
       "      <td>Improving information on Wikipedia about speci...</td>\n",
       "      <td>11/1/2016</td>\n",
       "      <td>NaN</td>\n",
       "      <td>Pontificia Universidad Católica de Ecuador</td>\n",
       "      <td>Wikimedistas de Ecuador</td>\n",
       "      <td>South America</td>\n",
       "      <td>Ecuador</td>\n",
       "      <td>Edgar Rosero Villacís</td>\n",
       "      <td>Editor Training, Teacher Training, Partnerships</td>\n",
       "      <td>...</td>\n",
       "      <td>Funds from Pontificia Universidad Católica de ...</td>\n",
       "      <td>https://issuu.com/freddycoello/docs/buenas_pra...</td>\n",
       "      <td>No</td>\n",
       "      <td>https://outreach.wikimedia.org/wiki/Education/...</td>\n",
       "      <td>https://www.eltelegrafo.com.ec/noticias/cultur...</td>\n",
       "      <td>NaN</td>\n",
       "      <td>NaN</td>\n",
       "      <td>NaN</td>\n",
       "      <td>NaN</td>\n",
       "      <td>NaN</td>\n",
       "    </tr>\n",
       "    <tr>\n",
       "      <th>120</th>\n",
       "      <td>Digicomp Skills in UCD</td>\n",
       "      <td>Working with a lecturer in the School of Infor...</td>\n",
       "      <td>09/09/2014</td>\n",
       "      <td>NaN</td>\n",
       "      <td>University College Dublin</td>\n",
       "      <td>Wikimedia Community Ireland</td>\n",
       "      <td>Dublin</td>\n",
       "      <td>Republic of Ireland</td>\n",
       "      <td>Rebecca O'Neill</td>\n",
       "      <td>Editor and tutor training</td>\n",
       "      <td>...</td>\n",
       "      <td>Simple APG</td>\n",
       "      <td>NaN</td>\n",
       "      <td>NaN</td>\n",
       "      <td>NaN</td>\n",
       "      <td>https://journals.openedition.org/netcom/3893</td>\n",
       "      <td>NaN</td>\n",
       "      <td>7</td>\n",
       "      <td>336,581</td>\n",
       "      <td>332</td>\n",
       "      <td>NaN</td>\n",
       "    </tr>\n",
       "    <tr>\n",
       "      <th>121</th>\n",
       "      <td>Vicipéid editing in DCU</td>\n",
       "      <td>A member of WCI has been using Vicipéid as a t...</td>\n",
       "      <td>21/02/2018</td>\n",
       "      <td>NaN</td>\n",
       "      <td>Dublin City University</td>\n",
       "      <td>Wikimedia Community Ireland</td>\n",
       "      <td>Dublin</td>\n",
       "      <td>Republic of Ireland</td>\n",
       "      <td>Meghan Dowling</td>\n",
       "      <td>Editor training</td>\n",
       "      <td>...</td>\n",
       "      <td>NaN</td>\n",
       "      <td>NaN</td>\n",
       "      <td>NaN</td>\n",
       "      <td>NaN</td>\n",
       "      <td>NaN</td>\n",
       "      <td>NaN</td>\n",
       "      <td>31</td>\n",
       "      <td>857,349</td>\n",
       "      <td>27</td>\n",
       "      <td>NaN</td>\n",
       "    </tr>\n",
       "    <tr>\n",
       "      <th>122</th>\n",
       "      <td>Vicipéid editing in Secondary Schools (pilot)</td>\n",
       "      <td>WCI is currently working with a number of part...</td>\n",
       "      <td>17/09/2018</td>\n",
       "      <td>NaN</td>\n",
       "      <td>NaN</td>\n",
       "      <td>Wikimedia Community Ireland</td>\n",
       "      <td>Ireland</td>\n",
       "      <td>Republic of Ireland</td>\n",
       "      <td>Rebecca O'Neill</td>\n",
       "      <td>Editor Training, Teacher Training, Partnerships</td>\n",
       "      <td>...</td>\n",
       "      <td>Simple APG</td>\n",
       "      <td>NaN</td>\n",
       "      <td>NaN</td>\n",
       "      <td>NaN</td>\n",
       "      <td>NaN</td>\n",
       "      <td>NaN</td>\n",
       "      <td>1</td>\n",
       "      <td>5,257</td>\n",
       "      <td>18</td>\n",
       "      <td>NaN</td>\n",
       "    </tr>\n",
       "    <tr>\n",
       "      <th>124</th>\n",
       "      <td>Wikimedia Community Ireland Education Programme</td>\n",
       "      <td>WCI work with a number of partner institutions...</td>\n",
       "      <td>07/11/2014</td>\n",
       "      <td>NaN</td>\n",
       "      <td>National University of Ireland Galway, Univers...</td>\n",
       "      <td>Wikimedia Community Ireland</td>\n",
       "      <td>All Ireland</td>\n",
       "      <td>Republic of Ireland and Northern Ireland</td>\n",
       "      <td>Rebecca O'Neill</td>\n",
       "      <td>Editor Training, Teacher Training, Librarian T...</td>\n",
       "      <td>...</td>\n",
       "      <td>Simple APG</td>\n",
       "      <td>NaN</td>\n",
       "      <td>NaN</td>\n",
       "      <td>NaN</td>\n",
       "      <td>NaN</td>\n",
       "      <td>NaN</td>\n",
       "      <td>84</td>\n",
       "      <td>658,669</td>\n",
       "      <td>241</td>\n",
       "      <td>NaN</td>\n",
       "    </tr>\n",
       "    <tr>\n",
       "      <th>125</th>\n",
       "      <td>Maynooth Critical Digital Skills and beyond</td>\n",
       "      <td>Members of WCI in Maynooth University support ...</td>\n",
       "      <td>12/09/2016</td>\n",
       "      <td>NaN</td>\n",
       "      <td>Maynooth University</td>\n",
       "      <td>Wikimedia Community Ireland</td>\n",
       "      <td>Maynooth, Kildare</td>\n",
       "      <td>Republic of Ireland</td>\n",
       "      <td>Brian McKenzie</td>\n",
       "      <td>Editor Training, Teacher Training</td>\n",
       "      <td>...</td>\n",
       "      <td>NaN</td>\n",
       "      <td>NaN</td>\n",
       "      <td>NaN</td>\n",
       "      <td>NaN</td>\n",
       "      <td>https://www.tandfonline.com/doi/abs/10.1080/87...</td>\n",
       "      <td>NaN</td>\n",
       "      <td>24</td>\n",
       "      <td>1,281,232</td>\n",
       "      <td>648</td>\n",
       "      <td>NaN</td>\n",
       "    </tr>\n",
       "    <tr>\n",
       "      <th>133</th>\n",
       "      <td>Wikipedia Educaton Program at Al-Quds Universi...</td>\n",
       "      <td>This edition was at Al-Quds University, Jerusa...</td>\n",
       "      <td>9/25/2017</td>\n",
       "      <td>1/25/2018</td>\n",
       "      <td>Al-Quds University</td>\n",
       "      <td>Wikimedia Levant</td>\n",
       "      <td>Western Asia</td>\n",
       "      <td>Palestine</td>\n",
       "      <td>Mohammad Hijjawi</td>\n",
       "      <td>Editor Training, Translation, Photo expeditions</td>\n",
       "      <td>...</td>\n",
       "      <td>Wikimedia Foundation</td>\n",
       "      <td>NaN</td>\n",
       "      <td>NaN</td>\n",
       "      <td>NaN</td>\n",
       "      <td>https://www.alquds.edu/ar/student-activities-a...</td>\n",
       "      <td>NaN</td>\n",
       "      <td>NaN</td>\n",
       "      <td>NaN</td>\n",
       "      <td>NaN</td>\n",
       "      <td>NaN</td>\n",
       "    </tr>\n",
       "    <tr>\n",
       "      <th>135</th>\n",
       "      <td>Wikipedia School for adults in Athens</td>\n",
       "      <td>Wikipedians Nursery for adults (Adult Educatio...</td>\n",
       "      <td>5/15/2014</td>\n",
       "      <td>11/30/2018</td>\n",
       "      <td>Municipality of Kaisariani, 2nd Gymnasium of K...</td>\n",
       "      <td>Wikipedia Community Schools Association Greece</td>\n",
       "      <td>Southern Europe</td>\n",
       "      <td>Greece</td>\n",
       "      <td>Manos Kefalas</td>\n",
       "      <td>WikiClub, Editor Training</td>\n",
       "      <td>...</td>\n",
       "      <td>Wikimedia Foundation</td>\n",
       "      <td>https://meta.wikimedia.org/wiki/Grants:PEG/Man...</td>\n",
       "      <td>It was the first educational holistic approach...</td>\n",
       "      <td>no</td>\n",
       "      <td>https://www.news247.gr/weekend-edition/mpikame...</td>\n",
       "      <td>NaN</td>\n",
       "      <td>NaN</td>\n",
       "      <td>NaN</td>\n",
       "      <td>NaN</td>\n",
       "      <td>NaN</td>\n",
       "    </tr>\n",
       "    <tr>\n",
       "      <th>136</th>\n",
       "      <td>Wikipedia School for adults in Athens</td>\n",
       "      <td>Wikipedians Nursery for adults (Adult Educatio...</td>\n",
       "      <td>5/15/2014</td>\n",
       "      <td>11/30/2018</td>\n",
       "      <td>Municipality of Kaisariani, 2nd Gymnasium of K...</td>\n",
       "      <td>Wikipedia Community Schools Association Greece</td>\n",
       "      <td>Southern Europe</td>\n",
       "      <td>Greece</td>\n",
       "      <td>Manos Kefalas</td>\n",
       "      <td>WikiClub, Editor Training</td>\n",
       "      <td>...</td>\n",
       "      <td>Wikimedia Foundation</td>\n",
       "      <td>https://meta.wikimedia.org/wiki/Grants:PEG/Man...</td>\n",
       "      <td>It was the first educational holistic approach...</td>\n",
       "      <td>no</td>\n",
       "      <td>https://www.news247.gr/weekend-edition/mpikame...</td>\n",
       "      <td>NaN</td>\n",
       "      <td>NaN</td>\n",
       "      <td>NaN</td>\n",
       "      <td>NaN</td>\n",
       "      <td>NaN</td>\n",
       "    </tr>\n",
       "    <tr>\n",
       "      <th>137</th>\n",
       "      <td>OLES2129 Writing for the Digital World</td>\n",
       "      <td>This is a unit of study. It constitutes a full...</td>\n",
       "      <td>8/1/2018</td>\n",
       "      <td>11/6/2018</td>\n",
       "      <td>The University of Sydney</td>\n",
       "      <td>NaN</td>\n",
       "      <td>Australia and New Zealand</td>\n",
       "      <td>Australia</td>\n",
       "      <td>Frances Di Lauro</td>\n",
       "      <td>Editor Training</td>\n",
       "      <td>...</td>\n",
       "      <td>the Strategic Educational Grant Scheme, Deputy...</td>\n",
       "      <td>Yes, the project was supported by a competitiv...</td>\n",
       "      <td>no</td>\n",
       "      <td>no</td>\n",
       "      <td>no</td>\n",
       "      <td>NaN</td>\n",
       "      <td>NaN</td>\n",
       "      <td>NaN</td>\n",
       "      <td>NaN</td>\n",
       "      <td>NaN</td>\n",
       "    </tr>\n",
       "    <tr>\n",
       "      <th>138</th>\n",
       "      <td>OLES2129 Writing for the Digital World (2019)</td>\n",
       "      <td>This is a unit of study. It constitutes a full...</td>\n",
       "      <td>2/27/2019</td>\n",
       "      <td>6/6/2019</td>\n",
       "      <td>The University of Sydney</td>\n",
       "      <td>NaN</td>\n",
       "      <td>Australia and New Zealand</td>\n",
       "      <td>Australia</td>\n",
       "      <td>Frances Di Lauro</td>\n",
       "      <td>Editor Training, Teacher Training</td>\n",
       "      <td>...</td>\n",
       "      <td>a Strategic Education Grant from the Deputy Vi...</td>\n",
       "      <td>Yes, this was a competitive grant process, the...</td>\n",
       "      <td>no</td>\n",
       "      <td>No</td>\n",
       "      <td>No</td>\n",
       "      <td>NaN</td>\n",
       "      <td>NaN</td>\n",
       "      <td>NaN</td>\n",
       "      <td>NaN</td>\n",
       "      <td>NaN</td>\n",
       "    </tr>\n",
       "    <tr>\n",
       "      <th>145</th>\n",
       "      <td>#LaboratorioWikimedia</td>\n",
       "      <td>A bi-weekly open workshop to work on open info...</td>\n",
       "      <td>11/21/2018</td>\n",
       "      <td>06/19/2019</td>\n",
       "      <td>Media-Lab Prado</td>\n",
       "      <td>Wikimedia España</td>\n",
       "      <td>Western Europe</td>\n",
       "      <td>Spain</td>\n",
       "      <td>Florencia Claes, PhD</td>\n",
       "      <td>Editor Training</td>\n",
       "      <td>...</td>\n",
       "      <td>NaN</td>\n",
       "      <td>NaN</td>\n",
       "      <td>NaN</td>\n",
       "      <td>NaN</td>\n",
       "      <td>https://blog.wikimedia.es/2018/11/laboratorio-...</td>\n",
       "      <td>NaN</td>\n",
       "      <td>NaN</td>\n",
       "      <td>NaN</td>\n",
       "      <td>NaN</td>\n",
       "      <td>NaN</td>\n",
       "    </tr>\n",
       "    <tr>\n",
       "      <th>148</th>\n",
       "      <td>UCAc2</td>\n",
       "      <td>Students of the \"Multimedia and Animation Tool...</td>\n",
       "      <td>2012</td>\n",
       "      <td>2017</td>\n",
       "      <td>Universidad de Cádiz</td>\n",
       "      <td>Wikimedia España</td>\n",
       "      <td>Western Europe</td>\n",
       "      <td>Spain</td>\n",
       "      <td>Lorena Gutiérrez Madroñal, Manuel Palomo Duarte</td>\n",
       "      <td>Editor Training, Media Development</td>\n",
       "      <td>...</td>\n",
       "      <td>NaN</td>\n",
       "      <td>NaN</td>\n",
       "      <td>NaN</td>\n",
       "      <td>NaN</td>\n",
       "      <td>https://blog.wikimedia.es/2017/12/creacion-aud...</td>\n",
       "      <td>NaN</td>\n",
       "      <td>NaN</td>\n",
       "      <td>NaN</td>\n",
       "      <td>NaN</td>\n",
       "      <td>NaN</td>\n",
       "    </tr>\n",
       "    <tr>\n",
       "      <th>153</th>\n",
       "      <td>Wikipedia School for adults in Athens</td>\n",
       "      <td>Wikipedians Nursery for adults (Adult Educatio...</td>\n",
       "      <td>5/15/2014</td>\n",
       "      <td>11/30/2018</td>\n",
       "      <td>Municipality of Kaisariani, 2nd Gymnasium of K...</td>\n",
       "      <td>Wikipedia Community Schools Association Greece</td>\n",
       "      <td>Southern Europe</td>\n",
       "      <td>Greece</td>\n",
       "      <td>Manos Kefalas</td>\n",
       "      <td>WikiClub, Editor Training</td>\n",
       "      <td>...</td>\n",
       "      <td>Wikimedia Foundation</td>\n",
       "      <td>https://meta.wikimedia.org/wiki/Grants:PEG/Man...</td>\n",
       "      <td>It was the first educational holistic approach...</td>\n",
       "      <td>no</td>\n",
       "      <td>https://www.news247.gr/weekend-edition/mpikame...</td>\n",
       "      <td>NaN</td>\n",
       "      <td>NaN</td>\n",
       "      <td>NaN</td>\n",
       "      <td>NaN</td>\n",
       "      <td>NaN</td>\n",
       "    </tr>\n",
       "  </tbody>\n",
       "</table>\n",
       "<p>26 rows × 26 columns</p>\n",
       "</div>"
      ],
      "text/plain": [
       "                                                 Title  \\\n",
       "15                Wikipedia Education Program Bulgaria   \n",
       "19                 Photo project and outreach in China   \n",
       "26         Education program in universities - Estonia   \n",
       "30                      Tartu Art School image project   \n",
       "31           Wikipedia editing for students in Finland   \n",
       "36          Valoriser ses connaissances avec Wikipédia   \n",
       "97                      WikiChallenge Ecoles d'Afrique   \n",
       "98                                    VVIT WikiConnect   \n",
       "100              Writing Cultural History on Wikipedia   \n",
       "104    University of Edinburgh Wikimedian in Residence   \n",
       "105         Wikimedia Indonesia Education Program 2018   \n",
       "106         Wikimedia Indonesia Education Program 2019   \n",
       "110                  Community Service with Wikipedia    \n",
       "120                             Digicomp Skills in UCD   \n",
       "121                            Vicipéid editing in DCU   \n",
       "122      Vicipéid editing in Secondary Schools (pilot)   \n",
       "124    Wikimedia Community Ireland Education Programme   \n",
       "125        Maynooth Critical Digital Skills and beyond   \n",
       "133  Wikipedia Educaton Program at Al-Quds Universi...   \n",
       "135              Wikipedia School for adults in Athens   \n",
       "136              Wikipedia School for adults in Athens   \n",
       "137             OLES2129 Writing for the Digital World   \n",
       "138      OLES2129 Writing for the Digital World (2019)   \n",
       "145                              #LaboratorioWikimedia   \n",
       "148                                              UCAc2   \n",
       "153              Wikipedia School for adults in Athens   \n",
       "\n",
       "                                Description or Summary  Start date  \\\n",
       "15   Introducing Wikipedia as a learning tool in un...        2009   \n",
       "19   Outreach activities and photo project on Wikim...        2015   \n",
       "26   Promotion of Wikipedia in education, productio...        2007   \n",
       "30   Art students provide free images and pictures ...        2014   \n",
       "31   It has 3 courses - computer science, design, a...        2014   \n",
       "36   The goal is to guide PhD students or young res...        2009   \n",
       "97   Primary school students writing encyclopedic a...    9/1/2017   \n",
       "98   VVIT WikiConnect is a student organization fro...   11/6/2017   \n",
       "100  12th grade (final year) students at Swedish hi...    9/1/2016   \n",
       "104  The University of Edinburgh residency is to fa...   1/11/2016   \n",
       "105  The goal of this program is to: \\n1. Raise an ...         NaN   \n",
       "106  The goal of this program is to: \\n1. Raise an ...         NaN   \n",
       "110  Improving information on Wikipedia about speci...   11/1/2016   \n",
       "120  Working with a lecturer in the School of Infor...  09/09/2014   \n",
       "121  A member of WCI has been using Vicipéid as a t...  21/02/2018   \n",
       "122  WCI is currently working with a number of part...  17/09/2018   \n",
       "124  WCI work with a number of partner institutions...  07/11/2014   \n",
       "125  Members of WCI in Maynooth University support ...  12/09/2016   \n",
       "133  This edition was at Al-Quds University, Jerusa...   9/25/2017   \n",
       "135  Wikipedians Nursery for adults (Adult Educatio...   5/15/2014   \n",
       "136  Wikipedians Nursery for adults (Adult Educatio...   5/15/2014   \n",
       "137  This is a unit of study. It constitutes a full...    8/1/2018   \n",
       "138  This is a unit of study. It constitutes a full...   2/27/2019   \n",
       "145  A bi-weekly open workshop to work on open info...  11/21/2018   \n",
       "148  Students of the \"Multimedia and Animation Tool...        2012   \n",
       "153  Wikipedians Nursery for adults (Adult Educatio...   5/15/2014   \n",
       "\n",
       "       End date                              Institutions/Partners  \\\n",
       "15         2018  Sofia University, New Bulgarian University, Un...   \n",
       "19         2015  Shanghai Jiaotong University, Dalian Universit...   \n",
       "26          NaN  University of Tartu, Estonian Entrepreneurship...   \n",
       "30         2014                               University of Tartu    \n",
       "31         2018  University of Helsinki Department of Computer ...   \n",
       "36         2018                    Lille Nord University of France   \n",
       "97          NaN                                  Orange Foundation   \n",
       "98          NaN       Vasireddy Venkatadri Institute of Technology   \n",
       "100    4/1/2019                             6 Swedish high schools   \n",
       "104         NaN                            University of Edinburgh   \n",
       "105         NaN  Universitas Negeri Yogyakarta, Universitas PGR...   \n",
       "106         NaN  Universitas Gadjah Mada, Universitas Negeri Yo...   \n",
       "110         NaN         Pontificia Universidad Católica de Ecuador   \n",
       "120         NaN                          University College Dublin   \n",
       "121         NaN                             Dublin City University   \n",
       "122         NaN                                                NaN   \n",
       "124         NaN  National University of Ireland Galway, Univers...   \n",
       "125         NaN                                Maynooth University   \n",
       "133   1/25/2018                                 Al-Quds University   \n",
       "135  11/30/2018  Municipality of Kaisariani, 2nd Gymnasium of K...   \n",
       "136  11/30/2018  Municipality of Kaisariani, 2nd Gymnasium of K...   \n",
       "137   11/6/2018                           The University of Sydney   \n",
       "138    6/6/2019                           The University of Sydney   \n",
       "145  06/19/2019                                    Media-Lab Prado   \n",
       "148        2017                               Universidad de Cádiz   \n",
       "153  11/30/2018  Municipality of Kaisariani, 2nd Gymnasium of K...   \n",
       "\n",
       "                              Affiliate/Organization  \\\n",
       "15                           Wikimedians of Bulgaria   \n",
       "19                                Wikimedia UG China   \n",
       "26                                   Wikimedia Eesti   \n",
       "30                                   Wikimedia Eesti   \n",
       "31                                   Wikimedia Suomi   \n",
       "36                                  Wikimedia France   \n",
       "97                                        WikiAfrica   \n",
       "98                                               NaN   \n",
       "100                                Wikimedia Sverige   \n",
       "104  Wikimedia UK (and Wikimedia Scotland #ScotWiki)   \n",
       "105                              Wikimedia Indonesia   \n",
       "106                              Wikimedia Indonesia   \n",
       "110                          Wikimedistas de Ecuador   \n",
       "120                      Wikimedia Community Ireland   \n",
       "121                      Wikimedia Community Ireland   \n",
       "122                      Wikimedia Community Ireland   \n",
       "124                      Wikimedia Community Ireland   \n",
       "125                      Wikimedia Community Ireland   \n",
       "133                                 Wikimedia Levant   \n",
       "135   Wikipedia Community Schools Association Greece   \n",
       "136   Wikipedia Community Schools Association Greece   \n",
       "137                                              NaN   \n",
       "138                                              NaN   \n",
       "145                                 Wikimedia España   \n",
       "148                                 Wikimedia España   \n",
       "153   Wikipedia Community Schools Association Greece   \n",
       "\n",
       "                                                Region  \\\n",
       "15                                      Eastern Europe   \n",
       "19                                           East Asia   \n",
       "26                                      Eastern Europe   \n",
       "30                                      Eastern Europe   \n",
       "31                                     Northern Europe   \n",
       "36                                      Western Europe   \n",
       "97   Eastern Africa, Middle Africa, Western Africa,...   \n",
       "98                                       Southern Asia   \n",
       "100                                    Northern Europe   \n",
       "104                    Western Europe, Northern Europe   \n",
       "105                                  Southeastern Asia   \n",
       "106                                  Southeastern Asia   \n",
       "110                                      South America   \n",
       "120                                             Dublin   \n",
       "121                                             Dublin   \n",
       "122                                            Ireland   \n",
       "124                                        All Ireland   \n",
       "125                                  Maynooth, Kildare   \n",
       "133                                       Western Asia   \n",
       "135                                    Southern Europe   \n",
       "136                                    Southern Europe   \n",
       "137                          Australia and New Zealand   \n",
       "138                          Australia and New Zealand   \n",
       "145                                     Western Europe   \n",
       "148                                     Western Europe   \n",
       "153                                    Southern Europe   \n",
       "\n",
       "                                               Country  \\\n",
       "15                                            Bulgaria   \n",
       "19                                               China   \n",
       "26                                             Estonia   \n",
       "30                                             Estonia   \n",
       "31                                             Finland   \n",
       "36                                              France   \n",
       "97   Tunisia, Madagascar, Cameroon, Niger, Guinea, ...   \n",
       "98                                               India   \n",
       "100                                             Sweden   \n",
       "104                                           Scotland   \n",
       "105                                          Indonesia   \n",
       "106                                          Indonesia   \n",
       "110                                            Ecuador   \n",
       "120                                Republic of Ireland   \n",
       "121                                Republic of Ireland   \n",
       "122                                Republic of Ireland   \n",
       "124           Republic of Ireland and Northern Ireland   \n",
       "125                                Republic of Ireland   \n",
       "133                                          Palestine   \n",
       "135                                             Greece   \n",
       "136                                             Greece   \n",
       "137                                          Australia   \n",
       "138                                          Australia   \n",
       "145                                              Spain   \n",
       "148                                              Spain   \n",
       "153                                             Greece   \n",
       "\n",
       "                                    Main focal point  \\\n",
       "15                          Spiritia, Maymay, Laveol   \n",
       "19                             Addis Wang; Wilson ye   \n",
       "26                                    Ivo Kruusamägi   \n",
       "30                                     Kaarel Vaidla   \n",
       "31                                      Teemu Perhiö   \n",
       "36                                   Nathalie Martin   \n",
       "97                                 Florence Devouard   \n",
       "98                          Krishna Chaitanya Velaga   \n",
       "100                                  Aron Ambrosiani   \n",
       "104                                    Ewan McAndrew   \n",
       "105                Raymond Sutanto, Nur Rahmi Nailah   \n",
       "106                Raymond Sutanto, Nur Rahmi Nailah   \n",
       "110                            Edgar Rosero Villacís   \n",
       "120                                  Rebecca O'Neill   \n",
       "121                                   Meghan Dowling   \n",
       "122                                  Rebecca O'Neill   \n",
       "124                                  Rebecca O'Neill   \n",
       "125                                   Brian McKenzie   \n",
       "133                                 Mohammad Hijjawi   \n",
       "135                                    Manos Kefalas   \n",
       "136                                    Manos Kefalas   \n",
       "137                                 Frances Di Lauro   \n",
       "138                                 Frances Di Lauro   \n",
       "145                             Florencia Claes, PhD   \n",
       "148  Lorena Gutiérrez Madroñal, Manuel Palomo Duarte   \n",
       "153                                    Manos Kefalas   \n",
       "\n",
       "                                       Main Activities  ...  \\\n",
       "15                                            Research  ...   \n",
       "19                                    Photo expedition  ...   \n",
       "26                                    Editing training  ...   \n",
       "30                                       Photo uploads  ...   \n",
       "31                                    Editing training  ...   \n",
       "36                           research, student editing  ...   \n",
       "97   Editor Training, Teacher Training, Photo exped...  ...   \n",
       "98   WikiClub, Editor Training, Teacher Training, T...  ...   \n",
       "100    Editor Training, Teacher Training, Digitization  ...   \n",
       "104  Editor Training, Teacher Training, Research, T...  ...   \n",
       "105  Editor Training, Teacher Training, Translation...  ...   \n",
       "106  Editor Training, Teacher Training, Translation...  ...   \n",
       "110    Editor Training, Teacher Training, Partnerships  ...   \n",
       "120                          Editor and tutor training  ...   \n",
       "121                                    Editor training  ...   \n",
       "122    Editor Training, Teacher Training, Partnerships  ...   \n",
       "124  Editor Training, Teacher Training, Librarian T...  ...   \n",
       "125                  Editor Training, Teacher Training  ...   \n",
       "133    Editor Training, Translation, Photo expeditions  ...   \n",
       "135                          WikiClub, Editor Training  ...   \n",
       "136                          WikiClub, Editor Training  ...   \n",
       "137                                    Editor Training  ...   \n",
       "138                  Editor Training, Teacher Training  ...   \n",
       "145                                    Editor Training  ...   \n",
       "148                 Editor Training, Media Development  ...   \n",
       "153                          WikiClub, Editor Training  ...   \n",
       "\n",
       "                                               Funding  \\\n",
       "15                                                 NaN   \n",
       "19                                                 NaN   \n",
       "26                                                 NaN   \n",
       "30                                                 NaN   \n",
       "31                        University Helsinki and Alto   \n",
       "36                                                 NaN   \n",
       "97                                   Orange Foundation   \n",
       "98                       Wikimedia Foundation, CIS-A2K   \n",
       "100                                               None   \n",
       "104                            University of Edinburgh   \n",
       "105             Wikimedia Foundation, in-kind donation   \n",
       "106             Wikimedia Foundation, in-kind donation   \n",
       "110  Funds from Pontificia Universidad Católica de ...   \n",
       "120                                         Simple APG   \n",
       "121                                                NaN   \n",
       "122                                         Simple APG   \n",
       "124                                         Simple APG   \n",
       "125                                                NaN   \n",
       "133                               Wikimedia Foundation   \n",
       "135                               Wikimedia Foundation   \n",
       "136                               Wikimedia Foundation   \n",
       "137  the Strategic Educational Grant Scheme, Deputy...   \n",
       "138  a Strategic Education Grant from the Deputy Vi...   \n",
       "145                                                NaN   \n",
       "148                                                NaN   \n",
       "153                               Wikimedia Foundation   \n",
       "\n",
       "                                            Evaluation  \\\n",
       "15                                                  No   \n",
       "19                                                  No   \n",
       "26                                                  No   \n",
       "30                                                  No   \n",
       "31                                                  No   \n",
       "36                                                 NaN   \n",
       "97                                                  no   \n",
       "98   https://meta.wikimedia.org/wiki/Grants:Project...   \n",
       "100                           No structured evaluation   \n",
       "104  https://en.wikipedia.org/wiki/Wikipedia:Univer...   \n",
       "105  https://meta.wikimedia.org/wiki/Grants:APG/Pro...   \n",
       "106                                            not yet   \n",
       "110  https://issuu.com/freddycoello/docs/buenas_pra...   \n",
       "120                                                NaN   \n",
       "121                                                NaN   \n",
       "122                                                NaN   \n",
       "124                                                NaN   \n",
       "125                                                NaN   \n",
       "133                                                NaN   \n",
       "135  https://meta.wikimedia.org/wiki/Grants:PEG/Man...   \n",
       "136  https://meta.wikimedia.org/wiki/Grants:PEG/Man...   \n",
       "137  Yes, the project was supported by a competitiv...   \n",
       "138  Yes, this was a competitive grant process, the...   \n",
       "145                                                NaN   \n",
       "148                                                NaN   \n",
       "153  https://meta.wikimedia.org/wiki/Grants:PEG/Man...   \n",
       "\n",
       "                                            Case Study  \\\n",
       "15                                                  No   \n",
       "19                                                  No   \n",
       "26                                                  No   \n",
       "30                                                  No   \n",
       "31                                                  No   \n",
       "36                                                 NaN   \n",
       "97   https://commons.wikimedia.org/wiki/File:WikiCh...   \n",
       "98                                                 NaN   \n",
       "100  Has been presented in Swedish in http://libris...   \n",
       "104  https://www.jisc.ac.uk/news/turning-students-f...   \n",
       "105                                                NaN   \n",
       "106                                               none   \n",
       "110                                                 No   \n",
       "120                                                NaN   \n",
       "121                                                NaN   \n",
       "122                                                NaN   \n",
       "124                                                NaN   \n",
       "125                                                NaN   \n",
       "133                                                NaN   \n",
       "135  It was the first educational holistic approach...   \n",
       "136  It was the first educational holistic approach...   \n",
       "137                                                 no   \n",
       "138                                                 no   \n",
       "145                                                NaN   \n",
       "148                                                NaN   \n",
       "153  It was the first educational holistic approach...   \n",
       "\n",
       "                                   Newsletter articles  \\\n",
       "15                                                 NaN   \n",
       "19   https://outreach.wikimedia.org/wiki/Education/...   \n",
       "26   https://outreach.wikimedia.org/wiki/Education/...   \n",
       "30                                                  No   \n",
       "31                                                  No   \n",
       "36                                                 NaN   \n",
       "97                 Several in the Education newsletter   \n",
       "98   https://outreach.wikimedia.org/wiki/Category:V...   \n",
       "100                                                NaN   \n",
       "104  https://blog.wikimedia.org.uk/2019/06/universi...   \n",
       "105                                                NaN   \n",
       "106  https://outreach.wikimedia.org/wiki/Education/...   \n",
       "110  https://outreach.wikimedia.org/wiki/Education/...   \n",
       "120                                                NaN   \n",
       "121                                                NaN   \n",
       "122                                                NaN   \n",
       "124                                                NaN   \n",
       "125                                                NaN   \n",
       "133                                                NaN   \n",
       "135                                                 no   \n",
       "136                                                 no   \n",
       "137                                                 no   \n",
       "138                                                 No   \n",
       "145                                                NaN   \n",
       "148                                                NaN   \n",
       "153                                                 no   \n",
       "\n",
       "                                   Other documentation  \\\n",
       "15   https://outreach.wikimedia.org/wiki/Education/...   \n",
       "19                                                 NaN   \n",
       "26   https://outreach.wikimedia.org/wiki/Education/...   \n",
       "30   https://outreach.wikimedia.org/wiki/Education/...   \n",
       "31                                                 NaN   \n",
       "36   https://fr.wikipedia.org/wiki/Projet:Valoriser...   \n",
       "97   https://fr.vikidia.org/wiki/Projet:WikiChallen...   \n",
       "98                                                 NaN   \n",
       "100  some articles in Swedish can be found at https...   \n",
       "104                  https://thinking.is.ed.ac.uk/wir/   \n",
       "105                                                NaN   \n",
       "106                                               none   \n",
       "110  https://www.eltelegrafo.com.ec/noticias/cultur...   \n",
       "120       https://journals.openedition.org/netcom/3893   \n",
       "121                                                NaN   \n",
       "122                                                NaN   \n",
       "124                                                NaN   \n",
       "125  https://www.tandfonline.com/doi/abs/10.1080/87...   \n",
       "133  https://www.alquds.edu/ar/student-activities-a...   \n",
       "135  https://www.news247.gr/weekend-edition/mpikame...   \n",
       "136  https://www.news247.gr/weekend-edition/mpikame...   \n",
       "137                                                 no   \n",
       "138                                                 No   \n",
       "145  https://blog.wikimedia.es/2018/11/laboratorio-...   \n",
       "148  https://blog.wikimedia.es/2017/12/creacion-aud...   \n",
       "153  https://www.news247.gr/weekend-edition/mpikame...   \n",
       "\n",
       "                                                 Media  \\\n",
       "15                                                 NaN   \n",
       "19                                                 NaN   \n",
       "26   https://blog.wikimedia.org/2015/07/30/educatio...   \n",
       "30                                                 NaN   \n",
       "31   http://informaatiomuotoilu.fi/2012/03/student-...   \n",
       "36                                                 NaN   \n",
       "97                                                 NaN   \n",
       "98                                                 NaN   \n",
       "100                                                NaN   \n",
       "104                                                NaN   \n",
       "105                                                NaN   \n",
       "106                                                NaN   \n",
       "110                                                NaN   \n",
       "120                                                NaN   \n",
       "121                                                NaN   \n",
       "122                                                NaN   \n",
       "124                                                NaN   \n",
       "125                                                NaN   \n",
       "133                                                NaN   \n",
       "135                                                NaN   \n",
       "136                                                NaN   \n",
       "137                                                NaN   \n",
       "138                                                NaN   \n",
       "145                                                NaN   \n",
       "148                                                NaN   \n",
       "153                                                NaN   \n",
       "\n",
       "    Number of pages created Number of bytes added Number of participants  \\\n",
       "15                      NaN                   NaN                    NaN   \n",
       "19                      NaN                   NaN                    NaN   \n",
       "26                      NaN                   NaN                    NaN   \n",
       "30                      NaN                   NaN                    NaN   \n",
       "31                      NaN                   NaN                    NaN   \n",
       "36                      NaN                   NaN                    NaN   \n",
       "97                      NaN                   NaN                    NaN   \n",
       "98                      NaN                   NaN                    NaN   \n",
       "100                     NaN                   NaN                    NaN   \n",
       "104                     NaN                   NaN                    NaN   \n",
       "105                     NaN                   NaN                    NaN   \n",
       "106                     NaN                   NaN                    NaN   \n",
       "110                     NaN                   NaN                    NaN   \n",
       "120                       7               336,581                    332   \n",
       "121                      31               857,349                     27   \n",
       "122                       1                 5,257                     18   \n",
       "124                      84               658,669                    241   \n",
       "125                      24             1,281,232                    648   \n",
       "133                     NaN                   NaN                    NaN   \n",
       "135                     NaN                   NaN                    NaN   \n",
       "136                     NaN                   NaN                    NaN   \n",
       "137                     NaN                   NaN                    NaN   \n",
       "138                     NaN                   NaN                    NaN   \n",
       "145                     NaN                   NaN                    NaN   \n",
       "148                     NaN                   NaN                    NaN   \n",
       "153                     NaN                   NaN                    NaN   \n",
       "\n",
       "    Number of Influenced Policies  \n",
       "15                            NaN  \n",
       "19                            NaN  \n",
       "26                            NaN  \n",
       "30                            NaN  \n",
       "31                            NaN  \n",
       "36                            NaN  \n",
       "97                            NaN  \n",
       "98                            NaN  \n",
       "100                           NaN  \n",
       "104                           NaN  \n",
       "105                           NaN  \n",
       "106                           NaN  \n",
       "110                           NaN  \n",
       "120                           NaN  \n",
       "121                           NaN  \n",
       "122                           NaN  \n",
       "124                           NaN  \n",
       "125                           NaN  \n",
       "133                           NaN  \n",
       "135                           NaN  \n",
       "136                           NaN  \n",
       "137                           NaN  \n",
       "138                           NaN  \n",
       "145                           NaN  \n",
       "148                           NaN  \n",
       "153                           NaN  \n",
       "\n",
       "[26 rows x 26 columns]"
      ]
     },
     "execution_count": 11,
     "metadata": {},
     "output_type": "execute_result"
    }
   ],
   "source": [
    "contain_values"
   ]
  },
  {
   "cell_type": "code",
   "execution_count": 12,
   "metadata": {},
   "outputs": [
    {
     "data": {
      "text/plain": [
       "<AxesSubplot: >"
      ]
     },
     "execution_count": 12,
     "metadata": {},
     "output_type": "execute_result"
    },
    {
     "data": {
      "image/png": "[encoded data removed]",
      "text/plain": [
       "<Figure size 2000x500 with 1 Axes>"
      ]
     },
     "metadata": {},
     "output_type": "display_data"
    }
   ],
   "source": [
    "data['Subject'].value_counts().plot(kind='bar', figsize=(20, 5))"
   ]
  },
  {
   "cell_type": "code",
   "execution_count": 13,
   "metadata": {},
   "outputs": [
    {
     "data": {
      "text/plain": [
       "Index(['Title', 'Description or Summary', 'Start date', 'End date',\n",
       "       'Institutions/Partners', 'Affiliate/Organization', 'Region', 'Country',\n",
       "       'Main focal point', 'Main Activities', 'Wikimedia Projects Used',\n",
       "       'Audience', 'Level of Education', 'SDG4 Areas', 'Subject',\n",
       "       'Skills addressed', 'Funding', 'Evaluation', 'Case Study',\n",
       "       'Newsletter articles', 'Other documentation', 'Media',\n",
       "       'Number of pages created', 'Number of bytes added',\n",
       "       'Number of participants', 'Number of Influenced Policies'],\n",
       "      dtype='object')"
      ]
     },
     "execution_count": 13,
     "metadata": {},
     "output_type": "execute_result"
    }
   ],
   "source": [
    "data.columns    "
   ]
  },
  {
   "cell_type": "markdown",
   "metadata": {},
   "source": [
    "# 2. Initialize Setup"
   ]
  },
  {
   "cell_type": "code",
   "execution_count": 14,
   "metadata": {},
   "outputs": [
    {
     "data": {
      "text/html": [
       "<style type=\"text/css\">\n",
       "</style>\n",
       "<table id=\"T_1726f\">\n",
       "  <thead>\n",
       "    <tr>\n",
       "      <th id=\"T_1726f_level0_col0\" class=\"col_heading level0 col0\" >Description</th>\n",
       "      <th id=\"T_1726f_level0_col1\" class=\"col_heading level0 col1\" >Value</th>\n",
       "    </tr>\n",
       "  </thead>\n",
       "  <tbody>\n",
       "    <tr>\n",
       "      <td id=\"T_1726f_row0_col0\" class=\"data row0 col0\" >session_id</td>\n",
       "      <td id=\"T_1726f_row0_col1\" class=\"data row0 col1\" >123</td>\n",
       "    </tr>\n",
       "    <tr>\n",
       "      <td id=\"T_1726f_row1_col0\" class=\"data row1 col0\" >Documents</td>\n",
       "      <td id=\"T_1726f_row1_col1\" class=\"data row1 col1\" >197</td>\n",
       "    </tr>\n",
       "    <tr>\n",
       "      <td id=\"T_1726f_row2_col0\" class=\"data row2 col0\" >Vocab Size</td>\n",
       "      <td id=\"T_1726f_row2_col1\" class=\"data row2 col1\" >821</td>\n",
       "    </tr>\n",
       "    <tr>\n",
       "      <td id=\"T_1726f_row3_col0\" class=\"data row3 col0\" >Custom Stopwords</td>\n",
       "      <td id=\"T_1726f_row3_col1\" class=\"data row3 col1\" >False</td>\n",
       "    </tr>\n",
       "  </tbody>\n",
       "</table>\n"
      ],
      "text/plain": [
       "<pandas.io.formats.style.Styler at 0x200113c5f70>"
      ]
     },
     "metadata": {},
     "output_type": "display_data"
    }
   ],
   "source": [
    "from pycaret.nlp import *\n",
    "nlp1 = setup(data, target = 'Description or Summary', session_id=123, log_experiment=True, log_plots = True, experiment_name='wikimedia_1')"
   ]
  },
  {
   "cell_type": "markdown",
   "metadata": {},
   "source": [
    "# 3. Create Model"
   ]
  },
  {
   "cell_type": "code",
   "execution_count": 15,
   "metadata": {},
   "outputs": [
    {
     "data": {
      "text/html": [
       "<div>\n",
       "<style scoped>\n",
       "    .dataframe tbody tr th:only-of-type {\n",
       "        vertical-align: middle;\n",
       "    }\n",
       "\n",
       "    .dataframe tbody tr th {\n",
       "        vertical-align: top;\n",
       "    }\n",
       "\n",
       "    .dataframe thead th {\n",
       "        text-align: right;\n",
       "    }\n",
       "</style>\n",
       "<table border=\"1\" class=\"dataframe\">\n",
       "  <thead>\n",
       "    <tr style=\"text-align: right;\">\n",
       "      <th></th>\n",
       "      <th>Name</th>\n",
       "      <th>Reference</th>\n",
       "    </tr>\n",
       "    <tr>\n",
       "      <th>ID</th>\n",
       "      <th></th>\n",
       "      <th></th>\n",
       "    </tr>\n",
       "  </thead>\n",
       "  <tbody>\n",
       "    <tr>\n",
       "      <th>lda</th>\n",
       "      <td>Latent Dirichlet Allocation</td>\n",
       "      <td>gensim/models/ldamodel</td>\n",
       "    </tr>\n",
       "    <tr>\n",
       "      <th>lsi</th>\n",
       "      <td>Latent Semantic Indexing</td>\n",
       "      <td>gensim/models/lsimodel</td>\n",
       "    </tr>\n",
       "    <tr>\n",
       "      <th>hdp</th>\n",
       "      <td>Hierarchical Dirichlet Process</td>\n",
       "      <td>gensim/models/hdpmodel</td>\n",
       "    </tr>\n",
       "    <tr>\n",
       "      <th>rp</th>\n",
       "      <td>Random Projections</td>\n",
       "      <td>gensim/models/rpmodel</td>\n",
       "    </tr>\n",
       "    <tr>\n",
       "      <th>nmf</th>\n",
       "      <td>Non-Negative Matrix Factorization</td>\n",
       "      <td>sklearn.decomposition.NMF</td>\n",
       "    </tr>\n",
       "  </tbody>\n",
       "</table>\n",
       "</div>"
      ],
      "text/plain": [
       "                                  Name                  Reference\n",
       "ID                                                               \n",
       "lda        Latent Dirichlet Allocation     gensim/models/ldamodel\n",
       "lsi           Latent Semantic Indexing     gensim/models/lsimodel\n",
       "hdp     Hierarchical Dirichlet Process     gensim/models/hdpmodel\n",
       "rp                  Random Projections      gensim/models/rpmodel\n",
       "nmf  Non-Negative Matrix Factorization  sklearn.decomposition.NMF"
      ]
     },
     "execution_count": 15,
     "metadata": {},
     "output_type": "execute_result"
    }
   ],
   "source": [
    "models()"
   ]
  },
  {
   "cell_type": "code",
   "execution_count": 16,
   "metadata": {},
   "outputs": [],
   "source": [
    "lda = create_model('lda')"
   ]
  },
  {
   "cell_type": "code",
   "execution_count": 57,
   "metadata": {},
   "outputs": [],
   "source": [
    "nmf = create_model('nmf', num_topics = 10)"
   ]
  },
  {
   "cell_type": "markdown",
   "metadata": {},
   "source": [
    "# 4. Assign Labels"
   ]
  },
  {
   "cell_type": "code",
   "execution_count": 17,
   "metadata": {},
   "outputs": [
    {
     "data": {
      "text/html": [
       "<div>\n",
       "<style scoped>\n",
       "    .dataframe tbody tr th:only-of-type {\n",
       "        vertical-align: middle;\n",
       "    }\n",
       "\n",
       "    .dataframe tbody tr th {\n",
       "        vertical-align: top;\n",
       "    }\n",
       "\n",
       "    .dataframe thead th {\n",
       "        text-align: right;\n",
       "    }\n",
       "</style>\n",
       "<table border=\"1\" class=\"dataframe\">\n",
       "  <thead>\n",
       "    <tr style=\"text-align: right;\">\n",
       "      <th></th>\n",
       "      <th>Title</th>\n",
       "      <th>Description or Summary</th>\n",
       "      <th>Start date</th>\n",
       "      <th>End date</th>\n",
       "      <th>Institutions/Partners</th>\n",
       "      <th>Affiliate/Organization</th>\n",
       "      <th>Region</th>\n",
       "      <th>Country</th>\n",
       "      <th>Main focal point</th>\n",
       "      <th>Main Activities</th>\n",
       "      <th>...</th>\n",
       "      <th>Number of pages created</th>\n",
       "      <th>Number of bytes added</th>\n",
       "      <th>Number of participants</th>\n",
       "      <th>Number of Influenced Policies</th>\n",
       "      <th>Topic_0</th>\n",
       "      <th>Topic_1</th>\n",
       "      <th>Topic_2</th>\n",
       "      <th>Topic_3</th>\n",
       "      <th>Dominant_Topic</th>\n",
       "      <th>Perc_Dominant_Topic</th>\n",
       "    </tr>\n",
       "  </thead>\n",
       "  <tbody>\n",
       "    <tr>\n",
       "      <th>0</th>\n",
       "      <td>WikiAcademy Albania</td>\n",
       "      <td>speak wikimedian start organize workshop shqip...</td>\n",
       "      <td>2013</td>\n",
       "      <td>NaN</td>\n",
       "      <td>NaN</td>\n",
       "      <td>Wikimedians of Albanian language UG</td>\n",
       "      <td>Eastern Europe</td>\n",
       "      <td>Albania</td>\n",
       "      <td>Greta Doçi</td>\n",
       "      <td>Editing training</td>\n",
       "      <td>...</td>\n",
       "      <td>NaN</td>\n",
       "      <td>NaN</td>\n",
       "      <td>NaN</td>\n",
       "      <td>NaN</td>\n",
       "      <td>0.009877</td>\n",
       "      <td>0.971491</td>\n",
       "      <td>0.008747</td>\n",
       "      <td>0.009885</td>\n",
       "      <td>Topic 1</td>\n",
       "      <td>0.97</td>\n",
       "    </tr>\n",
       "    <tr>\n",
       "      <th>1</th>\n",
       "      <td>Wikipedia Education Project Algeria</td>\n",
       "      <td>familiarize student explore way use work student</td>\n",
       "      <td>2012</td>\n",
       "      <td>2018</td>\n",
       "      <td>University of Medea</td>\n",
       "      <td>Algeria Wikimedians UG</td>\n",
       "      <td>Northern Africa</td>\n",
       "      <td>Algeria</td>\n",
       "      <td>Fareh Abdelhak</td>\n",
       "      <td>Editing training</td>\n",
       "      <td>...</td>\n",
       "      <td>NaN</td>\n",
       "      <td>NaN</td>\n",
       "      <td>NaN</td>\n",
       "      <td>NaN</td>\n",
       "      <td>0.011220</td>\n",
       "      <td>0.015981</td>\n",
       "      <td>0.009936</td>\n",
       "      <td>0.962863</td>\n",
       "      <td>Topic 3</td>\n",
       "      <td>0.96</td>\n",
       "    </tr>\n",
       "    <tr>\n",
       "      <th>2</th>\n",
       "      <td>Wikipedia en tu universidad</td>\n",
       "      <td>training session day work university student p...</td>\n",
       "      <td>2015</td>\n",
       "      <td>We organized it on demand, we launch at the be...</td>\n",
       "      <td>Various public and private universities in the...</td>\n",
       "      <td>Wikimedia Argentina</td>\n",
       "      <td>South America</td>\n",
       "      <td>Argentina</td>\n",
       "      <td>Luisina Ferrante, Florencia Guastavino</td>\n",
       "      <td>Editing training</td>\n",
       "      <td>...</td>\n",
       "      <td>NaN</td>\n",
       "      <td>NaN</td>\n",
       "      <td>NaN</td>\n",
       "      <td>NaN</td>\n",
       "      <td>0.357021</td>\n",
       "      <td>0.131441</td>\n",
       "      <td>0.002127</td>\n",
       "      <td>0.509410</td>\n",
       "      <td>Topic 3</td>\n",
       "      <td>0.51</td>\n",
       "    </tr>\n",
       "    <tr>\n",
       "      <th>3</th>\n",
       "      <td>Online course: “Bridges for a free, digital, s...</td>\n",
       "      <td>online training course educator week duration ...</td>\n",
       "      <td>2015</td>\n",
       "      <td>NaN</td>\n",
       "      <td>we partner specifically for the communication ...</td>\n",
       "      <td>Wikimedia Argentina</td>\n",
       "      <td>South America</td>\n",
       "      <td>Argentina</td>\n",
       "      <td>Luisina Ferrante, Florencia Guastavino</td>\n",
       "      <td>Editing training</td>\n",
       "      <td>...</td>\n",
       "      <td>NaN</td>\n",
       "      <td>NaN</td>\n",
       "      <td>NaN</td>\n",
       "      <td>NaN</td>\n",
       "      <td>0.131880</td>\n",
       "      <td>0.004145</td>\n",
       "      <td>0.002577</td>\n",
       "      <td>0.861397</td>\n",
       "      <td>Topic 3</td>\n",
       "      <td>0.86</td>\n",
       "    </tr>\n",
       "    <tr>\n",
       "      <th>4</th>\n",
       "      <td>Editing Clubs with high school students</td>\n",
       "      <td>training session educator provide tool tackle ...</td>\n",
       "      <td>2017</td>\n",
       "      <td>we define with each institution and partner th...</td>\n",
       "      <td>Partnerships with local instances of the Minis...</td>\n",
       "      <td>Wikimedia Argentina</td>\n",
       "      <td>South America</td>\n",
       "      <td>Argentina</td>\n",
       "      <td>Luisina Ferrante, Florencia Guastavino</td>\n",
       "      <td>Editing training</td>\n",
       "      <td>...</td>\n",
       "      <td>NaN</td>\n",
       "      <td>NaN</td>\n",
       "      <td>NaN</td>\n",
       "      <td>NaN</td>\n",
       "      <td>0.003131</td>\n",
       "      <td>0.004458</td>\n",
       "      <td>0.002773</td>\n",
       "      <td>0.989637</td>\n",
       "      <td>Topic 3</td>\n",
       "      <td>0.99</td>\n",
       "    </tr>\n",
       "  </tbody>\n",
       "</table>\n",
       "<p>5 rows × 32 columns</p>\n",
       "</div>"
      ],
      "text/plain": [
       "                                               Title  \\\n",
       "0                               WikiAcademy Albania    \n",
       "1                Wikipedia Education Project Algeria   \n",
       "2                        Wikipedia en tu universidad   \n",
       "3  Online course: “Bridges for a free, digital, s...   \n",
       "4            Editing Clubs with high school students   \n",
       "\n",
       "                              Description or Summary Start date  \\\n",
       "0  speak wikimedian start organize workshop shqip...       2013   \n",
       "1   familiarize student explore way use work student       2012   \n",
       "2  training session day work university student p...       2015   \n",
       "3  online training course educator week duration ...       2015   \n",
       "4  training session educator provide tool tackle ...       2017   \n",
       "\n",
       "                                            End date  \\\n",
       "0                                                NaN   \n",
       "1                                               2018   \n",
       "2  We organized it on demand, we launch at the be...   \n",
       "3                                                NaN   \n",
       "4  we define with each institution and partner th...   \n",
       "\n",
       "                               Institutions/Partners  \\\n",
       "0                                                NaN   \n",
       "1                                University of Medea   \n",
       "2  Various public and private universities in the...   \n",
       "3  we partner specifically for the communication ...   \n",
       "4  Partnerships with local instances of the Minis...   \n",
       "\n",
       "                Affiliate/Organization           Region    Country  \\\n",
       "0  Wikimedians of Albanian language UG   Eastern Europe    Albania   \n",
       "1               Algeria Wikimedians UG  Northern Africa    Algeria   \n",
       "2                  Wikimedia Argentina    South America  Argentina   \n",
       "3                  Wikimedia Argentina    South America  Argentina   \n",
       "4                  Wikimedia Argentina    South America  Argentina   \n",
       "\n",
       "                         Main focal point    Main Activities  ...  \\\n",
       "0                              Greta Doçi   Editing training  ...   \n",
       "1                          Fareh Abdelhak   Editing training  ...   \n",
       "2  Luisina Ferrante, Florencia Guastavino   Editing training  ...   \n",
       "3  Luisina Ferrante, Florencia Guastavino   Editing training  ...   \n",
       "4  Luisina Ferrante, Florencia Guastavino   Editing training  ...   \n",
       "\n",
       "  Number of pages created Number of bytes added Number of participants  \\\n",
       "0                     NaN                   NaN                    NaN   \n",
       "1                     NaN                   NaN                    NaN   \n",
       "2                     NaN                   NaN                    NaN   \n",
       "3                     NaN                   NaN                    NaN   \n",
       "4                     NaN                   NaN                    NaN   \n",
       "\n",
       "  Number of Influenced Policies   Topic_0   Topic_1   Topic_2   Topic_3  \\\n",
       "0                           NaN  0.009877  0.971491  0.008747  0.009885   \n",
       "1                           NaN  0.011220  0.015981  0.009936  0.962863   \n",
       "2                           NaN  0.357021  0.131441  0.002127  0.509410   \n",
       "3                           NaN  0.131880  0.004145  0.002577  0.861397   \n",
       "4                           NaN  0.003131  0.004458  0.002773  0.989637   \n",
       "\n",
       "  Dominant_Topic Perc_Dominant_Topic  \n",
       "0        Topic 1                0.97  \n",
       "1        Topic 3                0.96  \n",
       "2        Topic 3                0.51  \n",
       "3        Topic 3                0.86  \n",
       "4        Topic 3                0.99  \n",
       "\n",
       "[5 rows x 32 columns]"
      ]
     },
     "execution_count": 17,
     "metadata": {},
     "output_type": "execute_result"
    }
   ],
   "source": [
    "lda_results = assign_model(lda)\n",
    "lda_results.head()"
   ]
  },
  {
   "cell_type": "markdown",
   "metadata": {},
   "source": [
    "# 5. Analyze Model"
   ]
  },
  {
   "cell_type": "code",
   "execution_count": 18,
   "metadata": {},
   "outputs": [
    {
     "data": {
      "text/html": [
       "        <script type=\"text/javascript\">\n",
       "        window.PlotlyConfig = {MathJaxConfig: 'local'};\n",
       "        if (window.MathJax && window.MathJax.Hub && window.MathJax.Hub.Config) {window.MathJax.Hub.Config({SVG: {font: \"STIX-Web\"}});}\n",
       "        if (typeof require !== 'undefined') {\n",
       "        require.undef(\"plotly\");\n",
       "        requirejs.config({\n",
       "            paths: {\n",
       "                'plotly': ['https://cdn.plot.ly/plotly-2.16.1.min']\n",
       "            }\n",
       "        });\n",
       "        require(['plotly'], function(Plotly) {\n",
       "            window._Plotly = Plotly;\n",
       "        });\n",
       "        }\n",
       "        </script>\n",
       "        "
      ]
     },
     "metadata": {},
     "output_type": "display_data"
    },
    {
     "data": {
      "application/vnd.plotly.v1+json": {
       "config": {
        "linkText": "Export to plot.ly",
        "plotlyServerURL": "https://plot.ly",
        "showLink": true
       },
       "data": [
        {
         "marker": {
          "color": "rgba(255, 153, 51, 0.6)",
          "line": {
           "color": "rgba(255, 153, 51, 1.0)",
           "width": 1
          }
         },
         "name": "count",
         "orientation": "v",
         "text": "",
         "type": "bar",
         "x": [
          "article",
          "student",
          "create",
          "improve",
          "translate",
          "edit",
          "project",
          "subject",
          "degree",
          "language",
          "wikipedia",
          "topic",
          "university",
          "woman",
          "different",
          "involve",
          "tool",
          "wikimedia",
          "spanish",
          "translation",
          "work",
          "common",
          "class",
          "write",
          "awareness",
          "science",
          "focus",
          "social",
          "information",
          "improved",
          "year",
          "history",
          "art",
          "page",
          "faculty",
          "scientific",
          "scientist",
          "environmental",
          "campus",
          "educational",
          "new",
          "learn",
          "research",
          "linguistic",
          "literary",
          "relate",
          "part",
          "one",
          "service",
          "presence",
          "picture",
          "relation",
          "german",
          "academic",
          "introduce",
          "add",
          "animation",
          "assigment",
          "assign",
          "writer",
          "collaboration",
          "communication",
          "word",
          "course",
          "creation",
          "develop",
          "week",
          "ethnology",
          "experience",
          "french",
          "specific",
          "turkish",
          "include",
          "innovation",
          "well",
          "use",
          "spring",
          "aboriginal",
          "issue",
          "semester",
          "encourage",
          "allow",
          "assignment",
          "centre",
          "content",
          "contribution",
          "country",
          "drive",
          "effectively",
          "estonian",
          "researcher",
          "fall",
          "goal",
          "guide",
          "know",
          "outreach",
          "phd",
          "primarily",
          "raise",
          "young"
         ],
         "y": [
          31,
          30,
          16,
          10,
          10,
          9,
          9,
          6,
          6,
          6,
          6,
          6,
          6,
          5,
          5,
          5,
          4,
          4,
          4,
          4,
          4,
          4,
          4,
          4,
          4,
          4,
          3,
          3,
          3,
          3,
          3,
          3,
          3,
          3,
          3,
          3,
          3,
          3,
          3,
          3,
          2,
          2,
          2,
          2,
          2,
          2,
          2,
          2,
          2,
          2,
          2,
          2,
          2,
          2,
          2,
          2,
          2,
          2,
          2,
          2,
          2,
          2,
          2,
          2,
          2,
          2,
          2,
          2,
          2,
          2,
          2,
          2,
          2,
          2,
          1,
          1,
          1,
          1,
          1,
          1,
          1,
          1,
          1,
          1,
          1,
          1,
          1,
          1,
          1,
          1,
          1,
          1,
          1,
          1,
          1,
          1,
          1,
          1,
          1,
          1
         ]
        }
       ],
       "layout": {
        "legend": {
         "bgcolor": "#F5F6F9",
         "font": {
          "color": "#4D5663"
         }
        },
        "paper_bgcolor": "#F5F6F9",
        "plot_bgcolor": "#F5F6F9",
        "template": {
         "data": {
          "bar": [
           {
            "error_x": {
             "color": "#2a3f5f"
            },
            "error_y": {
             "color": "#2a3f5f"
            },
            "marker": {
             "line": {
              "color": "#E5ECF6",
              "width": 0.5
             },
             "pattern": {
              "fillmode": "overlay",
              "size": 10,
              "solidity": 0.2
             }
            },
            "type": "bar"
           }
          ],
          "barpolar": [
           {
            "marker": {
             "line": {
              "color": "#E5ECF6",
              "width": 0.5
             },
             "pattern": {
              "fillmode": "overlay",
              "size": 10,
              "solidity": 0.2
             }
            },
            "type": "barpolar"
           }
          ],
          "carpet": [
           {
            "aaxis": {
             "endlinecolor": "#2a3f5f",
             "gridcolor": "white",
             "linecolor": "white",
             "minorgridcolor": "white",
             "startlinecolor": "#2a3f5f"
            },
            "baxis": {
             "endlinecolor": "#2a3f5f",
             "gridcolor": "white",
             "linecolor": "white",
             "minorgridcolor": "white",
             "startlinecolor": "#2a3f5f"
            },
            "type": "carpet"
           }
          ],
          "choropleth": [
           {
            "colorbar": {
             "outlinewidth": 0,
             "ticks": ""
            },
            "type": "choropleth"
           }
          ],
          "contour": [
           {
            "colorbar": {
             "outlinewidth": 0,
             "ticks": ""
            },
            "colorscale": [
             [
              0,
              "#0d0887"
             ],
             [
              0.1111111111111111,
              "#46039f"
             ],
             [
              0.2222222222222222,
              "#7201a8"
             ],
             [
              0.3333333333333333,
              "#9c179e"
             ],
             [
              0.4444444444444444,
              "#bd3786"
             ],
             [
              0.5555555555555556,
              "#d8576b"
             ],
             [
              0.6666666666666666,
              "#ed7953"
             ],
             [
              0.7777777777777778,
              "#fb9f3a"
             ],
             [
              0.8888888888888888,
              "#fdca26"
             ],
             [
              1,
              "#f0f921"
             ]
            ],
            "type": "contour"
           }
          ],
          "contourcarpet": [
           {
            "colorbar": {
             "outlinewidth": 0,
             "ticks": ""
            },
            "type": "contourcarpet"
           }
          ],
          "heatmap": [
           {
            "colorbar": {
             "outlinewidth": 0,
             "ticks": ""
            },
            "colorscale": [
             [
              0,
              "#0d0887"
             ],
             [
              0.1111111111111111,
              "#46039f"
             ],
             [
              0.2222222222222222,
              "#7201a8"
             ],
             [
              0.3333333333333333,
              "#9c179e"
             ],
             [
              0.4444444444444444,
              "#bd3786"
             ],
             [
              0.5555555555555556,
              "#d8576b"
             ],
             [
              0.6666666666666666,
              "#ed7953"
             ],
             [
              0.7777777777777778,
              "#fb9f3a"
             ],
             [
              0.8888888888888888,
              "#fdca26"
             ],
             [
              1,
              "#f0f921"
             ]
            ],
            "type": "heatmap"
           }
          ],
          "heatmapgl": [
           {
            "colorbar": {
             "outlinewidth": 0,
             "ticks": ""
            },
            "colorscale": [
             [
              0,
              "#0d0887"
             ],
             [
              0.1111111111111111,
              "#46039f"
             ],
             [
              0.2222222222222222,
              "#7201a8"
             ],
             [
              0.3333333333333333,
              "#9c179e"
             ],
             [
              0.4444444444444444,
              "#bd3786"
             ],
             [
              0.5555555555555556,
              "#d8576b"
             ],
             [
              0.6666666666666666,
              "#ed7953"
             ],
             [
              0.7777777777777778,
              "#fb9f3a"
             ],
             [
              0.8888888888888888,
              "#fdca26"
             ],
             [
              1,
              "#f0f921"
             ]
            ],
            "type": "heatmapgl"
           }
          ],
          "histogram": [
           {
            "marker": {
             "pattern": {
              "fillmode": "overlay",
              "size": 10,
              "solidity": 0.2
             }
            },
            "type": "histogram"
           }
          ],
          "histogram2d": [
           {
            "colorbar": {
             "outlinewidth": 0,
             "ticks": ""
            },
            "colorscale": [
             [
              0,
              "#0d0887"
             ],
             [
              0.1111111111111111,
              "#46039f"
             ],
             [
              0.2222222222222222,
              "#7201a8"
             ],
             [
              0.3333333333333333,
              "#9c179e"
             ],
             [
              0.4444444444444444,
              "#bd3786"
             ],
             [
              0.5555555555555556,
              "#d8576b"
             ],
             [
              0.6666666666666666,
              "#ed7953"
             ],
             [
              0.7777777777777778,
              "#fb9f3a"
             ],
             [
              0.8888888888888888,
              "#fdca26"
             ],
             [
              1,
              "#f0f921"
             ]
            ],
            "type": "histogram2d"
           }
          ],
          "histogram2dcontour": [
           {
            "colorbar": {
             "outlinewidth": 0,
             "ticks": ""
            },
            "colorscale": [
             [
              0,
              "#0d0887"
             ],
             [
              0.1111111111111111,
              "#46039f"
             ],
             [
              0.2222222222222222,
              "#7201a8"
             ],
             [
              0.3333333333333333,
              "#9c179e"
             ],
             [
              0.4444444444444444,
              "#bd3786"
             ],
             [
              0.5555555555555556,
              "#d8576b"
             ],
             [
              0.6666666666666666,
              "#ed7953"
             ],
             [
              0.7777777777777778,
              "#fb9f3a"
             ],
             [
              0.8888888888888888,
              "#fdca26"
             ],
             [
              1,
              "#f0f921"
             ]
            ],
            "type": "histogram2dcontour"
           }
          ],
          "mesh3d": [
           {
            "colorbar": {
             "outlinewidth": 0,
             "ticks": ""
            },
            "type": "mesh3d"
           }
          ],
          "parcoords": [
           {
            "line": {
             "colorbar": {
              "outlinewidth": 0,
              "ticks": ""
             }
            },
            "type": "parcoords"
           }
          ],
          "pie": [
           {
            "automargin": true,
            "type": "pie"
           }
          ],
          "scatter": [
           {
            "fillpattern": {
             "fillmode": "overlay",
             "size": 10,
             "solidity": 0.2
            },
            "type": "scatter"
           }
          ],
          "scatter3d": [
           {
            "line": {
             "colorbar": {
              "outlinewidth": 0,
              "ticks": ""
             }
            },
            "marker": {
             "colorbar": {
              "outlinewidth": 0,
              "ticks": ""
             }
            },
            "type": "scatter3d"
           }
          ],
          "scattercarpet": [
           {
            "marker": {
             "colorbar": {
              "outlinewidth": 0,
              "ticks": ""
             }
            },
            "type": "scattercarpet"
           }
          ],
          "scattergeo": [
           {
            "marker": {
             "colorbar": {
              "outlinewidth": 0,
              "ticks": ""
             }
            },
            "type": "scattergeo"
           }
          ],
          "scattergl": [
           {
            "marker": {
             "colorbar": {
              "outlinewidth": 0,
              "ticks": ""
             }
            },
            "type": "scattergl"
           }
          ],
          "scattermapbox": [
           {
            "marker": {
             "colorbar": {
              "outlinewidth": 0,
              "ticks": ""
             }
            },
            "type": "scattermapbox"
           }
          ],
          "scatterpolar": [
           {
            "marker": {
             "colorbar": {
              "outlinewidth": 0,
              "ticks": ""
             }
            },
            "type": "scatterpolar"
           }
          ],
          "scatterpolargl": [
           {
            "marker": {
             "colorbar": {
              "outlinewidth": 0,
              "ticks": ""
             }
            },
            "type": "scatterpolargl"
           }
          ],
          "scatterternary": [
           {
            "marker": {
             "colorbar": {
              "outlinewidth": 0,
              "ticks": ""
             }
            },
            "type": "scatterternary"
           }
          ],
          "surface": [
           {
            "colorbar": {
             "outlinewidth": 0,
             "ticks": ""
            },
            "colorscale": [
             [
              0,
              "#0d0887"
             ],
             [
              0.1111111111111111,
              "#46039f"
             ],
             [
              0.2222222222222222,
              "#7201a8"
             ],
             [
              0.3333333333333333,
              "#9c179e"
             ],
             [
              0.4444444444444444,
              "#bd3786"
             ],
             [
              0.5555555555555556,
              "#d8576b"
             ],
             [
              0.6666666666666666,
              "#ed7953"
             ],
             [
              0.7777777777777778,
              "#fb9f3a"
             ],
             [
              0.8888888888888888,
              "#fdca26"
             ],
             [
              1,
              "#f0f921"
             ]
            ],
            "type": "surface"
           }
          ],
          "table": [
           {
            "cells": {
             "fill": {
              "color": "#EBF0F8"
             },
             "line": {
              "color": "white"
             }
            },
            "header": {
             "fill": {
              "color": "#C8D4E3"
             },
             "line": {
              "color": "white"
             }
            },
            "type": "table"
           }
          ]
         },
         "layout": {
          "annotationdefaults": {
           "arrowcolor": "#2a3f5f",
           "arrowhead": 0,
           "arrowwidth": 1
          },
          "autotypenumbers": "strict",
          "coloraxis": {
           "colorbar": {
            "outlinewidth": 0,
            "ticks": ""
           }
          },
          "colorscale": {
           "diverging": [
            [
             0,
             "#8e0152"
            ],
            [
             0.1,
             "#c51b7d"
            ],
            [
             0.2,
             "#de77ae"
            ],
            [
             0.3,
             "#f1b6da"
            ],
            [
             0.4,
             "#fde0ef"
            ],
            [
             0.5,
             "#f7f7f7"
            ],
            [
             0.6,
             "#e6f5d0"
            ],
            [
             0.7,
             "#b8e186"
            ],
            [
             0.8,
             "#7fbc41"
            ],
            [
             0.9,
             "#4d9221"
            ],
            [
             1,
             "#276419"
            ]
           ],
           "sequential": [
            [
             0,
             "#0d0887"
            ],
            [
             0.1111111111111111,
             "#46039f"
            ],
            [
             0.2222222222222222,
             "#7201a8"
            ],
            [
             0.3333333333333333,
             "#9c179e"
            ],
            [
             0.4444444444444444,
             "#bd3786"
            ],
            [
             0.5555555555555556,
             "#d8576b"
            ],
            [
             0.6666666666666666,
             "#ed7953"
            ],
            [
             0.7777777777777778,
             "#fb9f3a"
            ],
            [
             0.8888888888888888,
             "#fdca26"
            ],
            [
             1,
             "#f0f921"
            ]
           ],
           "sequentialminus": [
            [
             0,
             "#0d0887"
            ],
            [
             0.1111111111111111,
             "#46039f"
            ],
            [
             0.2222222222222222,
             "#7201a8"
            ],
            [
             0.3333333333333333,
             "#9c179e"
            ],
            [
             0.4444444444444444,
             "#bd3786"
            ],
            [
             0.5555555555555556,
             "#d8576b"
            ],
            [
             0.6666666666666666,
             "#ed7953"
            ],
            [
             0.7777777777777778,
             "#fb9f3a"
            ],
            [
             0.8888888888888888,
             "#fdca26"
            ],
            [
             1,
             "#f0f921"
            ]
           ]
          },
          "colorway": [
           "#636efa",
           "#EF553B",
           "#00cc96",
           "#ab63fa",
           "#FFA15A",
           "#19d3f3",
           "#FF6692",
           "#B6E880",
           "#FF97FF",
           "#FECB52"
          ],
          "font": {
           "color": "#2a3f5f"
          },
          "geo": {
           "bgcolor": "white",
           "lakecolor": "white",
           "landcolor": "#E5ECF6",
           "showlakes": true,
           "showland": true,
           "subunitcolor": "white"
          },
          "hoverlabel": {
           "align": "left"
          },
          "hovermode": "closest",
          "mapbox": {
           "style": "light"
          },
          "paper_bgcolor": "white",
          "plot_bgcolor": "#E5ECF6",
          "polar": {
           "angularaxis": {
            "gridcolor": "white",
            "linecolor": "white",
            "ticks": ""
           },
           "bgcolor": "#E5ECF6",
           "radialaxis": {
            "gridcolor": "white",
            "linecolor": "white",
            "ticks": ""
           }
          },
          "scene": {
           "xaxis": {
            "backgroundcolor": "#E5ECF6",
            "gridcolor": "white",
            "gridwidth": 2,
            "linecolor": "white",
            "showbackground": true,
            "ticks": "",
            "zerolinecolor": "white"
           },
           "yaxis": {
            "backgroundcolor": "#E5ECF6",
            "gridcolor": "white",
            "gridwidth": 2,
            "linecolor": "white",
            "showbackground": true,
            "ticks": "",
            "zerolinecolor": "white"
           },
           "zaxis": {
            "backgroundcolor": "#E5ECF6",
            "gridcolor": "white",
            "gridwidth": 2,
            "linecolor": "white",
            "showbackground": true,
            "ticks": "",
            "zerolinecolor": "white"
           }
          },
          "shapedefaults": {
           "line": {
            "color": "#2a3f5f"
           }
          },
          "ternary": {
           "aaxis": {
            "gridcolor": "white",
            "linecolor": "white",
            "ticks": ""
           },
           "baxis": {
            "gridcolor": "white",
            "linecolor": "white",
            "ticks": ""
           },
           "bgcolor": "#E5ECF6",
           "caxis": {
            "gridcolor": "white",
            "linecolor": "white",
            "ticks": ""
           }
          },
          "title": {
           "x": 0.05
          },
          "xaxis": {
           "automargin": true,
           "gridcolor": "white",
           "linecolor": "white",
           "ticks": "",
           "title": {
            "standoff": 15
           },
           "zerolinecolor": "white",
           "zerolinewidth": 2
          },
          "yaxis": {
           "automargin": true,
           "gridcolor": "white",
           "linecolor": "white",
           "ticks": "",
           "title": {
            "standoff": 15
           },
           "zerolinecolor": "white",
           "zerolinewidth": 2
          }
         }
        },
        "title": {
         "font": {
          "color": "#4D5663"
         },
         "text": "Topic 0: Top 100 words after removing stop words"
        },
        "xaxis": {
         "gridcolor": "#E1E5ED",
         "linecolor": "black",
         "showgrid": true,
         "tickfont": {
          "color": "#4D5663"
         },
         "title": {
          "font": {
           "color": "#4D5663"
          },
          "text": ""
         },
         "zerolinecolor": "#E1E5ED"
        },
        "yaxis": {
         "gridcolor": "#E1E5ED",
         "linecolor": "black",
         "showgrid": true,
         "tickfont": {
          "color": "#4D5663"
         },
         "title": {
          "font": {
           "color": "#4D5663"
          },
          "text": "Count"
         },
         "zerolinecolor": "#E1E5ED"
        }
       }
      },
      "text/html": [
       "<div>                            <div id=\"36b1011e-7726-4896-987d-f9086202bb13\" class=\"plotly-graph-div\" style=\"height:525px; width:100%;\"></div>            <script type=\"text/javascript\">                require([\"plotly\"], function(Plotly) {                    window.PLOTLYENV=window.PLOTLYENV || {};\n",
       "                    window.PLOTLYENV.BASE_URL='https://plot.ly';                                    if (document.getElementById(\"36b1011e-7726-4896-987d-f9086202bb13\")) {                    Plotly.newPlot(                        \"36b1011e-7726-4896-987d-f9086202bb13\",                        [{\"marker\":{\"color\":\"rgba(255, 153, 51, 0.6)\",\"line\":{\"color\":\"rgba(255, 153, 51, 1.0)\",\"width\":1}},\"name\":\"count\",\"orientation\":\"v\",\"text\":\"\",\"x\":[\"article\",\"student\",\"create\",\"improve\",\"translate\",\"edit\",\"project\",\"subject\",\"degree\",\"language\",\"wikipedia\",\"topic\",\"university\",\"woman\",\"different\",\"involve\",\"tool\",\"wikimedia\",\"spanish\",\"translation\",\"work\",\"common\",\"class\",\"write\",\"awareness\",\"science\",\"focus\",\"social\",\"information\",\"improved\",\"year\",\"history\",\"art\",\"page\",\"faculty\",\"scientific\",\"scientist\",\"environmental\",\"campus\",\"educational\",\"new\",\"learn\",\"research\",\"linguistic\",\"literary\",\"relate\",\"part\",\"one\",\"service\",\"presence\",\"picture\",\"relation\",\"german\",\"academic\",\"introduce\",\"add\",\"animation\",\"assigment\",\"assign\",\"writer\",\"collaboration\",\"communication\",\"word\",\"course\",\"creation\",\"develop\",\"week\",\"ethnology\",\"experience\",\"french\",\"specific\",\"turkish\",\"include\",\"innovation\",\"well\",\"use\",\"spring\",\"aboriginal\",\"issue\",\"semester\",\"encourage\",\"allow\",\"assignment\",\"centre\",\"content\",\"contribution\",\"country\",\"drive\",\"effectively\",\"estonian\",\"researcher\",\"fall\",\"goal\",\"guide\",\"know\",\"outreach\",\"phd\",\"primarily\",\"raise\",\"young\"],\"y\":[31,30,16,10,10,9,9,6,6,6,6,6,6,5,5,5,4,4,4,4,4,4,4,4,4,4,3,3,3,3,3,3,3,3,3,3,3,3,3,3,2,2,2,2,2,2,2,2,2,2,2,2,2,2,2,2,2,2,2,2,2,2,2,2,2,2,2,2,2,2,2,2,2,2,1,1,1,1,1,1,1,1,1,1,1,1,1,1,1,1,1,1,1,1,1,1,1,1,1,1],\"type\":\"bar\"}],                        {\"legend\":{\"bgcolor\":\"#F5F6F9\",\"font\":{\"color\":\"#4D5663\"}},\"paper_bgcolor\":\"#F5F6F9\",\"plot_bgcolor\":\"#F5F6F9\",\"template\":{\"data\":{\"barpolar\":[{\"marker\":{\"line\":{\"color\":\"#E5ECF6\",\"width\":0.5},\"pattern\":{\"fillmode\":\"overlay\",\"size\":10,\"solidity\":0.2}},\"type\":\"barpolar\"}],\"bar\":[{\"error_x\":{\"color\":\"#2a3f5f\"},\"error_y\":{\"color\":\"#2a3f5f\"},\"marker\":{\"line\":{\"color\":\"#E5ECF6\",\"width\":0.5},\"pattern\":{\"fillmode\":\"overlay\",\"size\":10,\"solidity\":0.2}},\"type\":\"bar\"}],\"carpet\":[{\"aaxis\":{\"endlinecolor\":\"#2a3f5f\",\"gridcolor\":\"white\",\"linecolor\":\"white\",\"minorgridcolor\":\"white\",\"startlinecolor\":\"#2a3f5f\"},\"baxis\":{\"endlinecolor\":\"#2a3f5f\",\"gridcolor\":\"white\",\"linecolor\":\"white\",\"minorgridcolor\":\"white\",\"startlinecolor\":\"#2a3f5f\"},\"type\":\"carpet\"}],\"choropleth\":[{\"colorbar\":{\"outlinewidth\":0,\"ticks\":\"\"},\"type\":\"choropleth\"}],\"contourcarpet\":[{\"colorbar\":{\"outlinewidth\":0,\"ticks\":\"\"},\"type\":\"contourcarpet\"}],\"contour\":[{\"colorbar\":{\"outlinewidth\":0,\"ticks\":\"\"},\"colorscale\":[[0.0,\"#0d0887\"],[0.1111111111111111,\"#46039f\"],[0.2222222222222222,\"#7201a8\"],[0.3333333333333333,\"#9c179e\"],[0.4444444444444444,\"#bd3786\"],[0.5555555555555556,\"#d8576b\"],[0.6666666666666666,\"#ed7953\"],[0.7777777777777778,\"#fb9f3a\"],[0.8888888888888888,\"#fdca26\"],[1.0,\"#f0f921\"]],\"type\":\"contour\"}],\"heatmapgl\":[{\"colorbar\":{\"outlinewidth\":0,\"ticks\":\"\"},\"colorscale\":[[0.0,\"#0d0887\"],[0.1111111111111111,\"#46039f\"],[0.2222222222222222,\"#7201a8\"],[0.3333333333333333,\"#9c179e\"],[0.4444444444444444,\"#bd3786\"],[0.5555555555555556,\"#d8576b\"],[0.6666666666666666,\"#ed7953\"],[0.7777777777777778,\"#fb9f3a\"],[0.8888888888888888,\"#fdca26\"],[1.0,\"#f0f921\"]],\"type\":\"heatmapgl\"}],\"heatmap\":[{\"colorbar\":{\"outlinewidth\":0,\"ticks\":\"\"},\"colorscale\":[[0.0,\"#0d0887\"],[0.1111111111111111,\"#46039f\"],[0.2222222222222222,\"#7201a8\"],[0.3333333333333333,\"#9c179e\"],[0.4444444444444444,\"#bd3786\"],[0.5555555555555556,\"#d8576b\"],[0.6666666666666666,\"#ed7953\"],[0.7777777777777778,\"#fb9f3a\"],[0.8888888888888888,\"#fdca26\"],[1.0,\"#f0f921\"]],\"type\":\"heatmap\"}],\"histogram2dcontour\":[{\"colorbar\":{\"outlinewidth\":0,\"ticks\":\"\"},\"colorscale\":[[0.0,\"#0d0887\"],[0.1111111111111111,\"#46039f\"],[0.2222222222222222,\"#7201a8\"],[0.3333333333333333,\"#9c179e\"],[0.4444444444444444,\"#bd3786\"],[0.5555555555555556,\"#d8576b\"],[0.6666666666666666,\"#ed7953\"],[0.7777777777777778,\"#fb9f3a\"],[0.8888888888888888,\"#fdca26\"],[1.0,\"#f0f921\"]],\"type\":\"histogram2dcontour\"}],\"histogram2d\":[{\"colorbar\":{\"outlinewidth\":0,\"ticks\":\"\"},\"colorscale\":[[0.0,\"#0d0887\"],[0.1111111111111111,\"#46039f\"],[0.2222222222222222,\"#7201a8\"],[0.3333333333333333,\"#9c179e\"],[0.4444444444444444,\"#bd3786\"],[0.5555555555555556,\"#d8576b\"],[0.6666666666666666,\"#ed7953\"],[0.7777777777777778,\"#fb9f3a\"],[0.8888888888888888,\"#fdca26\"],[1.0,\"#f0f921\"]],\"type\":\"histogram2d\"}],\"histogram\":[{\"marker\":{\"pattern\":{\"fillmode\":\"overlay\",\"size\":10,\"solidity\":0.2}},\"type\":\"histogram\"}],\"mesh3d\":[{\"colorbar\":{\"outlinewidth\":0,\"ticks\":\"\"},\"type\":\"mesh3d\"}],\"parcoords\":[{\"line\":{\"colorbar\":{\"outlinewidth\":0,\"ticks\":\"\"}},\"type\":\"parcoords\"}],\"pie\":[{\"automargin\":true,\"type\":\"pie\"}],\"scatter3d\":[{\"line\":{\"colorbar\":{\"outlinewidth\":0,\"ticks\":\"\"}},\"marker\":{\"colorbar\":{\"outlinewidth\":0,\"ticks\":\"\"}},\"type\":\"scatter3d\"}],\"scattercarpet\":[{\"marker\":{\"colorbar\":{\"outlinewidth\":0,\"ticks\":\"\"}},\"type\":\"scattercarpet\"}],\"scattergeo\":[{\"marker\":{\"colorbar\":{\"outlinewidth\":0,\"ticks\":\"\"}},\"type\":\"scattergeo\"}],\"scattergl\":[{\"marker\":{\"colorbar\":{\"outlinewidth\":0,\"ticks\":\"\"}},\"type\":\"scattergl\"}],\"scattermapbox\":[{\"marker\":{\"colorbar\":{\"outlinewidth\":0,\"ticks\":\"\"}},\"type\":\"scattermapbox\"}],\"scatterpolargl\":[{\"marker\":{\"colorbar\":{\"outlinewidth\":0,\"ticks\":\"\"}},\"type\":\"scatterpolargl\"}],\"scatterpolar\":[{\"marker\":{\"colorbar\":{\"outlinewidth\":0,\"ticks\":\"\"}},\"type\":\"scatterpolar\"}],\"scatter\":[{\"fillpattern\":{\"fillmode\":\"overlay\",\"size\":10,\"solidity\":0.2},\"type\":\"scatter\"}],\"scatterternary\":[{\"marker\":{\"colorbar\":{\"outlinewidth\":0,\"ticks\":\"\"}},\"type\":\"scatterternary\"}],\"surface\":[{\"colorbar\":{\"outlinewidth\":0,\"ticks\":\"\"},\"colorscale\":[[0.0,\"#0d0887\"],[0.1111111111111111,\"#46039f\"],[0.2222222222222222,\"#7201a8\"],[0.3333333333333333,\"#9c179e\"],[0.4444444444444444,\"#bd3786\"],[0.5555555555555556,\"#d8576b\"],[0.6666666666666666,\"#ed7953\"],[0.7777777777777778,\"#fb9f3a\"],[0.8888888888888888,\"#fdca26\"],[1.0,\"#f0f921\"]],\"type\":\"surface\"}],\"table\":[{\"cells\":{\"fill\":{\"color\":\"#EBF0F8\"},\"line\":{\"color\":\"white\"}},\"header\":{\"fill\":{\"color\":\"#C8D4E3\"},\"line\":{\"color\":\"white\"}},\"type\":\"table\"}]},\"layout\":{\"annotationdefaults\":{\"arrowcolor\":\"#2a3f5f\",\"arrowhead\":0,\"arrowwidth\":1},\"autotypenumbers\":\"strict\",\"coloraxis\":{\"colorbar\":{\"outlinewidth\":0,\"ticks\":\"\"}},\"colorscale\":{\"diverging\":[[0,\"#8e0152\"],[0.1,\"#c51b7d\"],[0.2,\"#de77ae\"],[0.3,\"#f1b6da\"],[0.4,\"#fde0ef\"],[0.5,\"#f7f7f7\"],[0.6,\"#e6f5d0\"],[0.7,\"#b8e186\"],[0.8,\"#7fbc41\"],[0.9,\"#4d9221\"],[1,\"#276419\"]],\"sequential\":[[0.0,\"#0d0887\"],[0.1111111111111111,\"#46039f\"],[0.2222222222222222,\"#7201a8\"],[0.3333333333333333,\"#9c179e\"],[0.4444444444444444,\"#bd3786\"],[0.5555555555555556,\"#d8576b\"],[0.6666666666666666,\"#ed7953\"],[0.7777777777777778,\"#fb9f3a\"],[0.8888888888888888,\"#fdca26\"],[1.0,\"#f0f921\"]],\"sequentialminus\":[[0.0,\"#0d0887\"],[0.1111111111111111,\"#46039f\"],[0.2222222222222222,\"#7201a8\"],[0.3333333333333333,\"#9c179e\"],[0.4444444444444444,\"#bd3786\"],[0.5555555555555556,\"#d8576b\"],[0.6666666666666666,\"#ed7953\"],[0.7777777777777778,\"#fb9f3a\"],[0.8888888888888888,\"#fdca26\"],[1.0,\"#f0f921\"]]},\"colorway\":[\"#636efa\",\"#EF553B\",\"#00cc96\",\"#ab63fa\",\"#FFA15A\",\"#19d3f3\",\"#FF6692\",\"#B6E880\",\"#FF97FF\",\"#FECB52\"],\"font\":{\"color\":\"#2a3f5f\"},\"geo\":{\"bgcolor\":\"white\",\"lakecolor\":\"white\",\"landcolor\":\"#E5ECF6\",\"showlakes\":true,\"showland\":true,\"subunitcolor\":\"white\"},\"hoverlabel\":{\"align\":\"left\"},\"hovermode\":\"closest\",\"mapbox\":{\"style\":\"light\"},\"paper_bgcolor\":\"white\",\"plot_bgcolor\":\"#E5ECF6\",\"polar\":{\"angularaxis\":{\"gridcolor\":\"white\",\"linecolor\":\"white\",\"ticks\":\"\"},\"bgcolor\":\"#E5ECF6\",\"radialaxis\":{\"gridcolor\":\"white\",\"linecolor\":\"white\",\"ticks\":\"\"}},\"scene\":{\"xaxis\":{\"backgroundcolor\":\"#E5ECF6\",\"gridcolor\":\"white\",\"gridwidth\":2,\"linecolor\":\"white\",\"showbackground\":true,\"ticks\":\"\",\"zerolinecolor\":\"white\"},\"yaxis\":{\"backgroundcolor\":\"#E5ECF6\",\"gridcolor\":\"white\",\"gridwidth\":2,\"linecolor\":\"white\",\"showbackground\":true,\"ticks\":\"\",\"zerolinecolor\":\"white\"},\"zaxis\":{\"backgroundcolor\":\"#E5ECF6\",\"gridcolor\":\"white\",\"gridwidth\":2,\"linecolor\":\"white\",\"showbackground\":true,\"ticks\":\"\",\"zerolinecolor\":\"white\"}},\"shapedefaults\":{\"line\":{\"color\":\"#2a3f5f\"}},\"ternary\":{\"aaxis\":{\"gridcolor\":\"white\",\"linecolor\":\"white\",\"ticks\":\"\"},\"baxis\":{\"gridcolor\":\"white\",\"linecolor\":\"white\",\"ticks\":\"\"},\"bgcolor\":\"#E5ECF6\",\"caxis\":{\"gridcolor\":\"white\",\"linecolor\":\"white\",\"ticks\":\"\"}},\"title\":{\"x\":0.05},\"xaxis\":{\"automargin\":true,\"gridcolor\":\"white\",\"linecolor\":\"white\",\"ticks\":\"\",\"title\":{\"standoff\":15},\"zerolinecolor\":\"white\",\"zerolinewidth\":2},\"yaxis\":{\"automargin\":true,\"gridcolor\":\"white\",\"linecolor\":\"white\",\"ticks\":\"\",\"title\":{\"standoff\":15},\"zerolinecolor\":\"white\",\"zerolinewidth\":2}}},\"title\":{\"font\":{\"color\":\"#4D5663\"},\"text\":\"Topic 0: Top 100 words after removing stop words\"},\"xaxis\":{\"gridcolor\":\"#E1E5ED\",\"linecolor\":\"black\",\"showgrid\":true,\"tickfont\":{\"color\":\"#4D5663\"},\"title\":{\"font\":{\"color\":\"#4D5663\"},\"text\":\"\"},\"zerolinecolor\":\"#E1E5ED\"},\"yaxis\":{\"gridcolor\":\"#E1E5ED\",\"linecolor\":\"black\",\"showgrid\":true,\"tickfont\":{\"color\":\"#4D5663\"},\"title\":{\"font\":{\"color\":\"#4D5663\"},\"text\":\"Count\"},\"zerolinecolor\":\"#E1E5ED\"}},                        {\"showLink\": true, \"linkText\": \"Export to plot.ly\", \"plotlyServerURL\": \"https://plot.ly\", \"responsive\": true}                    ).then(function(){\n",
       "                            \n",
       "var gd = document.getElementById('36b1011e-7726-4896-987d-f9086202bb13');\n",
       "var x = new MutationObserver(function (mutations, observer) {{\n",
       "        var display = window.getComputedStyle(gd).display;\n",
       "        if (!display || display === 'none') {{\n",
       "            console.log([gd, 'removed!']);\n",
       "            Plotly.purge(gd);\n",
       "            observer.disconnect();\n",
       "        }}\n",
       "}});\n",
       "\n",
       "// Listen for the removal of the full notebook cells\n",
       "var notebookContainer = gd.closest('#notebook-container');\n",
       "if (notebookContainer) {{\n",
       "    x.observe(notebookContainer, {childList: true});\n",
       "}}\n",
       "\n",
       "// Listen for the clearing of the current output cell\n",
       "var outputEl = gd.closest('.output');\n",
       "if (outputEl) {{\n",
       "    x.observe(outputEl, {childList: true});\n",
       "}}\n",
       "\n",
       "                        })                };                });            </script>        </div>"
      ]
     },
     "metadata": {},
     "output_type": "display_data"
    }
   ],
   "source": [
    "plot_model(lda)"
   ]
  },
  {
   "cell_type": "code",
   "execution_count": 17,
   "metadata": {},
   "outputs": [
    {
     "data": {
      "text/html": [
       "        <script type=\"text/javascript\">\n",
       "        window.PlotlyConfig = {MathJaxConfig: 'local'};\n",
       "        if (window.MathJax && window.MathJax.Hub && window.MathJax.Hub.Config) {window.MathJax.Hub.Config({SVG: {font: \"STIX-Web\"}});}\n",
       "        if (typeof require !== 'undefined') {\n",
       "        require.undef(\"plotly\");\n",
       "        requirejs.config({\n",
       "            paths: {\n",
       "                'plotly': ['https://cdn.plot.ly/plotly-2.16.1.min']\n",
       "            }\n",
       "        });\n",
       "        require(['plotly'], function(Plotly) {\n",
       "            window._Plotly = Plotly;\n",
       "        });\n",
       "        }\n",
       "        </script>\n",
       "        "
      ]
     },
     "metadata": {},
     "output_type": "display_data"
    },
    {
     "data": {
      "application/vnd.plotly.v1+json": {
       "config": {
        "linkText": "Export to plot.ly",
        "plotlyServerURL": "https://plot.ly",
        "showLink": true
       },
       "data": [
        {
         "marker": {
          "color": "rgba(255, 153, 51, 0.6)",
          "line": {
           "color": "rgba(255, 153, 51, 1.0)",
           "width": 1
          }
         },
         "name": "count",
         "orientation": "v",
         "text": "",
         "type": "bar",
         "x": [
          "create article",
          "translate article",
          "student improve",
          "involve student",
          "improve create",
          "improve article",
          "create improved",
          "article different",
          "student translate",
          "student create",
          "edit wikipedia",
          "edit create",
          "science student",
          "different one",
          "different language",
          "student wikipedia",
          "creation article",
          "create new",
          "specific topic",
          "improved article",
          "article relate",
          "article german",
          "university student",
          "new article",
          "wikimedia common",
          "language different",
          "awareness edit",
          "one assigment",
          "write improve",
          "article ethnology",
          "article picture",
          "raise environmental",
          "primarily linguistic",
          "pick topic",
          "page well",
          "phd student",
          "part class",
          "page university",
          "outreach country",
          "page focus",
          "researcher contribution",
          "student sex",
          "sex male",
          "topic week",
          "write page",
          "write edit",
          "work write",
          "wikipedia work",
          "well translate",
          "translate page",
          "tool effectively",
          "spring semester",
          "student young",
          "nationality native",
          "student pick",
          "student part",
          "student edit",
          "student develop",
          "native foreign",
          "aboriginal edit",
          "male female",
          "make student",
          "edit page",
          "edit article",
          "drive awareness",
          "develop tool",
          "create content",
          "country encourage",
          "contribution know",
          "content wikimedia",
          "collaboration centre",
          "class make",
          "class assignment",
          "chemistry environmental",
          "centre aboriginal",
          "awareness estonian",
          "awareness allow",
          "assignment improve",
          "article environmental",
          "edit write",
          "effectively use",
          "encourage student",
          "foreign major",
          "major chemistry",
          "language article",
          "know create",
          "introduce university",
          "allow student",
          "guide phd",
          "goal guide",
          "focus primarily",
          "environmental awareness",
          "focus introduce",
          "focus edit",
          "female nationality",
          "fall spring",
          "estonian language",
          "environmental science",
          "environmental issue",
          "young researcher"
         ],
         "y": [
          8,
          7,
          5,
          5,
          4,
          3,
          3,
          3,
          3,
          2,
          2,
          2,
          2,
          2,
          2,
          2,
          2,
          2,
          2,
          2,
          2,
          2,
          2,
          2,
          2,
          2,
          2,
          2,
          2,
          2,
          2,
          1,
          1,
          1,
          1,
          1,
          1,
          1,
          1,
          1,
          1,
          1,
          1,
          1,
          1,
          1,
          1,
          1,
          1,
          1,
          1,
          1,
          1,
          1,
          1,
          1,
          1,
          1,
          1,
          1,
          1,
          1,
          1,
          1,
          1,
          1,
          1,
          1,
          1,
          1,
          1,
          1,
          1,
          1,
          1,
          1,
          1,
          1,
          1,
          1,
          1,
          1,
          1,
          1,
          1,
          1,
          1,
          1,
          1,
          1,
          1,
          1,
          1,
          1,
          1,
          1,
          1,
          1,
          1,
          1
         ]
        }
       ],
       "layout": {
        "legend": {
         "bgcolor": "#F5F6F9",
         "font": {
          "color": "#4D5663"
         }
        },
        "paper_bgcolor": "#F5F6F9",
        "plot_bgcolor": "#F5F6F9",
        "template": {
         "data": {
          "bar": [
           {
            "error_x": {
             "color": "#2a3f5f"
            },
            "error_y": {
             "color": "#2a3f5f"
            },
            "marker": {
             "line": {
              "color": "#E5ECF6",
              "width": 0.5
             },
             "pattern": {
              "fillmode": "overlay",
              "size": 10,
              "solidity": 0.2
             }
            },
            "type": "bar"
           }
          ],
          "barpolar": [
           {
            "marker": {
             "line": {
              "color": "#E5ECF6",
              "width": 0.5
             },
             "pattern": {
              "fillmode": "overlay",
              "size": 10,
              "solidity": 0.2
             }
            },
            "type": "barpolar"
           }
          ],
          "carpet": [
           {
            "aaxis": {
             "endlinecolor": "#2a3f5f",
             "gridcolor": "white",
             "linecolor": "white",
             "minorgridcolor": "white",
             "startlinecolor": "#2a3f5f"
            },
            "baxis": {
             "endlinecolor": "#2a3f5f",
             "gridcolor": "white",
             "linecolor": "white",
             "minorgridcolor": "white",
             "startlinecolor": "#2a3f5f"
            },
            "type": "carpet"
           }
          ],
          "choropleth": [
           {
            "colorbar": {
             "outlinewidth": 0,
             "ticks": ""
            },
            "type": "choropleth"
           }
          ],
          "contour": [
           {
            "colorbar": {
             "outlinewidth": 0,
             "ticks": ""
            },
            "colorscale": [
             [
              0,
              "#0d0887"
             ],
             [
              0.1111111111111111,
              "#46039f"
             ],
             [
              0.2222222222222222,
              "#7201a8"
             ],
             [
              0.3333333333333333,
              "#9c179e"
             ],
             [
              0.4444444444444444,
              "#bd3786"
             ],
             [
              0.5555555555555556,
              "#d8576b"
             ],
             [
              0.6666666666666666,
              "#ed7953"
             ],
             [
              0.7777777777777778,
              "#fb9f3a"
             ],
             [
              0.8888888888888888,
              "#fdca26"
             ],
             [
              1,
              "#f0f921"
             ]
            ],
            "type": "contour"
           }
          ],
          "contourcarpet": [
           {
            "colorbar": {
             "outlinewidth": 0,
             "ticks": ""
            },
            "type": "contourcarpet"
           }
          ],
          "heatmap": [
           {
            "colorbar": {
             "outlinewidth": 0,
             "ticks": ""
            },
            "colorscale": [
             [
              0,
              "#0d0887"
             ],
             [
              0.1111111111111111,
              "#46039f"
             ],
             [
              0.2222222222222222,
              "#7201a8"
             ],
             [
              0.3333333333333333,
              "#9c179e"
             ],
             [
              0.4444444444444444,
              "#bd3786"
             ],
             [
              0.5555555555555556,
              "#d8576b"
             ],
             [
              0.6666666666666666,
              "#ed7953"
             ],
             [
              0.7777777777777778,
              "#fb9f3a"
             ],
             [
              0.8888888888888888,
              "#fdca26"
             ],
             [
              1,
              "#f0f921"
             ]
            ],
            "type": "heatmap"
           }
          ],
          "heatmapgl": [
           {
            "colorbar": {
             "outlinewidth": 0,
             "ticks": ""
            },
            "colorscale": [
             [
              0,
              "#0d0887"
             ],
             [
              0.1111111111111111,
              "#46039f"
             ],
             [
              0.2222222222222222,
              "#7201a8"
             ],
             [
              0.3333333333333333,
              "#9c179e"
             ],
             [
              0.4444444444444444,
              "#bd3786"
             ],
             [
              0.5555555555555556,
              "#d8576b"
             ],
             [
              0.6666666666666666,
              "#ed7953"
             ],
             [
              0.7777777777777778,
              "#fb9f3a"
             ],
             [
              0.8888888888888888,
              "#fdca26"
             ],
             [
              1,
              "#f0f921"
             ]
            ],
            "type": "heatmapgl"
           }
          ],
          "histogram": [
           {
            "marker": {
             "pattern": {
              "fillmode": "overlay",
              "size": 10,
              "solidity": 0.2
             }
            },
            "type": "histogram"
           }
          ],
          "histogram2d": [
           {
            "colorbar": {
             "outlinewidth": 0,
             "ticks": ""
            },
            "colorscale": [
             [
              0,
              "#0d0887"
             ],
             [
              0.1111111111111111,
              "#46039f"
             ],
             [
              0.2222222222222222,
              "#7201a8"
             ],
             [
              0.3333333333333333,
              "#9c179e"
             ],
             [
              0.4444444444444444,
              "#bd3786"
             ],
             [
              0.5555555555555556,
              "#d8576b"
             ],
             [
              0.6666666666666666,
              "#ed7953"
             ],
             [
              0.7777777777777778,
              "#fb9f3a"
             ],
             [
              0.8888888888888888,
              "#fdca26"
             ],
             [
              1,
              "#f0f921"
             ]
            ],
            "type": "histogram2d"
           }
          ],
          "histogram2dcontour": [
           {
            "colorbar": {
             "outlinewidth": 0,
             "ticks": ""
            },
            "colorscale": [
             [
              0,
              "#0d0887"
             ],
             [
              0.1111111111111111,
              "#46039f"
             ],
             [
              0.2222222222222222,
              "#7201a8"
             ],
             [
              0.3333333333333333,
              "#9c179e"
             ],
             [
              0.4444444444444444,
              "#bd3786"
             ],
             [
              0.5555555555555556,
              "#d8576b"
             ],
             [
              0.6666666666666666,
              "#ed7953"
             ],
             [
              0.7777777777777778,
              "#fb9f3a"
             ],
             [
              0.8888888888888888,
              "#fdca26"
             ],
             [
              1,
              "#f0f921"
             ]
            ],
            "type": "histogram2dcontour"
           }
          ],
          "mesh3d": [
           {
            "colorbar": {
             "outlinewidth": 0,
             "ticks": ""
            },
            "type": "mesh3d"
           }
          ],
          "parcoords": [
           {
            "line": {
             "colorbar": {
              "outlinewidth": 0,
              "ticks": ""
             }
            },
            "type": "parcoords"
           }
          ],
          "pie": [
           {
            "automargin": true,
            "type": "pie"
           }
          ],
          "scatter": [
           {
            "fillpattern": {
             "fillmode": "overlay",
             "size": 10,
             "solidity": 0.2
            },
            "type": "scatter"
           }
          ],
          "scatter3d": [
           {
            "line": {
             "colorbar": {
              "outlinewidth": 0,
              "ticks": ""
             }
            },
            "marker": {
             "colorbar": {
              "outlinewidth": 0,
              "ticks": ""
             }
            },
            "type": "scatter3d"
           }
          ],
          "scattercarpet": [
           {
            "marker": {
             "colorbar": {
              "outlinewidth": 0,
              "ticks": ""
             }
            },
            "type": "scattercarpet"
           }
          ],
          "scattergeo": [
           {
            "marker": {
             "colorbar": {
              "outlinewidth": 0,
              "ticks": ""
             }
            },
            "type": "scattergeo"
           }
          ],
          "scattergl": [
           {
            "marker": {
             "colorbar": {
              "outlinewidth": 0,
              "ticks": ""
             }
            },
            "type": "scattergl"
           }
          ],
          "scattermapbox": [
           {
            "marker": {
             "colorbar": {
              "outlinewidth": 0,
              "ticks": ""
             }
            },
            "type": "scattermapbox"
           }
          ],
          "scatterpolar": [
           {
            "marker": {
             "colorbar": {
              "outlinewidth": 0,
              "ticks": ""
             }
            },
            "type": "scatterpolar"
           }
          ],
          "scatterpolargl": [
           {
            "marker": {
             "colorbar": {
              "outlinewidth": 0,
              "ticks": ""
             }
            },
            "type": "scatterpolargl"
           }
          ],
          "scatterternary": [
           {
            "marker": {
             "colorbar": {
              "outlinewidth": 0,
              "ticks": ""
             }
            },
            "type": "scatterternary"
           }
          ],
          "surface": [
           {
            "colorbar": {
             "outlinewidth": 0,
             "ticks": ""
            },
            "colorscale": [
             [
              0,
              "#0d0887"
             ],
             [
              0.1111111111111111,
              "#46039f"
             ],
             [
              0.2222222222222222,
              "#7201a8"
             ],
             [
              0.3333333333333333,
              "#9c179e"
             ],
             [
              0.4444444444444444,
              "#bd3786"
             ],
             [
              0.5555555555555556,
              "#d8576b"
             ],
             [
              0.6666666666666666,
              "#ed7953"
             ],
             [
              0.7777777777777778,
              "#fb9f3a"
             ],
             [
              0.8888888888888888,
              "#fdca26"
             ],
             [
              1,
              "#f0f921"
             ]
            ],
            "type": "surface"
           }
          ],
          "table": [
           {
            "cells": {
             "fill": {
              "color": "#EBF0F8"
             },
             "line": {
              "color": "white"
             }
            },
            "header": {
             "fill": {
              "color": "#C8D4E3"
             },
             "line": {
              "color": "white"
             }
            },
            "type": "table"
           }
          ]
         },
         "layout": {
          "annotationdefaults": {
           "arrowcolor": "#2a3f5f",
           "arrowhead": 0,
           "arrowwidth": 1
          },
          "autotypenumbers": "strict",
          "coloraxis": {
           "colorbar": {
            "outlinewidth": 0,
            "ticks": ""
           }
          },
          "colorscale": {
           "diverging": [
            [
             0,
             "#8e0152"
            ],
            [
             0.1,
             "#c51b7d"
            ],
            [
             0.2,
             "#de77ae"
            ],
            [
             0.3,
             "#f1b6da"
            ],
            [
             0.4,
             "#fde0ef"
            ],
            [
             0.5,
             "#f7f7f7"
            ],
            [
             0.6,
             "#e6f5d0"
            ],
            [
             0.7,
             "#b8e186"
            ],
            [
             0.8,
             "#7fbc41"
            ],
            [
             0.9,
             "#4d9221"
            ],
            [
             1,
             "#276419"
            ]
           ],
           "sequential": [
            [
             0,
             "#0d0887"
            ],
            [
             0.1111111111111111,
             "#46039f"
            ],
            [
             0.2222222222222222,
             "#7201a8"
            ],
            [
             0.3333333333333333,
             "#9c179e"
            ],
            [
             0.4444444444444444,
             "#bd3786"
            ],
            [
             0.5555555555555556,
             "#d8576b"
            ],
            [
             0.6666666666666666,
             "#ed7953"
            ],
            [
             0.7777777777777778,
             "#fb9f3a"
            ],
            [
             0.8888888888888888,
             "#fdca26"
            ],
            [
             1,
             "#f0f921"
            ]
           ],
           "sequentialminus": [
            [
             0,
             "#0d0887"
            ],
            [
             0.1111111111111111,
             "#46039f"
            ],
            [
             0.2222222222222222,
             "#7201a8"
            ],
            [
             0.3333333333333333,
             "#9c179e"
            ],
            [
             0.4444444444444444,
             "#bd3786"
            ],
            [
             0.5555555555555556,
             "#d8576b"
            ],
            [
             0.6666666666666666,
             "#ed7953"
            ],
            [
             0.7777777777777778,
             "#fb9f3a"
            ],
            [
             0.8888888888888888,
             "#fdca26"
            ],
            [
             1,
             "#f0f921"
            ]
           ]
          },
          "colorway": [
           "#636efa",
           "#EF553B",
           "#00cc96",
           "#ab63fa",
           "#FFA15A",
           "#19d3f3",
           "#FF6692",
           "#B6E880",
           "#FF97FF",
           "#FECB52"
          ],
          "font": {
           "color": "#2a3f5f"
          },
          "geo": {
           "bgcolor": "white",
           "lakecolor": "white",
           "landcolor": "#E5ECF6",
           "showlakes": true,
           "showland": true,
           "subunitcolor": "white"
          },
          "hoverlabel": {
           "align": "left"
          },
          "hovermode": "closest",
          "mapbox": {
           "style": "light"
          },
          "paper_bgcolor": "white",
          "plot_bgcolor": "#E5ECF6",
          "polar": {
           "angularaxis": {
            "gridcolor": "white",
            "linecolor": "white",
            "ticks": ""
           },
           "bgcolor": "#E5ECF6",
           "radialaxis": {
            "gridcolor": "white",
            "linecolor": "white",
            "ticks": ""
           }
          },
          "scene": {
           "xaxis": {
            "backgroundcolor": "#E5ECF6",
            "gridcolor": "white",
            "gridwidth": 2,
            "linecolor": "white",
            "showbackground": true,
            "ticks": "",
            "zerolinecolor": "white"
           },
           "yaxis": {
            "backgroundcolor": "#E5ECF6",
            "gridcolor": "white",
            "gridwidth": 2,
            "linecolor": "white",
            "showbackground": true,
            "ticks": "",
            "zerolinecolor": "white"
           },
           "zaxis": {
            "backgroundcolor": "#E5ECF6",
            "gridcolor": "white",
            "gridwidth": 2,
            "linecolor": "white",
            "showbackground": true,
            "ticks": "",
            "zerolinecolor": "white"
           }
          },
          "shapedefaults": {
           "line": {
            "color": "#2a3f5f"
           }
          },
          "ternary": {
           "aaxis": {
            "gridcolor": "white",
            "linecolor": "white",
            "ticks": ""
           },
           "baxis": {
            "gridcolor": "white",
            "linecolor": "white",
            "ticks": ""
           },
           "bgcolor": "#E5ECF6",
           "caxis": {
            "gridcolor": "white",
            "linecolor": "white",
            "ticks": ""
           }
          },
          "title": {
           "x": 0.05
          },
          "xaxis": {
           "automargin": true,
           "gridcolor": "white",
           "linecolor": "white",
           "ticks": "",
           "title": {
            "standoff": 15
           },
           "zerolinecolor": "white",
           "zerolinewidth": 2
          },
          "yaxis": {
           "automargin": true,
           "gridcolor": "white",
           "linecolor": "white",
           "ticks": "",
           "title": {
            "standoff": 15
           },
           "zerolinecolor": "white",
           "zerolinewidth": 2
          }
         }
        },
        "title": {
         "font": {
          "color": "#4D5663"
         },
         "text": "Topic 0: Top 100 bigrams after removing stop words"
        },
        "xaxis": {
         "gridcolor": "#E1E5ED",
         "linecolor": "black",
         "showgrid": true,
         "tickfont": {
          "color": "#4D5663"
         },
         "title": {
          "font": {
           "color": "#4D5663"
          },
          "text": ""
         },
         "zerolinecolor": "#E1E5ED"
        },
        "yaxis": {
         "gridcolor": "#E1E5ED",
         "linecolor": "black",
         "showgrid": true,
         "tickfont": {
          "color": "#4D5663"
         },
         "title": {
          "font": {
           "color": "#4D5663"
          },
          "text": "Count"
         },
         "zerolinecolor": "#E1E5ED"
        }
       }
      },
      "text/html": [
       "<div>                            <div id=\"77026022-511a-45c9-87c8-9176106d3f41\" class=\"plotly-graph-div\" style=\"height:525px; width:100%;\"></div>            <script type=\"text/javascript\">                require([\"plotly\"], function(Plotly) {                    window.PLOTLYENV=window.PLOTLYENV || {};\n",
       "                    window.PLOTLYENV.BASE_URL='https://plot.ly';                                    if (document.getElementById(\"77026022-511a-45c9-87c8-9176106d3f41\")) {                    Plotly.newPlot(                        \"77026022-511a-45c9-87c8-9176106d3f41\",                        [{\"marker\":{\"color\":\"rgba(255, 153, 51, 0.6)\",\"line\":{\"color\":\"rgba(255, 153, 51, 1.0)\",\"width\":1}},\"name\":\"count\",\"orientation\":\"v\",\"text\":\"\",\"x\":[\"create article\",\"translate article\",\"student improve\",\"involve student\",\"improve create\",\"improve article\",\"create improved\",\"article different\",\"student translate\",\"student create\",\"edit wikipedia\",\"edit create\",\"science student\",\"different one\",\"different language\",\"student wikipedia\",\"creation article\",\"create new\",\"specific topic\",\"improved article\",\"article relate\",\"article german\",\"university student\",\"new article\",\"wikimedia common\",\"language different\",\"awareness edit\",\"one assigment\",\"write improve\",\"article ethnology\",\"article picture\",\"raise environmental\",\"primarily linguistic\",\"pick topic\",\"page well\",\"phd student\",\"part class\",\"page university\",\"outreach country\",\"page focus\",\"researcher contribution\",\"student sex\",\"sex male\",\"topic week\",\"write page\",\"write edit\",\"work write\",\"wikipedia work\",\"well translate\",\"translate page\",\"tool effectively\",\"spring semester\",\"student young\",\"nationality native\",\"student pick\",\"student part\",\"student edit\",\"student develop\",\"native foreign\",\"aboriginal edit\",\"male female\",\"make student\",\"edit page\",\"edit article\",\"drive awareness\",\"develop tool\",\"create content\",\"country encourage\",\"contribution know\",\"content wikimedia\",\"collaboration centre\",\"class make\",\"class assignment\",\"chemistry environmental\",\"centre aboriginal\",\"awareness estonian\",\"awareness allow\",\"assignment improve\",\"article environmental\",\"edit write\",\"effectively use\",\"encourage student\",\"foreign major\",\"major chemistry\",\"language article\",\"know create\",\"introduce university\",\"allow student\",\"guide phd\",\"goal guide\",\"focus primarily\",\"environmental awareness\",\"focus introduce\",\"focus edit\",\"female nationality\",\"fall spring\",\"estonian language\",\"environmental science\",\"environmental issue\",\"young researcher\"],\"y\":[8,7,5,5,4,3,3,3,3,2,2,2,2,2,2,2,2,2,2,2,2,2,2,2,2,2,2,2,2,2,2,1,1,1,1,1,1,1,1,1,1,1,1,1,1,1,1,1,1,1,1,1,1,1,1,1,1,1,1,1,1,1,1,1,1,1,1,1,1,1,1,1,1,1,1,1,1,1,1,1,1,1,1,1,1,1,1,1,1,1,1,1,1,1,1,1,1,1,1,1],\"type\":\"bar\"}],                        {\"legend\":{\"bgcolor\":\"#F5F6F9\",\"font\":{\"color\":\"#4D5663\"}},\"paper_bgcolor\":\"#F5F6F9\",\"plot_bgcolor\":\"#F5F6F9\",\"template\":{\"data\":{\"barpolar\":[{\"marker\":{\"line\":{\"color\":\"#E5ECF6\",\"width\":0.5},\"pattern\":{\"fillmode\":\"overlay\",\"size\":10,\"solidity\":0.2}},\"type\":\"barpolar\"}],\"bar\":[{\"error_x\":{\"color\":\"#2a3f5f\"},\"error_y\":{\"color\":\"#2a3f5f\"},\"marker\":{\"line\":{\"color\":\"#E5ECF6\",\"width\":0.5},\"pattern\":{\"fillmode\":\"overlay\",\"size\":10,\"solidity\":0.2}},\"type\":\"bar\"}],\"carpet\":[{\"aaxis\":{\"endlinecolor\":\"#2a3f5f\",\"gridcolor\":\"white\",\"linecolor\":\"white\",\"minorgridcolor\":\"white\",\"startlinecolor\":\"#2a3f5f\"},\"baxis\":{\"endlinecolor\":\"#2a3f5f\",\"gridcolor\":\"white\",\"linecolor\":\"white\",\"minorgridcolor\":\"white\",\"startlinecolor\":\"#2a3f5f\"},\"type\":\"carpet\"}],\"choropleth\":[{\"colorbar\":{\"outlinewidth\":0,\"ticks\":\"\"},\"type\":\"choropleth\"}],\"contourcarpet\":[{\"colorbar\":{\"outlinewidth\":0,\"ticks\":\"\"},\"type\":\"contourcarpet\"}],\"contour\":[{\"colorbar\":{\"outlinewidth\":0,\"ticks\":\"\"},\"colorscale\":[[0.0,\"#0d0887\"],[0.1111111111111111,\"#46039f\"],[0.2222222222222222,\"#7201a8\"],[0.3333333333333333,\"#9c179e\"],[0.4444444444444444,\"#bd3786\"],[0.5555555555555556,\"#d8576b\"],[0.6666666666666666,\"#ed7953\"],[0.7777777777777778,\"#fb9f3a\"],[0.8888888888888888,\"#fdca26\"],[1.0,\"#f0f921\"]],\"type\":\"contour\"}],\"heatmapgl\":[{\"colorbar\":{\"outlinewidth\":0,\"ticks\":\"\"},\"colorscale\":[[0.0,\"#0d0887\"],[0.1111111111111111,\"#46039f\"],[0.2222222222222222,\"#7201a8\"],[0.3333333333333333,\"#9c179e\"],[0.4444444444444444,\"#bd3786\"],[0.5555555555555556,\"#d8576b\"],[0.6666666666666666,\"#ed7953\"],[0.7777777777777778,\"#fb9f3a\"],[0.8888888888888888,\"#fdca26\"],[1.0,\"#f0f921\"]],\"type\":\"heatmapgl\"}],\"heatmap\":[{\"colorbar\":{\"outlinewidth\":0,\"ticks\":\"\"},\"colorscale\":[[0.0,\"#0d0887\"],[0.1111111111111111,\"#46039f\"],[0.2222222222222222,\"#7201a8\"],[0.3333333333333333,\"#9c179e\"],[0.4444444444444444,\"#bd3786\"],[0.5555555555555556,\"#d8576b\"],[0.6666666666666666,\"#ed7953\"],[0.7777777777777778,\"#fb9f3a\"],[0.8888888888888888,\"#fdca26\"],[1.0,\"#f0f921\"]],\"type\":\"heatmap\"}],\"histogram2dcontour\":[{\"colorbar\":{\"outlinewidth\":0,\"ticks\":\"\"},\"colorscale\":[[0.0,\"#0d0887\"],[0.1111111111111111,\"#46039f\"],[0.2222222222222222,\"#7201a8\"],[0.3333333333333333,\"#9c179e\"],[0.4444444444444444,\"#bd3786\"],[0.5555555555555556,\"#d8576b\"],[0.6666666666666666,\"#ed7953\"],[0.7777777777777778,\"#fb9f3a\"],[0.8888888888888888,\"#fdca26\"],[1.0,\"#f0f921\"]],\"type\":\"histogram2dcontour\"}],\"histogram2d\":[{\"colorbar\":{\"outlinewidth\":0,\"ticks\":\"\"},\"colorscale\":[[0.0,\"#0d0887\"],[0.1111111111111111,\"#46039f\"],[0.2222222222222222,\"#7201a8\"],[0.3333333333333333,\"#9c179e\"],[0.4444444444444444,\"#bd3786\"],[0.5555555555555556,\"#d8576b\"],[0.6666666666666666,\"#ed7953\"],[0.7777777777777778,\"#fb9f3a\"],[0.8888888888888888,\"#fdca26\"],[1.0,\"#f0f921\"]],\"type\":\"histogram2d\"}],\"histogram\":[{\"marker\":{\"pattern\":{\"fillmode\":\"overlay\",\"size\":10,\"solidity\":0.2}},\"type\":\"histogram\"}],\"mesh3d\":[{\"colorbar\":{\"outlinewidth\":0,\"ticks\":\"\"},\"type\":\"mesh3d\"}],\"parcoords\":[{\"line\":{\"colorbar\":{\"outlinewidth\":0,\"ticks\":\"\"}},\"type\":\"parcoords\"}],\"pie\":[{\"automargin\":true,\"type\":\"pie\"}],\"scatter3d\":[{\"line\":{\"colorbar\":{\"outlinewidth\":0,\"ticks\":\"\"}},\"marker\":{\"colorbar\":{\"outlinewidth\":0,\"ticks\":\"\"}},\"type\":\"scatter3d\"}],\"scattercarpet\":[{\"marker\":{\"colorbar\":{\"outlinewidth\":0,\"ticks\":\"\"}},\"type\":\"scattercarpet\"}],\"scattergeo\":[{\"marker\":{\"colorbar\":{\"outlinewidth\":0,\"ticks\":\"\"}},\"type\":\"scattergeo\"}],\"scattergl\":[{\"marker\":{\"colorbar\":{\"outlinewidth\":0,\"ticks\":\"\"}},\"type\":\"scattergl\"}],\"scattermapbox\":[{\"marker\":{\"colorbar\":{\"outlinewidth\":0,\"ticks\":\"\"}},\"type\":\"scattermapbox\"}],\"scatterpolargl\":[{\"marker\":{\"colorbar\":{\"outlinewidth\":0,\"ticks\":\"\"}},\"type\":\"scatterpolargl\"}],\"scatterpolar\":[{\"marker\":{\"colorbar\":{\"outlinewidth\":0,\"ticks\":\"\"}},\"type\":\"scatterpolar\"}],\"scatter\":[{\"fillpattern\":{\"fillmode\":\"overlay\",\"size\":10,\"solidity\":0.2},\"type\":\"scatter\"}],\"scatterternary\":[{\"marker\":{\"colorbar\":{\"outlinewidth\":0,\"ticks\":\"\"}},\"type\":\"scatterternary\"}],\"surface\":[{\"colorbar\":{\"outlinewidth\":0,\"ticks\":\"\"},\"colorscale\":[[0.0,\"#0d0887\"],[0.1111111111111111,\"#46039f\"],[0.2222222222222222,\"#7201a8\"],[0.3333333333333333,\"#9c179e\"],[0.4444444444444444,\"#bd3786\"],[0.5555555555555556,\"#d8576b\"],[0.6666666666666666,\"#ed7953\"],[0.7777777777777778,\"#fb9f3a\"],[0.8888888888888888,\"#fdca26\"],[1.0,\"#f0f921\"]],\"type\":\"surface\"}],\"table\":[{\"cells\":{\"fill\":{\"color\":\"#EBF0F8\"},\"line\":{\"color\":\"white\"}},\"header\":{\"fill\":{\"color\":\"#C8D4E3\"},\"line\":{\"color\":\"white\"}},\"type\":\"table\"}]},\"layout\":{\"annotationdefaults\":{\"arrowcolor\":\"#2a3f5f\",\"arrowhead\":0,\"arrowwidth\":1},\"autotypenumbers\":\"strict\",\"coloraxis\":{\"colorbar\":{\"outlinewidth\":0,\"ticks\":\"\"}},\"colorscale\":{\"diverging\":[[0,\"#8e0152\"],[0.1,\"#c51b7d\"],[0.2,\"#de77ae\"],[0.3,\"#f1b6da\"],[0.4,\"#fde0ef\"],[0.5,\"#f7f7f7\"],[0.6,\"#e6f5d0\"],[0.7,\"#b8e186\"],[0.8,\"#7fbc41\"],[0.9,\"#4d9221\"],[1,\"#276419\"]],\"sequential\":[[0.0,\"#0d0887\"],[0.1111111111111111,\"#46039f\"],[0.2222222222222222,\"#7201a8\"],[0.3333333333333333,\"#9c179e\"],[0.4444444444444444,\"#bd3786\"],[0.5555555555555556,\"#d8576b\"],[0.6666666666666666,\"#ed7953\"],[0.7777777777777778,\"#fb9f3a\"],[0.8888888888888888,\"#fdca26\"],[1.0,\"#f0f921\"]],\"sequentialminus\":[[0.0,\"#0d0887\"],[0.1111111111111111,\"#46039f\"],[0.2222222222222222,\"#7201a8\"],[0.3333333333333333,\"#9c179e\"],[0.4444444444444444,\"#bd3786\"],[0.5555555555555556,\"#d8576b\"],[0.6666666666666666,\"#ed7953\"],[0.7777777777777778,\"#fb9f3a\"],[0.8888888888888888,\"#fdca26\"],[1.0,\"#f0f921\"]]},\"colorway\":[\"#636efa\",\"#EF553B\",\"#00cc96\",\"#ab63fa\",\"#FFA15A\",\"#19d3f3\",\"#FF6692\",\"#B6E880\",\"#FF97FF\",\"#FECB52\"],\"font\":{\"color\":\"#2a3f5f\"},\"geo\":{\"bgcolor\":\"white\",\"lakecolor\":\"white\",\"landcolor\":\"#E5ECF6\",\"showlakes\":true,\"showland\":true,\"subunitcolor\":\"white\"},\"hoverlabel\":{\"align\":\"left\"},\"hovermode\":\"closest\",\"mapbox\":{\"style\":\"light\"},\"paper_bgcolor\":\"white\",\"plot_bgcolor\":\"#E5ECF6\",\"polar\":{\"angularaxis\":{\"gridcolor\":\"white\",\"linecolor\":\"white\",\"ticks\":\"\"},\"bgcolor\":\"#E5ECF6\",\"radialaxis\":{\"gridcolor\":\"white\",\"linecolor\":\"white\",\"ticks\":\"\"}},\"scene\":{\"xaxis\":{\"backgroundcolor\":\"#E5ECF6\",\"gridcolor\":\"white\",\"gridwidth\":2,\"linecolor\":\"white\",\"showbackground\":true,\"ticks\":\"\",\"zerolinecolor\":\"white\"},\"yaxis\":{\"backgroundcolor\":\"#E5ECF6\",\"gridcolor\":\"white\",\"gridwidth\":2,\"linecolor\":\"white\",\"showbackground\":true,\"ticks\":\"\",\"zerolinecolor\":\"white\"},\"zaxis\":{\"backgroundcolor\":\"#E5ECF6\",\"gridcolor\":\"white\",\"gridwidth\":2,\"linecolor\":\"white\",\"showbackground\":true,\"ticks\":\"\",\"zerolinecolor\":\"white\"}},\"shapedefaults\":{\"line\":{\"color\":\"#2a3f5f\"}},\"ternary\":{\"aaxis\":{\"gridcolor\":\"white\",\"linecolor\":\"white\",\"ticks\":\"\"},\"baxis\":{\"gridcolor\":\"white\",\"linecolor\":\"white\",\"ticks\":\"\"},\"bgcolor\":\"#E5ECF6\",\"caxis\":{\"gridcolor\":\"white\",\"linecolor\":\"white\",\"ticks\":\"\"}},\"title\":{\"x\":0.05},\"xaxis\":{\"automargin\":true,\"gridcolor\":\"white\",\"linecolor\":\"white\",\"ticks\":\"\",\"title\":{\"standoff\":15},\"zerolinecolor\":\"white\",\"zerolinewidth\":2},\"yaxis\":{\"automargin\":true,\"gridcolor\":\"white\",\"linecolor\":\"white\",\"ticks\":\"\",\"title\":{\"standoff\":15},\"zerolinecolor\":\"white\",\"zerolinewidth\":2}}},\"title\":{\"font\":{\"color\":\"#4D5663\"},\"text\":\"Topic 0: Top 100 bigrams after removing stop words\"},\"xaxis\":{\"gridcolor\":\"#E1E5ED\",\"linecolor\":\"black\",\"showgrid\":true,\"tickfont\":{\"color\":\"#4D5663\"},\"title\":{\"font\":{\"color\":\"#4D5663\"},\"text\":\"\"},\"zerolinecolor\":\"#E1E5ED\"},\"yaxis\":{\"gridcolor\":\"#E1E5ED\",\"linecolor\":\"black\",\"showgrid\":true,\"tickfont\":{\"color\":\"#4D5663\"},\"title\":{\"font\":{\"color\":\"#4D5663\"},\"text\":\"Count\"},\"zerolinecolor\":\"#E1E5ED\"}},                        {\"showLink\": true, \"linkText\": \"Export to plot.ly\", \"plotlyServerURL\": \"https://plot.ly\", \"responsive\": true}                    ).then(function(){\n",
       "                            \n",
       "var gd = document.getElementById('77026022-511a-45c9-87c8-9176106d3f41');\n",
       "var x = new MutationObserver(function (mutations, observer) {{\n",
       "        var display = window.getComputedStyle(gd).display;\n",
       "        if (!display || display === 'none') {{\n",
       "            console.log([gd, 'removed!']);\n",
       "            Plotly.purge(gd);\n",
       "            observer.disconnect();\n",
       "        }}\n",
       "}});\n",
       "\n",
       "// Listen for the removal of the full notebook cells\n",
       "var notebookContainer = gd.closest('#notebook-container');\n",
       "if (notebookContainer) {{\n",
       "    x.observe(notebookContainer, {childList: true});\n",
       "}}\n",
       "\n",
       "// Listen for the clearing of the current output cell\n",
       "var outputEl = gd.closest('.output');\n",
       "if (outputEl) {{\n",
       "    x.observe(outputEl, {childList: true});\n",
       "}}\n",
       "\n",
       "                        })                };                });            </script>        </div>"
      ]
     },
     "metadata": {},
     "output_type": "display_data"
    }
   ],
   "source": [
    "plot_model(lda, plot = 'bigram')"
   ]
  },
  {
   "cell_type": "code",
   "execution_count": 18,
   "metadata": {},
   "outputs": [
    {
     "data": {
      "text/html": [
       "        <script type=\"text/javascript\">\n",
       "        window.PlotlyConfig = {MathJaxConfig: 'local'};\n",
       "        if (window.MathJax && window.MathJax.Hub && window.MathJax.Hub.Config) {window.MathJax.Hub.Config({SVG: {font: \"STIX-Web\"}});}\n",
       "        if (typeof require !== 'undefined') {\n",
       "        require.undef(\"plotly\");\n",
       "        requirejs.config({\n",
       "            paths: {\n",
       "                'plotly': ['https://cdn.plot.ly/plotly-2.16.1.min']\n",
       "            }\n",
       "        });\n",
       "        require(['plotly'], function(Plotly) {\n",
       "            window._Plotly = Plotly;\n",
       "        });\n",
       "        }\n",
       "        </script>\n",
       "        "
      ]
     },
     "metadata": {},
     "output_type": "display_data"
    },
    {
     "data": {
      "application/vnd.plotly.v1+json": {
       "config": {
        "plotlyServerURL": "https://plot.ly"
       },
       "data": [
        {
         "alignmentgroup": "True",
         "customdata": [
          [
           "article, student, create, edit, translate, improve, university, language, project, topic"
          ],
          [
           "student, project, wikimedia, teacher, education, use, wikipedia, workshop, contribute, work"
          ],
          [
           "student, degree, project, course, article, unit, study, engineering, year, school"
          ],
          [
           "student, project, use, article, wikimedia, school, different, course, teach, tool"
          ]
         ],
         "hovertemplate": "Topic=%{x}<br>Documents=%{y}<br>Keyword=%{customdata[0]}<extra></extra>",
         "legendgroup": "",
         "marker": {
          "color": "#636efa",
          "pattern": {
           "shape": ""
          }
         },
         "name": "",
         "offsetgroup": "",
         "orientation": "v",
         "showlegend": false,
         "textposition": "auto",
         "type": "bar",
         "x": [
          "Topic 0",
          "Topic 1",
          "Topic 2",
          "Topic 3"
         ],
         "xaxis": "x",
         "y": [
          44,
          67,
          43,
          43
         ],
         "yaxis": "y"
        }
       ],
       "layout": {
        "barmode": "relative",
        "legend": {
         "tracegroupgap": 0
        },
        "template": {
         "data": {
          "bar": [
           {
            "error_x": {
             "color": "#2a3f5f"
            },
            "error_y": {
             "color": "#2a3f5f"
            },
            "marker": {
             "line": {
              "color": "#E5ECF6",
              "width": 0.5
             },
             "pattern": {
              "fillmode": "overlay",
              "size": 10,
              "solidity": 0.2
             }
            },
            "type": "bar"
           }
          ],
          "barpolar": [
           {
            "marker": {
             "line": {
              "color": "#E5ECF6",
              "width": 0.5
             },
             "pattern": {
              "fillmode": "overlay",
              "size": 10,
              "solidity": 0.2
             }
            },
            "type": "barpolar"
           }
          ],
          "carpet": [
           {
            "aaxis": {
             "endlinecolor": "#2a3f5f",
             "gridcolor": "white",
             "linecolor": "white",
             "minorgridcolor": "white",
             "startlinecolor": "#2a3f5f"
            },
            "baxis": {
             "endlinecolor": "#2a3f5f",
             "gridcolor": "white",
             "linecolor": "white",
             "minorgridcolor": "white",
             "startlinecolor": "#2a3f5f"
            },
            "type": "carpet"
           }
          ],
          "choropleth": [
           {
            "colorbar": {
             "outlinewidth": 0,
             "ticks": ""
            },
            "type": "choropleth"
           }
          ],
          "contour": [
           {
            "colorbar": {
             "outlinewidth": 0,
             "ticks": ""
            },
            "colorscale": [
             [
              0,
              "#0d0887"
             ],
             [
              0.1111111111111111,
              "#46039f"
             ],
             [
              0.2222222222222222,
              "#7201a8"
             ],
             [
              0.3333333333333333,
              "#9c179e"
             ],
             [
              0.4444444444444444,
              "#bd3786"
             ],
             [
              0.5555555555555556,
              "#d8576b"
             ],
             [
              0.6666666666666666,
              "#ed7953"
             ],
             [
              0.7777777777777778,
              "#fb9f3a"
             ],
             [
              0.8888888888888888,
              "#fdca26"
             ],
             [
              1,
              "#f0f921"
             ]
            ],
            "type": "contour"
           }
          ],
          "contourcarpet": [
           {
            "colorbar": {
             "outlinewidth": 0,
             "ticks": ""
            },
            "type": "contourcarpet"
           }
          ],
          "heatmap": [
           {
            "colorbar": {
             "outlinewidth": 0,
             "ticks": ""
            },
            "colorscale": [
             [
              0,
              "#0d0887"
             ],
             [
              0.1111111111111111,
              "#46039f"
             ],
             [
              0.2222222222222222,
              "#7201a8"
             ],
             [
              0.3333333333333333,
              "#9c179e"
             ],
             [
              0.4444444444444444,
              "#bd3786"
             ],
             [
              0.5555555555555556,
              "#d8576b"
             ],
             [
              0.6666666666666666,
              "#ed7953"
             ],
             [
              0.7777777777777778,
              "#fb9f3a"
             ],
             [
              0.8888888888888888,
              "#fdca26"
             ],
             [
              1,
              "#f0f921"
             ]
            ],
            "type": "heatmap"
           }
          ],
          "heatmapgl": [
           {
            "colorbar": {
             "outlinewidth": 0,
             "ticks": ""
            },
            "colorscale": [
             [
              0,
              "#0d0887"
             ],
             [
              0.1111111111111111,
              "#46039f"
             ],
             [
              0.2222222222222222,
              "#7201a8"
             ],
             [
              0.3333333333333333,
              "#9c179e"
             ],
             [
              0.4444444444444444,
              "#bd3786"
             ],
             [
              0.5555555555555556,
              "#d8576b"
             ],
             [
              0.6666666666666666,
              "#ed7953"
             ],
             [
              0.7777777777777778,
              "#fb9f3a"
             ],
             [
              0.8888888888888888,
              "#fdca26"
             ],
             [
              1,
              "#f0f921"
             ]
            ],
            "type": "heatmapgl"
           }
          ],
          "histogram": [
           {
            "marker": {
             "pattern": {
              "fillmode": "overlay",
              "size": 10,
              "solidity": 0.2
             }
            },
            "type": "histogram"
           }
          ],
          "histogram2d": [
           {
            "colorbar": {
             "outlinewidth": 0,
             "ticks": ""
            },
            "colorscale": [
             [
              0,
              "#0d0887"
             ],
             [
              0.1111111111111111,
              "#46039f"
             ],
             [
              0.2222222222222222,
              "#7201a8"
             ],
             [
              0.3333333333333333,
              "#9c179e"
             ],
             [
              0.4444444444444444,
              "#bd3786"
             ],
             [
              0.5555555555555556,
              "#d8576b"
             ],
             [
              0.6666666666666666,
              "#ed7953"
             ],
             [
              0.7777777777777778,
              "#fb9f3a"
             ],
             [
              0.8888888888888888,
              "#fdca26"
             ],
             [
              1,
              "#f0f921"
             ]
            ],
            "type": "histogram2d"
           }
          ],
          "histogram2dcontour": [
           {
            "colorbar": {
             "outlinewidth": 0,
             "ticks": ""
            },
            "colorscale": [
             [
              0,
              "#0d0887"
             ],
             [
              0.1111111111111111,
              "#46039f"
             ],
             [
              0.2222222222222222,
              "#7201a8"
             ],
             [
              0.3333333333333333,
              "#9c179e"
             ],
             [
              0.4444444444444444,
              "#bd3786"
             ],
             [
              0.5555555555555556,
              "#d8576b"
             ],
             [
              0.6666666666666666,
              "#ed7953"
             ],
             [
              0.7777777777777778,
              "#fb9f3a"
             ],
             [
              0.8888888888888888,
              "#fdca26"
             ],
             [
              1,
              "#f0f921"
             ]
            ],
            "type": "histogram2dcontour"
           }
          ],
          "mesh3d": [
           {
            "colorbar": {
             "outlinewidth": 0,
             "ticks": ""
            },
            "type": "mesh3d"
           }
          ],
          "parcoords": [
           {
            "line": {
             "colorbar": {
              "outlinewidth": 0,
              "ticks": ""
             }
            },
            "type": "parcoords"
           }
          ],
          "pie": [
           {
            "automargin": true,
            "type": "pie"
           }
          ],
          "scatter": [
           {
            "fillpattern": {
             "fillmode": "overlay",
             "size": 10,
             "solidity": 0.2
            },
            "type": "scatter"
           }
          ],
          "scatter3d": [
           {
            "line": {
             "colorbar": {
              "outlinewidth": 0,
              "ticks": ""
             }
            },
            "marker": {
             "colorbar": {
              "outlinewidth": 0,
              "ticks": ""
             }
            },
            "type": "scatter3d"
           }
          ],
          "scattercarpet": [
           {
            "marker": {
             "colorbar": {
              "outlinewidth": 0,
              "ticks": ""
             }
            },
            "type": "scattercarpet"
           }
          ],
          "scattergeo": [
           {
            "marker": {
             "colorbar": {
              "outlinewidth": 0,
              "ticks": ""
             }
            },
            "type": "scattergeo"
           }
          ],
          "scattergl": [
           {
            "marker": {
             "colorbar": {
              "outlinewidth": 0,
              "ticks": ""
             }
            },
            "type": "scattergl"
           }
          ],
          "scattermapbox": [
           {
            "marker": {
             "colorbar": {
              "outlinewidth": 0,
              "ticks": ""
             }
            },
            "type": "scattermapbox"
           }
          ],
          "scatterpolar": [
           {
            "marker": {
             "colorbar": {
              "outlinewidth": 0,
              "ticks": ""
             }
            },
            "type": "scatterpolar"
           }
          ],
          "scatterpolargl": [
           {
            "marker": {
             "colorbar": {
              "outlinewidth": 0,
              "ticks": ""
             }
            },
            "type": "scatterpolargl"
           }
          ],
          "scatterternary": [
           {
            "marker": {
             "colorbar": {
              "outlinewidth": 0,
              "ticks": ""
             }
            },
            "type": "scatterternary"
           }
          ],
          "surface": [
           {
            "colorbar": {
             "outlinewidth": 0,
             "ticks": ""
            },
            "colorscale": [
             [
              0,
              "#0d0887"
             ],
             [
              0.1111111111111111,
              "#46039f"
             ],
             [
              0.2222222222222222,
              "#7201a8"
             ],
             [
              0.3333333333333333,
              "#9c179e"
             ],
             [
              0.4444444444444444,
              "#bd3786"
             ],
             [
              0.5555555555555556,
              "#d8576b"
             ],
             [
              0.6666666666666666,
              "#ed7953"
             ],
             [
              0.7777777777777778,
              "#fb9f3a"
             ],
             [
              0.8888888888888888,
              "#fdca26"
             ],
             [
              1,
              "#f0f921"
             ]
            ],
            "type": "surface"
           }
          ],
          "table": [
           {
            "cells": {
             "fill": {
              "color": "#EBF0F8"
             },
             "line": {
              "color": "white"
             }
            },
            "header": {
             "fill": {
              "color": "#C8D4E3"
             },
             "line": {
              "color": "white"
             }
            },
            "type": "table"
           }
          ]
         },
         "layout": {
          "annotationdefaults": {
           "arrowcolor": "#2a3f5f",
           "arrowhead": 0,
           "arrowwidth": 1
          },
          "autotypenumbers": "strict",
          "coloraxis": {
           "colorbar": {
            "outlinewidth": 0,
            "ticks": ""
           }
          },
          "colorscale": {
           "diverging": [
            [
             0,
             "#8e0152"
            ],
            [
             0.1,
             "#c51b7d"
            ],
            [
             0.2,
             "#de77ae"
            ],
            [
             0.3,
             "#f1b6da"
            ],
            [
             0.4,
             "#fde0ef"
            ],
            [
             0.5,
             "#f7f7f7"
            ],
            [
             0.6,
             "#e6f5d0"
            ],
            [
             0.7,
             "#b8e186"
            ],
            [
             0.8,
             "#7fbc41"
            ],
            [
             0.9,
             "#4d9221"
            ],
            [
             1,
             "#276419"
            ]
           ],
           "sequential": [
            [
             0,
             "#0d0887"
            ],
            [
             0.1111111111111111,
             "#46039f"
            ],
            [
             0.2222222222222222,
             "#7201a8"
            ],
            [
             0.3333333333333333,
             "#9c179e"
            ],
            [
             0.4444444444444444,
             "#bd3786"
            ],
            [
             0.5555555555555556,
             "#d8576b"
            ],
            [
             0.6666666666666666,
             "#ed7953"
            ],
            [
             0.7777777777777778,
             "#fb9f3a"
            ],
            [
             0.8888888888888888,
             "#fdca26"
            ],
            [
             1,
             "#f0f921"
            ]
           ],
           "sequentialminus": [
            [
             0,
             "#0d0887"
            ],
            [
             0.1111111111111111,
             "#46039f"
            ],
            [
             0.2222222222222222,
             "#7201a8"
            ],
            [
             0.3333333333333333,
             "#9c179e"
            ],
            [
             0.4444444444444444,
             "#bd3786"
            ],
            [
             0.5555555555555556,
             "#d8576b"
            ],
            [
             0.6666666666666666,
             "#ed7953"
            ],
            [
             0.7777777777777778,
             "#fb9f3a"
            ],
            [
             0.8888888888888888,
             "#fdca26"
            ],
            [
             1,
             "#f0f921"
            ]
           ]
          },
          "colorway": [
           "#636efa",
           "#EF553B",
           "#00cc96",
           "#ab63fa",
           "#FFA15A",
           "#19d3f3",
           "#FF6692",
           "#B6E880",
           "#FF97FF",
           "#FECB52"
          ],
          "font": {
           "color": "#2a3f5f"
          },
          "geo": {
           "bgcolor": "white",
           "lakecolor": "white",
           "landcolor": "#E5ECF6",
           "showlakes": true,
           "showland": true,
           "subunitcolor": "white"
          },
          "hoverlabel": {
           "align": "left"
          },
          "hovermode": "closest",
          "mapbox": {
           "style": "light"
          },
          "paper_bgcolor": "white",
          "plot_bgcolor": "#E5ECF6",
          "polar": {
           "angularaxis": {
            "gridcolor": "white",
            "linecolor": "white",
            "ticks": ""
           },
           "bgcolor": "#E5ECF6",
           "radialaxis": {
            "gridcolor": "white",
            "linecolor": "white",
            "ticks": ""
           }
          },
          "scene": {
           "xaxis": {
            "backgroundcolor": "#E5ECF6",
            "gridcolor": "white",
            "gridwidth": 2,
            "linecolor": "white",
            "showbackground": true,
            "ticks": "",
            "zerolinecolor": "white"
           },
           "yaxis": {
            "backgroundcolor": "#E5ECF6",
            "gridcolor": "white",
            "gridwidth": 2,
            "linecolor": "white",
            "showbackground": true,
            "ticks": "",
            "zerolinecolor": "white"
           },
           "zaxis": {
            "backgroundcolor": "#E5ECF6",
            "gridcolor": "white",
            "gridwidth": 2,
            "linecolor": "white",
            "showbackground": true,
            "ticks": "",
            "zerolinecolor": "white"
           }
          },
          "shapedefaults": {
           "line": {
            "color": "#2a3f5f"
           }
          },
          "ternary": {
           "aaxis": {
            "gridcolor": "white",
            "linecolor": "white",
            "ticks": ""
           },
           "baxis": {
            "gridcolor": "white",
            "linecolor": "white",
            "ticks": ""
           },
           "bgcolor": "#E5ECF6",
           "caxis": {
            "gridcolor": "white",
            "linecolor": "white",
            "ticks": ""
           }
          },
          "title": {
           "x": 0.05
          },
          "xaxis": {
           "automargin": true,
           "gridcolor": "white",
           "linecolor": "white",
           "ticks": "",
           "title": {
            "standoff": 15
           },
           "zerolinecolor": "white",
           "zerolinewidth": 2
          },
          "yaxis": {
           "automargin": true,
           "gridcolor": "white",
           "linecolor": "white",
           "ticks": "",
           "title": {
            "standoff": 15
           },
           "zerolinecolor": "white",
           "zerolinewidth": 2
          }
         }
        },
        "title": {
         "text": "Document Distribution by Topics"
        },
        "xaxis": {
         "anchor": "y",
         "domain": [
          0,
          1
         ],
         "title": {
          "text": "Topic"
         }
        },
        "yaxis": {
         "anchor": "x",
         "domain": [
          0,
          1
         ],
         "title": {
          "text": "Documents"
         }
        }
       }
      },
      "text/html": [
       "<div>                            <div id=\"a05aaf2a-7dd9-4c74-acb6-8f74b4986f14\" class=\"plotly-graph-div\" style=\"height:525px; width:100%;\"></div>            <script type=\"text/javascript\">                require([\"plotly\"], function(Plotly) {                    window.PLOTLYENV=window.PLOTLYENV || {};                                    if (document.getElementById(\"a05aaf2a-7dd9-4c74-acb6-8f74b4986f14\")) {                    Plotly.newPlot(                        \"a05aaf2a-7dd9-4c74-acb6-8f74b4986f14\",                        [{\"alignmentgroup\":\"True\",\"customdata\":[[\"article, student, create, edit, translate, improve, university, language, project, topic\"],[\"student, project, wikimedia, teacher, education, use, wikipedia, workshop, contribute, work\"],[\"student, degree, project, course, article, unit, study, engineering, year, school\"],[\"student, project, use, article, wikimedia, school, different, course, teach, tool\"]],\"hovertemplate\":\"Topic=%{x}<br>Documents=%{y}<br>Keyword=%{customdata[0]}<extra></extra>\",\"legendgroup\":\"\",\"marker\":{\"color\":\"#636efa\",\"pattern\":{\"shape\":\"\"}},\"name\":\"\",\"offsetgroup\":\"\",\"orientation\":\"v\",\"showlegend\":false,\"textposition\":\"auto\",\"x\":[\"Topic 0\",\"Topic 1\",\"Topic 2\",\"Topic 3\"],\"xaxis\":\"x\",\"y\":[44,67,43,43],\"yaxis\":\"y\",\"type\":\"bar\"}],                        {\"template\":{\"data\":{\"histogram2dcontour\":[{\"type\":\"histogram2dcontour\",\"colorbar\":{\"outlinewidth\":0,\"ticks\":\"\"},\"colorscale\":[[0.0,\"#0d0887\"],[0.1111111111111111,\"#46039f\"],[0.2222222222222222,\"#7201a8\"],[0.3333333333333333,\"#9c179e\"],[0.4444444444444444,\"#bd3786\"],[0.5555555555555556,\"#d8576b\"],[0.6666666666666666,\"#ed7953\"],[0.7777777777777778,\"#fb9f3a\"],[0.8888888888888888,\"#fdca26\"],[1.0,\"#f0f921\"]]}],\"choropleth\":[{\"type\":\"choropleth\",\"colorbar\":{\"outlinewidth\":0,\"ticks\":\"\"}}],\"histogram2d\":[{\"type\":\"histogram2d\",\"colorbar\":{\"outlinewidth\":0,\"ticks\":\"\"},\"colorscale\":[[0.0,\"#0d0887\"],[0.1111111111111111,\"#46039f\"],[0.2222222222222222,\"#7201a8\"],[0.3333333333333333,\"#9c179e\"],[0.4444444444444444,\"#bd3786\"],[0.5555555555555556,\"#d8576b\"],[0.6666666666666666,\"#ed7953\"],[0.7777777777777778,\"#fb9f3a\"],[0.8888888888888888,\"#fdca26\"],[1.0,\"#f0f921\"]]}],\"heatmap\":[{\"type\":\"heatmap\",\"colorbar\":{\"outlinewidth\":0,\"ticks\":\"\"},\"colorscale\":[[0.0,\"#0d0887\"],[0.1111111111111111,\"#46039f\"],[0.2222222222222222,\"#7201a8\"],[0.3333333333333333,\"#9c179e\"],[0.4444444444444444,\"#bd3786\"],[0.5555555555555556,\"#d8576b\"],[0.6666666666666666,\"#ed7953\"],[0.7777777777777778,\"#fb9f3a\"],[0.8888888888888888,\"#fdca26\"],[1.0,\"#f0f921\"]]}],\"heatmapgl\":[{\"type\":\"heatmapgl\",\"colorbar\":{\"outlinewidth\":0,\"ticks\":\"\"},\"colorscale\":[[0.0,\"#0d0887\"],[0.1111111111111111,\"#46039f\"],[0.2222222222222222,\"#7201a8\"],[0.3333333333333333,\"#9c179e\"],[0.4444444444444444,\"#bd3786\"],[0.5555555555555556,\"#d8576b\"],[0.6666666666666666,\"#ed7953\"],[0.7777777777777778,\"#fb9f3a\"],[0.8888888888888888,\"#fdca26\"],[1.0,\"#f0f921\"]]}],\"contourcarpet\":[{\"type\":\"contourcarpet\",\"colorbar\":{\"outlinewidth\":0,\"ticks\":\"\"}}],\"contour\":[{\"type\":\"contour\",\"colorbar\":{\"outlinewidth\":0,\"ticks\":\"\"},\"colorscale\":[[0.0,\"#0d0887\"],[0.1111111111111111,\"#46039f\"],[0.2222222222222222,\"#7201a8\"],[0.3333333333333333,\"#9c179e\"],[0.4444444444444444,\"#bd3786\"],[0.5555555555555556,\"#d8576b\"],[0.6666666666666666,\"#ed7953\"],[0.7777777777777778,\"#fb9f3a\"],[0.8888888888888888,\"#fdca26\"],[1.0,\"#f0f921\"]]}],\"surface\":[{\"type\":\"surface\",\"colorbar\":{\"outlinewidth\":0,\"ticks\":\"\"},\"colorscale\":[[0.0,\"#0d0887\"],[0.1111111111111111,\"#46039f\"],[0.2222222222222222,\"#7201a8\"],[0.3333333333333333,\"#9c179e\"],[0.4444444444444444,\"#bd3786\"],[0.5555555555555556,\"#d8576b\"],[0.6666666666666666,\"#ed7953\"],[0.7777777777777778,\"#fb9f3a\"],[0.8888888888888888,\"#fdca26\"],[1.0,\"#f0f921\"]]}],\"mesh3d\":[{\"type\":\"mesh3d\",\"colorbar\":{\"outlinewidth\":0,\"ticks\":\"\"}}],\"scatter\":[{\"fillpattern\":{\"fillmode\":\"overlay\",\"size\":10,\"solidity\":0.2},\"type\":\"scatter\"}],\"parcoords\":[{\"type\":\"parcoords\",\"line\":{\"colorbar\":{\"outlinewidth\":0,\"ticks\":\"\"}}}],\"scatterpolargl\":[{\"type\":\"scatterpolargl\",\"marker\":{\"colorbar\":{\"outlinewidth\":0,\"ticks\":\"\"}}}],\"bar\":[{\"error_x\":{\"color\":\"#2a3f5f\"},\"error_y\":{\"color\":\"#2a3f5f\"},\"marker\":{\"line\":{\"color\":\"#E5ECF6\",\"width\":0.5},\"pattern\":{\"fillmode\":\"overlay\",\"size\":10,\"solidity\":0.2}},\"type\":\"bar\"}],\"scattergeo\":[{\"type\":\"scattergeo\",\"marker\":{\"colorbar\":{\"outlinewidth\":0,\"ticks\":\"\"}}}],\"scatterpolar\":[{\"type\":\"scatterpolar\",\"marker\":{\"colorbar\":{\"outlinewidth\":0,\"ticks\":\"\"}}}],\"histogram\":[{\"marker\":{\"pattern\":{\"fillmode\":\"overlay\",\"size\":10,\"solidity\":0.2}},\"type\":\"histogram\"}],\"scattergl\":[{\"type\":\"scattergl\",\"marker\":{\"colorbar\":{\"outlinewidth\":0,\"ticks\":\"\"}}}],\"scatter3d\":[{\"type\":\"scatter3d\",\"line\":{\"colorbar\":{\"outlinewidth\":0,\"ticks\":\"\"}},\"marker\":{\"colorbar\":{\"outlinewidth\":0,\"ticks\":\"\"}}}],\"scattermapbox\":[{\"type\":\"scattermapbox\",\"marker\":{\"colorbar\":{\"outlinewidth\":0,\"ticks\":\"\"}}}],\"scatterternary\":[{\"type\":\"scatterternary\",\"marker\":{\"colorbar\":{\"outlinewidth\":0,\"ticks\":\"\"}}}],\"scattercarpet\":[{\"type\":\"scattercarpet\",\"marker\":{\"colorbar\":{\"outlinewidth\":0,\"ticks\":\"\"}}}],\"carpet\":[{\"aaxis\":{\"endlinecolor\":\"#2a3f5f\",\"gridcolor\":\"white\",\"linecolor\":\"white\",\"minorgridcolor\":\"white\",\"startlinecolor\":\"#2a3f5f\"},\"baxis\":{\"endlinecolor\":\"#2a3f5f\",\"gridcolor\":\"white\",\"linecolor\":\"white\",\"minorgridcolor\":\"white\",\"startlinecolor\":\"#2a3f5f\"},\"type\":\"carpet\"}],\"table\":[{\"cells\":{\"fill\":{\"color\":\"#EBF0F8\"},\"line\":{\"color\":\"white\"}},\"header\":{\"fill\":{\"color\":\"#C8D4E3\"},\"line\":{\"color\":\"white\"}},\"type\":\"table\"}],\"barpolar\":[{\"marker\":{\"line\":{\"color\":\"#E5ECF6\",\"width\":0.5},\"pattern\":{\"fillmode\":\"overlay\",\"size\":10,\"solidity\":0.2}},\"type\":\"barpolar\"}],\"pie\":[{\"automargin\":true,\"type\":\"pie\"}]},\"layout\":{\"autotypenumbers\":\"strict\",\"colorway\":[\"#636efa\",\"#EF553B\",\"#00cc96\",\"#ab63fa\",\"#FFA15A\",\"#19d3f3\",\"#FF6692\",\"#B6E880\",\"#FF97FF\",\"#FECB52\"],\"font\":{\"color\":\"#2a3f5f\"},\"hovermode\":\"closest\",\"hoverlabel\":{\"align\":\"left\"},\"paper_bgcolor\":\"white\",\"plot_bgcolor\":\"#E5ECF6\",\"polar\":{\"bgcolor\":\"#E5ECF6\",\"angularaxis\":{\"gridcolor\":\"white\",\"linecolor\":\"white\",\"ticks\":\"\"},\"radialaxis\":{\"gridcolor\":\"white\",\"linecolor\":\"white\",\"ticks\":\"\"}},\"ternary\":{\"bgcolor\":\"#E5ECF6\",\"aaxis\":{\"gridcolor\":\"white\",\"linecolor\":\"white\",\"ticks\":\"\"},\"baxis\":{\"gridcolor\":\"white\",\"linecolor\":\"white\",\"ticks\":\"\"},\"caxis\":{\"gridcolor\":\"white\",\"linecolor\":\"white\",\"ticks\":\"\"}},\"coloraxis\":{\"colorbar\":{\"outlinewidth\":0,\"ticks\":\"\"}},\"colorscale\":{\"sequential\":[[0.0,\"#0d0887\"],[0.1111111111111111,\"#46039f\"],[0.2222222222222222,\"#7201a8\"],[0.3333333333333333,\"#9c179e\"],[0.4444444444444444,\"#bd3786\"],[0.5555555555555556,\"#d8576b\"],[0.6666666666666666,\"#ed7953\"],[0.7777777777777778,\"#fb9f3a\"],[0.8888888888888888,\"#fdca26\"],[1.0,\"#f0f921\"]],\"sequentialminus\":[[0.0,\"#0d0887\"],[0.1111111111111111,\"#46039f\"],[0.2222222222222222,\"#7201a8\"],[0.3333333333333333,\"#9c179e\"],[0.4444444444444444,\"#bd3786\"],[0.5555555555555556,\"#d8576b\"],[0.6666666666666666,\"#ed7953\"],[0.7777777777777778,\"#fb9f3a\"],[0.8888888888888888,\"#fdca26\"],[1.0,\"#f0f921\"]],\"diverging\":[[0,\"#8e0152\"],[0.1,\"#c51b7d\"],[0.2,\"#de77ae\"],[0.3,\"#f1b6da\"],[0.4,\"#fde0ef\"],[0.5,\"#f7f7f7\"],[0.6,\"#e6f5d0\"],[0.7,\"#b8e186\"],[0.8,\"#7fbc41\"],[0.9,\"#4d9221\"],[1,\"#276419\"]]},\"xaxis\":{\"gridcolor\":\"white\",\"linecolor\":\"white\",\"ticks\":\"\",\"title\":{\"standoff\":15},\"zerolinecolor\":\"white\",\"automargin\":true,\"zerolinewidth\":2},\"yaxis\":{\"gridcolor\":\"white\",\"linecolor\":\"white\",\"ticks\":\"\",\"title\":{\"standoff\":15},\"zerolinecolor\":\"white\",\"automargin\":true,\"zerolinewidth\":2},\"scene\":{\"xaxis\":{\"backgroundcolor\":\"#E5ECF6\",\"gridcolor\":\"white\",\"linecolor\":\"white\",\"showbackground\":true,\"ticks\":\"\",\"zerolinecolor\":\"white\",\"gridwidth\":2},\"yaxis\":{\"backgroundcolor\":\"#E5ECF6\",\"gridcolor\":\"white\",\"linecolor\":\"white\",\"showbackground\":true,\"ticks\":\"\",\"zerolinecolor\":\"white\",\"gridwidth\":2},\"zaxis\":{\"backgroundcolor\":\"#E5ECF6\",\"gridcolor\":\"white\",\"linecolor\":\"white\",\"showbackground\":true,\"ticks\":\"\",\"zerolinecolor\":\"white\",\"gridwidth\":2}},\"shapedefaults\":{\"line\":{\"color\":\"#2a3f5f\"}},\"annotationdefaults\":{\"arrowcolor\":\"#2a3f5f\",\"arrowhead\":0,\"arrowwidth\":1},\"geo\":{\"bgcolor\":\"white\",\"landcolor\":\"#E5ECF6\",\"subunitcolor\":\"white\",\"showland\":true,\"showlakes\":true,\"lakecolor\":\"white\"},\"title\":{\"x\":0.05},\"mapbox\":{\"style\":\"light\"}}},\"xaxis\":{\"anchor\":\"y\",\"domain\":[0.0,1.0],\"title\":{\"text\":\"Topic\"}},\"yaxis\":{\"anchor\":\"x\",\"domain\":[0.0,1.0],\"title\":{\"text\":\"Documents\"}},\"legend\":{\"tracegroupgap\":0},\"title\":{\"text\":\"Document Distribution by Topics\"},\"barmode\":\"relative\"},                        {\"responsive\": true}                    ).then(function(){\n",
       "                            \n",
       "var gd = document.getElementById('a05aaf2a-7dd9-4c74-acb6-8f74b4986f14');\n",
       "var x = new MutationObserver(function (mutations, observer) {{\n",
       "        var display = window.getComputedStyle(gd).display;\n",
       "        if (!display || display === 'none') {{\n",
       "            console.log([gd, 'removed!']);\n",
       "            Plotly.purge(gd);\n",
       "            observer.disconnect();\n",
       "        }}\n",
       "}});\n",
       "\n",
       "// Listen for the removal of the full notebook cells\n",
       "var notebookContainer = gd.closest('#notebook-container');\n",
       "if (notebookContainer) {{\n",
       "    x.observe(notebookContainer, {childList: true});\n",
       "}}\n",
       "\n",
       "// Listen for the clearing of the current output cell\n",
       "var outputEl = gd.closest('.output');\n",
       "if (outputEl) {{\n",
       "    x.observe(outputEl, {childList: true});\n",
       "}}\n",
       "\n",
       "                        })                };                });            </script>        </div>"
      ]
     },
     "metadata": {},
     "output_type": "display_data"
    }
   ],
   "source": [
    "plot_model(lda, plot = 'topic_distribution')"
   ]
  },
  {
   "cell_type": "code",
   "execution_count": 65,
   "metadata": {},
   "outputs": [
    {
     "data": {
      "text/html": [
       "        <script type=\"text/javascript\">\n",
       "        window.PlotlyConfig = {MathJaxConfig: 'local'};\n",
       "        if (window.MathJax && window.MathJax.Hub && window.MathJax.Hub.Config) {window.MathJax.Hub.Config({SVG: {font: \"STIX-Web\"}});}\n",
       "        if (typeof require !== 'undefined') {\n",
       "        require.undef(\"plotly\");\n",
       "        requirejs.config({\n",
       "            paths: {\n",
       "                'plotly': ['https://cdn.plot.ly/plotly-2.16.1.min']\n",
       "            }\n",
       "        });\n",
       "        require(['plotly'], function(Plotly) {\n",
       "            window._Plotly = Plotly;\n",
       "        });\n",
       "        }\n",
       "        </script>\n",
       "        "
      ]
     },
     "metadata": {},
     "output_type": "display_data"
    },
    {
     "data": {
      "application/vnd.plotly.v1+json": {
       "config": {
        "plotlyServerURL": "https://plot.ly"
       },
       "data": [
        {
         "alignmentgroup": "True",
         "customdata": [
          [
           "article, student, create, edit, translate, improve, university, language, project, topic"
          ],
          [
           "student, project, wikimedia, teacher, education, use, wikipedia, workshop, contribute, work"
          ],
          [
           "student, degree, project, course, article, unit, study, engineering, year, school"
          ],
          [
           "student, project, use, article, wikimedia, school, different, course, teach, tool"
          ]
         ],
         "hovertemplate": "Topic=%{x}<br>Documents=%{y}<br>Keyword=%{customdata[0]}<extra></extra>",
         "legendgroup": "",
         "marker": {
          "color": "#636efa",
          "pattern": {
           "shape": ""
          }
         },
         "name": "",
         "offsetgroup": "",
         "orientation": "v",
         "showlegend": false,
         "textposition": "auto",
         "type": "bar",
         "x": [
          "Topic 0",
          "Topic 1",
          "Topic 2",
          "Topic 3"
         ],
         "xaxis": "x",
         "y": [
          44,
          67,
          43,
          43
         ],
         "yaxis": "y"
        }
       ],
       "layout": {
        "barmode": "relative",
        "legend": {
         "tracegroupgap": 0
        },
        "template": {
         "data": {
          "bar": [
           {
            "error_x": {
             "color": "#2a3f5f"
            },
            "error_y": {
             "color": "#2a3f5f"
            },
            "marker": {
             "line": {
              "color": "#E5ECF6",
              "width": 0.5
             },
             "pattern": {
              "fillmode": "overlay",
              "size": 10,
              "solidity": 0.2
             }
            },
            "type": "bar"
           }
          ],
          "barpolar": [
           {
            "marker": {
             "line": {
              "color": "#E5ECF6",
              "width": 0.5
             },
             "pattern": {
              "fillmode": "overlay",
              "size": 10,
              "solidity": 0.2
             }
            },
            "type": "barpolar"
           }
          ],
          "carpet": [
           {
            "aaxis": {
             "endlinecolor": "#2a3f5f",
             "gridcolor": "white",
             "linecolor": "white",
             "minorgridcolor": "white",
             "startlinecolor": "#2a3f5f"
            },
            "baxis": {
             "endlinecolor": "#2a3f5f",
             "gridcolor": "white",
             "linecolor": "white",
             "minorgridcolor": "white",
             "startlinecolor": "#2a3f5f"
            },
            "type": "carpet"
           }
          ],
          "choropleth": [
           {
            "colorbar": {
             "outlinewidth": 0,
             "ticks": ""
            },
            "type": "choropleth"
           }
          ],
          "contour": [
           {
            "colorbar": {
             "outlinewidth": 0,
             "ticks": ""
            },
            "colorscale": [
             [
              0,
              "#0d0887"
             ],
             [
              0.1111111111111111,
              "#46039f"
             ],
             [
              0.2222222222222222,
              "#7201a8"
             ],
             [
              0.3333333333333333,
              "#9c179e"
             ],
             [
              0.4444444444444444,
              "#bd3786"
             ],
             [
              0.5555555555555556,
              "#d8576b"
             ],
             [
              0.6666666666666666,
              "#ed7953"
             ],
             [
              0.7777777777777778,
              "#fb9f3a"
             ],
             [
              0.8888888888888888,
              "#fdca26"
             ],
             [
              1,
              "#f0f921"
             ]
            ],
            "type": "contour"
           }
          ],
          "contourcarpet": [
           {
            "colorbar": {
             "outlinewidth": 0,
             "ticks": ""
            },
            "type": "contourcarpet"
           }
          ],
          "heatmap": [
           {
            "colorbar": {
             "outlinewidth": 0,
             "ticks": ""
            },
            "colorscale": [
             [
              0,
              "#0d0887"
             ],
             [
              0.1111111111111111,
              "#46039f"
             ],
             [
              0.2222222222222222,
              "#7201a8"
             ],
             [
              0.3333333333333333,
              "#9c179e"
             ],
             [
              0.4444444444444444,
              "#bd3786"
             ],
             [
              0.5555555555555556,
              "#d8576b"
             ],
             [
              0.6666666666666666,
              "#ed7953"
             ],
             [
              0.7777777777777778,
              "#fb9f3a"
             ],
             [
              0.8888888888888888,
              "#fdca26"
             ],
             [
              1,
              "#f0f921"
             ]
            ],
            "type": "heatmap"
           }
          ],
          "heatmapgl": [
           {
            "colorbar": {
             "outlinewidth": 0,
             "ticks": ""
            },
            "colorscale": [
             [
              0,
              "#0d0887"
             ],
             [
              0.1111111111111111,
              "#46039f"
             ],
             [
              0.2222222222222222,
              "#7201a8"
             ],
             [
              0.3333333333333333,
              "#9c179e"
             ],
             [
              0.4444444444444444,
              "#bd3786"
             ],
             [
              0.5555555555555556,
              "#d8576b"
             ],
             [
              0.6666666666666666,
              "#ed7953"
             ],
             [
              0.7777777777777778,
              "#fb9f3a"
             ],
             [
              0.8888888888888888,
              "#fdca26"
             ],
             [
              1,
              "#f0f921"
             ]
            ],
            "type": "heatmapgl"
           }
          ],
          "histogram": [
           {
            "marker": {
             "pattern": {
              "fillmode": "overlay",
              "size": 10,
              "solidity": 0.2
             }
            },
            "type": "histogram"
           }
          ],
          "histogram2d": [
           {
            "colorbar": {
             "outlinewidth": 0,
             "ticks": ""
            },
            "colorscale": [
             [
              0,
              "#0d0887"
             ],
             [
              0.1111111111111111,
              "#46039f"
             ],
             [
              0.2222222222222222,
              "#7201a8"
             ],
             [
              0.3333333333333333,
              "#9c179e"
             ],
             [
              0.4444444444444444,
              "#bd3786"
             ],
             [
              0.5555555555555556,
              "#d8576b"
             ],
             [
              0.6666666666666666,
              "#ed7953"
             ],
             [
              0.7777777777777778,
              "#fb9f3a"
             ],
             [
              0.8888888888888888,
              "#fdca26"
             ],
             [
              1,
              "#f0f921"
             ]
            ],
            "type": "histogram2d"
           }
          ],
          "histogram2dcontour": [
           {
            "colorbar": {
             "outlinewidth": 0,
             "ticks": ""
            },
            "colorscale": [
             [
              0,
              "#0d0887"
             ],
             [
              0.1111111111111111,
              "#46039f"
             ],
             [
              0.2222222222222222,
              "#7201a8"
             ],
             [
              0.3333333333333333,
              "#9c179e"
             ],
             [
              0.4444444444444444,
              "#bd3786"
             ],
             [
              0.5555555555555556,
              "#d8576b"
             ],
             [
              0.6666666666666666,
              "#ed7953"
             ],
             [
              0.7777777777777778,
              "#fb9f3a"
             ],
             [
              0.8888888888888888,
              "#fdca26"
             ],
             [
              1,
              "#f0f921"
             ]
            ],
            "type": "histogram2dcontour"
           }
          ],
          "mesh3d": [
           {
            "colorbar": {
             "outlinewidth": 0,
             "ticks": ""
            },
            "type": "mesh3d"
           }
          ],
          "parcoords": [
           {
            "line": {
             "colorbar": {
              "outlinewidth": 0,
              "ticks": ""
             }
            },
            "type": "parcoords"
           }
          ],
          "pie": [
           {
            "automargin": true,
            "type": "pie"
           }
          ],
          "scatter": [
           {
            "fillpattern": {
             "fillmode": "overlay",
             "size": 10,
             "solidity": 0.2
            },
            "type": "scatter"
           }
          ],
          "scatter3d": [
           {
            "line": {
             "colorbar": {
              "outlinewidth": 0,
              "ticks": ""
             }
            },
            "marker": {
             "colorbar": {
              "outlinewidth": 0,
              "ticks": ""
             }
            },
            "type": "scatter3d"
           }
          ],
          "scattercarpet": [
           {
            "marker": {
             "colorbar": {
              "outlinewidth": 0,
              "ticks": ""
             }
            },
            "type": "scattercarpet"
           }
          ],
          "scattergeo": [
           {
            "marker": {
             "colorbar": {
              "outlinewidth": 0,
              "ticks": ""
             }
            },
            "type": "scattergeo"
           }
          ],
          "scattergl": [
           {
            "marker": {
             "colorbar": {
              "outlinewidth": 0,
              "ticks": ""
             }
            },
            "type": "scattergl"
           }
          ],
          "scattermapbox": [
           {
            "marker": {
             "colorbar": {
              "outlinewidth": 0,
              "ticks": ""
             }
            },
            "type": "scattermapbox"
           }
          ],
          "scatterpolar": [
           {
            "marker": {
             "colorbar": {
              "outlinewidth": 0,
              "ticks": ""
             }
            },
            "type": "scatterpolar"
           }
          ],
          "scatterpolargl": [
           {
            "marker": {
             "colorbar": {
              "outlinewidth": 0,
              "ticks": ""
             }
            },
            "type": "scatterpolargl"
           }
          ],
          "scatterternary": [
           {
            "marker": {
             "colorbar": {
              "outlinewidth": 0,
              "ticks": ""
             }
            },
            "type": "scatterternary"
           }
          ],
          "surface": [
           {
            "colorbar": {
             "outlinewidth": 0,
             "ticks": ""
            },
            "colorscale": [
             [
              0,
              "#0d0887"
             ],
             [
              0.1111111111111111,
              "#46039f"
             ],
             [
              0.2222222222222222,
              "#7201a8"
             ],
             [
              0.3333333333333333,
              "#9c179e"
             ],
             [
              0.4444444444444444,
              "#bd3786"
             ],
             [
              0.5555555555555556,
              "#d8576b"
             ],
             [
              0.6666666666666666,
              "#ed7953"
             ],
             [
              0.7777777777777778,
              "#fb9f3a"
             ],
             [
              0.8888888888888888,
              "#fdca26"
             ],
             [
              1,
              "#f0f921"
             ]
            ],
            "type": "surface"
           }
          ],
          "table": [
           {
            "cells": {
             "fill": {
              "color": "#EBF0F8"
             },
             "line": {
              "color": "white"
             }
            },
            "header": {
             "fill": {
              "color": "#C8D4E3"
             },
             "line": {
              "color": "white"
             }
            },
            "type": "table"
           }
          ]
         },
         "layout": {
          "annotationdefaults": {
           "arrowcolor": "#2a3f5f",
           "arrowhead": 0,
           "arrowwidth": 1
          },
          "autotypenumbers": "strict",
          "coloraxis": {
           "colorbar": {
            "outlinewidth": 0,
            "ticks": ""
           }
          },
          "colorscale": {
           "diverging": [
            [
             0,
             "#8e0152"
            ],
            [
             0.1,
             "#c51b7d"
            ],
            [
             0.2,
             "#de77ae"
            ],
            [
             0.3,
             "#f1b6da"
            ],
            [
             0.4,
             "#fde0ef"
            ],
            [
             0.5,
             "#f7f7f7"
            ],
            [
             0.6,
             "#e6f5d0"
            ],
            [
             0.7,
             "#b8e186"
            ],
            [
             0.8,
             "#7fbc41"
            ],
            [
             0.9,
             "#4d9221"
            ],
            [
             1,
             "#276419"
            ]
           ],
           "sequential": [
            [
             0,
             "#0d0887"
            ],
            [
             0.1111111111111111,
             "#46039f"
            ],
            [
             0.2222222222222222,
             "#7201a8"
            ],
            [
             0.3333333333333333,
             "#9c179e"
            ],
            [
             0.4444444444444444,
             "#bd3786"
            ],
            [
             0.5555555555555556,
             "#d8576b"
            ],
            [
             0.6666666666666666,
             "#ed7953"
            ],
            [
             0.7777777777777778,
             "#fb9f3a"
            ],
            [
             0.8888888888888888,
             "#fdca26"
            ],
            [
             1,
             "#f0f921"
            ]
           ],
           "sequentialminus": [
            [
             0,
             "#0d0887"
            ],
            [
             0.1111111111111111,
             "#46039f"
            ],
            [
             0.2222222222222222,
             "#7201a8"
            ],
            [
             0.3333333333333333,
             "#9c179e"
            ],
            [
             0.4444444444444444,
             "#bd3786"
            ],
            [
             0.5555555555555556,
             "#d8576b"
            ],
            [
             0.6666666666666666,
             "#ed7953"
            ],
            [
             0.7777777777777778,
             "#fb9f3a"
            ],
            [
             0.8888888888888888,
             "#fdca26"
            ],
            [
             1,
             "#f0f921"
            ]
           ]
          },
          "colorway": [
           "#636efa",
           "#EF553B",
           "#00cc96",
           "#ab63fa",
           "#FFA15A",
           "#19d3f3",
           "#FF6692",
           "#B6E880",
           "#FF97FF",
           "#FECB52"
          ],
          "font": {
           "color": "#2a3f5f"
          },
          "geo": {
           "bgcolor": "white",
           "lakecolor": "white",
           "landcolor": "#E5ECF6",
           "showlakes": true,
           "showland": true,
           "subunitcolor": "white"
          },
          "hoverlabel": {
           "align": "left"
          },
          "hovermode": "closest",
          "mapbox": {
           "style": "light"
          },
          "paper_bgcolor": "white",
          "plot_bgcolor": "#E5ECF6",
          "polar": {
           "angularaxis": {
            "gridcolor": "white",
            "linecolor": "white",
            "ticks": ""
           },
           "bgcolor": "#E5ECF6",
           "radialaxis": {
            "gridcolor": "white",
            "linecolor": "white",
            "ticks": ""
           }
          },
          "scene": {
           "xaxis": {
            "backgroundcolor": "#E5ECF6",
            "gridcolor": "white",
            "gridwidth": 2,
            "linecolor": "white",
            "showbackground": true,
            "ticks": "",
            "zerolinecolor": "white"
           },
           "yaxis": {
            "backgroundcolor": "#E5ECF6",
            "gridcolor": "white",
            "gridwidth": 2,
            "linecolor": "white",
            "showbackground": true,
            "ticks": "",
            "zerolinecolor": "white"
           },
           "zaxis": {
            "backgroundcolor": "#E5ECF6",
            "gridcolor": "white",
            "gridwidth": 2,
            "linecolor": "white",
            "showbackground": true,
            "ticks": "",
            "zerolinecolor": "white"
           }
          },
          "shapedefaults": {
           "line": {
            "color": "#2a3f5f"
           }
          },
          "ternary": {
           "aaxis": {
            "gridcolor": "white",
            "linecolor": "white",
            "ticks": ""
           },
           "baxis": {
            "gridcolor": "white",
            "linecolor": "white",
            "ticks": ""
           },
           "bgcolor": "#E5ECF6",
           "caxis": {
            "gridcolor": "white",
            "linecolor": "white",
            "ticks": ""
           }
          },
          "title": {
           "x": 0.05
          },
          "xaxis": {
           "automargin": true,
           "gridcolor": "white",
           "linecolor": "white",
           "ticks": "",
           "title": {
            "standoff": 15
           },
           "zerolinecolor": "white",
           "zerolinewidth": 2
          },
          "yaxis": {
           "automargin": true,
           "gridcolor": "white",
           "linecolor": "white",
           "ticks": "",
           "title": {
            "standoff": 15
           },
           "zerolinecolor": "white",
           "zerolinewidth": 2
          }
         }
        },
        "title": {
         "text": "Document Distribution by Topics"
        },
        "xaxis": {
         "anchor": "y",
         "domain": [
          0,
          1
         ],
         "title": {
          "text": "Topic"
         }
        },
        "yaxis": {
         "anchor": "x",
         "domain": [
          0,
          1
         ],
         "title": {
          "text": "Documents"
         }
        }
       }
      },
      "text/html": [
       "<div>                            <div id=\"bcbafeb3-a22f-4b02-a183-2f3167c19e65\" class=\"plotly-graph-div\" style=\"height:525px; width:100%;\"></div>            <script type=\"text/javascript\">                require([\"plotly\"], function(Plotly) {                    window.PLOTLYENV=window.PLOTLYENV || {};                                    if (document.getElementById(\"bcbafeb3-a22f-4b02-a183-2f3167c19e65\")) {                    Plotly.newPlot(                        \"bcbafeb3-a22f-4b02-a183-2f3167c19e65\",                        [{\"alignmentgroup\":\"True\",\"customdata\":[[\"article, student, create, edit, translate, improve, university, language, project, topic\"],[\"student, project, wikimedia, teacher, education, use, wikipedia, workshop, contribute, work\"],[\"student, degree, project, course, article, unit, study, engineering, year, school\"],[\"student, project, use, article, wikimedia, school, different, course, teach, tool\"]],\"hovertemplate\":\"Topic=%{x}<br>Documents=%{y}<br>Keyword=%{customdata[0]}<extra></extra>\",\"legendgroup\":\"\",\"marker\":{\"color\":\"#636efa\",\"pattern\":{\"shape\":\"\"}},\"name\":\"\",\"offsetgroup\":\"\",\"orientation\":\"v\",\"showlegend\":false,\"textposition\":\"auto\",\"x\":[\"Topic 0\",\"Topic 1\",\"Topic 2\",\"Topic 3\"],\"xaxis\":\"x\",\"y\":[44,67,43,43],\"yaxis\":\"y\",\"type\":\"bar\"}],                        {\"template\":{\"data\":{\"histogram2dcontour\":[{\"type\":\"histogram2dcontour\",\"colorbar\":{\"outlinewidth\":0,\"ticks\":\"\"},\"colorscale\":[[0.0,\"#0d0887\"],[0.1111111111111111,\"#46039f\"],[0.2222222222222222,\"#7201a8\"],[0.3333333333333333,\"#9c179e\"],[0.4444444444444444,\"#bd3786\"],[0.5555555555555556,\"#d8576b\"],[0.6666666666666666,\"#ed7953\"],[0.7777777777777778,\"#fb9f3a\"],[0.8888888888888888,\"#fdca26\"],[1.0,\"#f0f921\"]]}],\"choropleth\":[{\"type\":\"choropleth\",\"colorbar\":{\"outlinewidth\":0,\"ticks\":\"\"}}],\"histogram2d\":[{\"type\":\"histogram2d\",\"colorbar\":{\"outlinewidth\":0,\"ticks\":\"\"},\"colorscale\":[[0.0,\"#0d0887\"],[0.1111111111111111,\"#46039f\"],[0.2222222222222222,\"#7201a8\"],[0.3333333333333333,\"#9c179e\"],[0.4444444444444444,\"#bd3786\"],[0.5555555555555556,\"#d8576b\"],[0.6666666666666666,\"#ed7953\"],[0.7777777777777778,\"#fb9f3a\"],[0.8888888888888888,\"#fdca26\"],[1.0,\"#f0f921\"]]}],\"heatmap\":[{\"type\":\"heatmap\",\"colorbar\":{\"outlinewidth\":0,\"ticks\":\"\"},\"colorscale\":[[0.0,\"#0d0887\"],[0.1111111111111111,\"#46039f\"],[0.2222222222222222,\"#7201a8\"],[0.3333333333333333,\"#9c179e\"],[0.4444444444444444,\"#bd3786\"],[0.5555555555555556,\"#d8576b\"],[0.6666666666666666,\"#ed7953\"],[0.7777777777777778,\"#fb9f3a\"],[0.8888888888888888,\"#fdca26\"],[1.0,\"#f0f921\"]]}],\"heatmapgl\":[{\"type\":\"heatmapgl\",\"colorbar\":{\"outlinewidth\":0,\"ticks\":\"\"},\"colorscale\":[[0.0,\"#0d0887\"],[0.1111111111111111,\"#46039f\"],[0.2222222222222222,\"#7201a8\"],[0.3333333333333333,\"#9c179e\"],[0.4444444444444444,\"#bd3786\"],[0.5555555555555556,\"#d8576b\"],[0.6666666666666666,\"#ed7953\"],[0.7777777777777778,\"#fb9f3a\"],[0.8888888888888888,\"#fdca26\"],[1.0,\"#f0f921\"]]}],\"contourcarpet\":[{\"type\":\"contourcarpet\",\"colorbar\":{\"outlinewidth\":0,\"ticks\":\"\"}}],\"contour\":[{\"type\":\"contour\",\"colorbar\":{\"outlinewidth\":0,\"ticks\":\"\"},\"colorscale\":[[0.0,\"#0d0887\"],[0.1111111111111111,\"#46039f\"],[0.2222222222222222,\"#7201a8\"],[0.3333333333333333,\"#9c179e\"],[0.4444444444444444,\"#bd3786\"],[0.5555555555555556,\"#d8576b\"],[0.6666666666666666,\"#ed7953\"],[0.7777777777777778,\"#fb9f3a\"],[0.8888888888888888,\"#fdca26\"],[1.0,\"#f0f921\"]]}],\"surface\":[{\"type\":\"surface\",\"colorbar\":{\"outlinewidth\":0,\"ticks\":\"\"},\"colorscale\":[[0.0,\"#0d0887\"],[0.1111111111111111,\"#46039f\"],[0.2222222222222222,\"#7201a8\"],[0.3333333333333333,\"#9c179e\"],[0.4444444444444444,\"#bd3786\"],[0.5555555555555556,\"#d8576b\"],[0.6666666666666666,\"#ed7953\"],[0.7777777777777778,\"#fb9f3a\"],[0.8888888888888888,\"#fdca26\"],[1.0,\"#f0f921\"]]}],\"mesh3d\":[{\"type\":\"mesh3d\",\"colorbar\":{\"outlinewidth\":0,\"ticks\":\"\"}}],\"scatter\":[{\"fillpattern\":{\"fillmode\":\"overlay\",\"size\":10,\"solidity\":0.2},\"type\":\"scatter\"}],\"parcoords\":[{\"type\":\"parcoords\",\"line\":{\"colorbar\":{\"outlinewidth\":0,\"ticks\":\"\"}}}],\"scatterpolargl\":[{\"type\":\"scatterpolargl\",\"marker\":{\"colorbar\":{\"outlinewidth\":0,\"ticks\":\"\"}}}],\"bar\":[{\"error_x\":{\"color\":\"#2a3f5f\"},\"error_y\":{\"color\":\"#2a3f5f\"},\"marker\":{\"line\":{\"color\":\"#E5ECF6\",\"width\":0.5},\"pattern\":{\"fillmode\":\"overlay\",\"size\":10,\"solidity\":0.2}},\"type\":\"bar\"}],\"scattergeo\":[{\"type\":\"scattergeo\",\"marker\":{\"colorbar\":{\"outlinewidth\":0,\"ticks\":\"\"}}}],\"scatterpolar\":[{\"type\":\"scatterpolar\",\"marker\":{\"colorbar\":{\"outlinewidth\":0,\"ticks\":\"\"}}}],\"histogram\":[{\"marker\":{\"pattern\":{\"fillmode\":\"overlay\",\"size\":10,\"solidity\":0.2}},\"type\":\"histogram\"}],\"scattergl\":[{\"type\":\"scattergl\",\"marker\":{\"colorbar\":{\"outlinewidth\":0,\"ticks\":\"\"}}}],\"scatter3d\":[{\"type\":\"scatter3d\",\"line\":{\"colorbar\":{\"outlinewidth\":0,\"ticks\":\"\"}},\"marker\":{\"colorbar\":{\"outlinewidth\":0,\"ticks\":\"\"}}}],\"scattermapbox\":[{\"type\":\"scattermapbox\",\"marker\":{\"colorbar\":{\"outlinewidth\":0,\"ticks\":\"\"}}}],\"scatterternary\":[{\"type\":\"scatterternary\",\"marker\":{\"colorbar\":{\"outlinewidth\":0,\"ticks\":\"\"}}}],\"scattercarpet\":[{\"type\":\"scattercarpet\",\"marker\":{\"colorbar\":{\"outlinewidth\":0,\"ticks\":\"\"}}}],\"carpet\":[{\"aaxis\":{\"endlinecolor\":\"#2a3f5f\",\"gridcolor\":\"white\",\"linecolor\":\"white\",\"minorgridcolor\":\"white\",\"startlinecolor\":\"#2a3f5f\"},\"baxis\":{\"endlinecolor\":\"#2a3f5f\",\"gridcolor\":\"white\",\"linecolor\":\"white\",\"minorgridcolor\":\"white\",\"startlinecolor\":\"#2a3f5f\"},\"type\":\"carpet\"}],\"table\":[{\"cells\":{\"fill\":{\"color\":\"#EBF0F8\"},\"line\":{\"color\":\"white\"}},\"header\":{\"fill\":{\"color\":\"#C8D4E3\"},\"line\":{\"color\":\"white\"}},\"type\":\"table\"}],\"barpolar\":[{\"marker\":{\"line\":{\"color\":\"#E5ECF6\",\"width\":0.5},\"pattern\":{\"fillmode\":\"overlay\",\"size\":10,\"solidity\":0.2}},\"type\":\"barpolar\"}],\"pie\":[{\"automargin\":true,\"type\":\"pie\"}]},\"layout\":{\"autotypenumbers\":\"strict\",\"colorway\":[\"#636efa\",\"#EF553B\",\"#00cc96\",\"#ab63fa\",\"#FFA15A\",\"#19d3f3\",\"#FF6692\",\"#B6E880\",\"#FF97FF\",\"#FECB52\"],\"font\":{\"color\":\"#2a3f5f\"},\"hovermode\":\"closest\",\"hoverlabel\":{\"align\":\"left\"},\"paper_bgcolor\":\"white\",\"plot_bgcolor\":\"#E5ECF6\",\"polar\":{\"bgcolor\":\"#E5ECF6\",\"angularaxis\":{\"gridcolor\":\"white\",\"linecolor\":\"white\",\"ticks\":\"\"},\"radialaxis\":{\"gridcolor\":\"white\",\"linecolor\":\"white\",\"ticks\":\"\"}},\"ternary\":{\"bgcolor\":\"#E5ECF6\",\"aaxis\":{\"gridcolor\":\"white\",\"linecolor\":\"white\",\"ticks\":\"\"},\"baxis\":{\"gridcolor\":\"white\",\"linecolor\":\"white\",\"ticks\":\"\"},\"caxis\":{\"gridcolor\":\"white\",\"linecolor\":\"white\",\"ticks\":\"\"}},\"coloraxis\":{\"colorbar\":{\"outlinewidth\":0,\"ticks\":\"\"}},\"colorscale\":{\"sequential\":[[0.0,\"#0d0887\"],[0.1111111111111111,\"#46039f\"],[0.2222222222222222,\"#7201a8\"],[0.3333333333333333,\"#9c179e\"],[0.4444444444444444,\"#bd3786\"],[0.5555555555555556,\"#d8576b\"],[0.6666666666666666,\"#ed7953\"],[0.7777777777777778,\"#fb9f3a\"],[0.8888888888888888,\"#fdca26\"],[1.0,\"#f0f921\"]],\"sequentialminus\":[[0.0,\"#0d0887\"],[0.1111111111111111,\"#46039f\"],[0.2222222222222222,\"#7201a8\"],[0.3333333333333333,\"#9c179e\"],[0.4444444444444444,\"#bd3786\"],[0.5555555555555556,\"#d8576b\"],[0.6666666666666666,\"#ed7953\"],[0.7777777777777778,\"#fb9f3a\"],[0.8888888888888888,\"#fdca26\"],[1.0,\"#f0f921\"]],\"diverging\":[[0,\"#8e0152\"],[0.1,\"#c51b7d\"],[0.2,\"#de77ae\"],[0.3,\"#f1b6da\"],[0.4,\"#fde0ef\"],[0.5,\"#f7f7f7\"],[0.6,\"#e6f5d0\"],[0.7,\"#b8e186\"],[0.8,\"#7fbc41\"],[0.9,\"#4d9221\"],[1,\"#276419\"]]},\"xaxis\":{\"gridcolor\":\"white\",\"linecolor\":\"white\",\"ticks\":\"\",\"title\":{\"standoff\":15},\"zerolinecolor\":\"white\",\"automargin\":true,\"zerolinewidth\":2},\"yaxis\":{\"gridcolor\":\"white\",\"linecolor\":\"white\",\"ticks\":\"\",\"title\":{\"standoff\":15},\"zerolinecolor\":\"white\",\"automargin\":true,\"zerolinewidth\":2},\"scene\":{\"xaxis\":{\"backgroundcolor\":\"#E5ECF6\",\"gridcolor\":\"white\",\"linecolor\":\"white\",\"showbackground\":true,\"ticks\":\"\",\"zerolinecolor\":\"white\",\"gridwidth\":2},\"yaxis\":{\"backgroundcolor\":\"#E5ECF6\",\"gridcolor\":\"white\",\"linecolor\":\"white\",\"showbackground\":true,\"ticks\":\"\",\"zerolinecolor\":\"white\",\"gridwidth\":2},\"zaxis\":{\"backgroundcolor\":\"#E5ECF6\",\"gridcolor\":\"white\",\"linecolor\":\"white\",\"showbackground\":true,\"ticks\":\"\",\"zerolinecolor\":\"white\",\"gridwidth\":2}},\"shapedefaults\":{\"line\":{\"color\":\"#2a3f5f\"}},\"annotationdefaults\":{\"arrowcolor\":\"#2a3f5f\",\"arrowhead\":0,\"arrowwidth\":1},\"geo\":{\"bgcolor\":\"white\",\"landcolor\":\"#E5ECF6\",\"subunitcolor\":\"white\",\"showland\":true,\"showlakes\":true,\"lakecolor\":\"white\"},\"title\":{\"x\":0.05},\"mapbox\":{\"style\":\"light\"}}},\"xaxis\":{\"anchor\":\"y\",\"domain\":[0.0,1.0],\"title\":{\"text\":\"Topic\"}},\"yaxis\":{\"anchor\":\"x\",\"domain\":[0.0,1.0],\"title\":{\"text\":\"Documents\"}},\"legend\":{\"tracegroupgap\":0},\"title\":{\"text\":\"Document Distribution by Topics\"},\"barmode\":\"relative\"},                        {\"responsive\": true}                    ).then(function(){\n",
       "                            \n",
       "var gd = document.getElementById('bcbafeb3-a22f-4b02-a183-2f3167c19e65');\n",
       "var x = new MutationObserver(function (mutations, observer) {{\n",
       "        var display = window.getComputedStyle(gd).display;\n",
       "        if (!display || display === 'none') {{\n",
       "            console.log([gd, 'removed!']);\n",
       "            Plotly.purge(gd);\n",
       "            observer.disconnect();\n",
       "        }}\n",
       "}});\n",
       "\n",
       "// Listen for the removal of the full notebook cells\n",
       "var notebookContainer = gd.closest('#notebook-container');\n",
       "if (notebookContainer) {{\n",
       "    x.observe(notebookContainer, {childList: true});\n",
       "}}\n",
       "\n",
       "// Listen for the clearing of the current output cell\n",
       "var outputEl = gd.closest('.output');\n",
       "if (outputEl) {{\n",
       "    x.observe(outputEl, {childList: true});\n",
       "}}\n",
       "\n",
       "                        })                };                });            </script>        </div>"
      ]
     },
     "metadata": {},
     "output_type": "display_data"
    }
   ],
   "source": [
    "plot_model(lda, plot = 'topic_distribution')"
   ]
  },
  {
   "cell_type": "markdown",
   "metadata": {},
   "source": [
    "# 6. Evaluate  Model"
   ]
  },
  {
   "cell_type": "code",
   "execution_count": 19,
   "metadata": {},
   "outputs": [
    {
     "data": {
      "application/vnd.jupyter.widget-view+json": {
       "model_id": "a72db91c3cb549f49b43994f2866c7f4",
       "version_major": 2,
       "version_minor": 0
      },
      "text/plain": [
       "interactive(children=(ToggleButtons(description='Plot Type:', icons=('',), options=(('Frequency Plot', 'freque…"
      ]
     },
     "metadata": {},
     "output_type": "display_data"
    }
   ],
   "source": [
    "evaluate_model(lda)"
   ]
  },
  {
   "cell_type": "markdown",
   "metadata": {},
   "source": [
    "# 7. Tune Model"
   ]
  },
  {
   "cell_type": "code",
   "execution_count": 43,
   "metadata": {},
   "outputs": [],
   "source": [
    "#%tb \n",
    "#model_lda_tune = tune_model(lda, supervised_target = 'Subject', multi_core=True) # error\n",
    "#assign_model(model_lda_tune)\n",
    "# evaluate_model(model_lda_tune)"
   ]
  },
  {
   "cell_type": "markdown",
   "metadata": {},
   "source": [
    "# 8. Experiments Tracking with MLFlow"
   ]
  },
  {
   "cell_type": "code",
   "execution_count": null,
   "metadata": {},
   "outputs": [],
   "source": [
    "!mlflow ui"
   ]
  }
 ],
 "metadata": {
  "kernelspec": {
   "display_name": "Python 3.9.13 ('pycaret')",
   "language": "python",
   "name": "python3"
  },
  "language_info": {
   "codemirror_mode": {
    "name": "ipython",
    "version": 3
   },
   "file_extension": ".py",
   "mimetype": "text/x-python",
   "name": "python",
   "nbconvert_exporter": "python",
   "pygments_lexer": "ipython3",
   "version": "3.9.13"
  },
  "vscode": {
   "interpreter": {
    "hash": "e368159367e086db48523cdc1de66b55d9753efc26b589f8f8f097639e13e181"
   }
  }
 },
 "nbformat": 4,
 "nbformat_minor": 2
}
