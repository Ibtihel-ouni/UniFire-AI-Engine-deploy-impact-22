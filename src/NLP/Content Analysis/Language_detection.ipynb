{
  "cells": [
    {
      "cell_type": "markdown",
      "metadata": {},
      "source": [
        "## Content Language Detection"
      ]
    },
    {
      "cell_type": "markdown",
      "metadata": {},
      "source": [
        "### PySpark Setup"
      ]
    },
    {
      "cell_type": "code",
      "execution_count": null,
      "metadata": {
        "colab": {
          "base_uri": "https://localhost:8080/"
        },
        "id": "sWe5HqoVjoh8",
        "outputId": "86014625-5938-42c1-c300-c86ffab16ed0"
      },
      "outputs": [
        {
          "name": "stdout",
          "output_type": "stream",
          "text": [
            "--2022-11-11 16:39:10--  http://setup.johnsnowlabs.com/colab.sh\n",
            "Resolving setup.johnsnowlabs.com (setup.johnsnowlabs.com)... 51.158.130.125\n",
            "Connecting to setup.johnsnowlabs.com (setup.johnsnowlabs.com)|51.158.130.125|:80... connected.\n",
            "HTTP request sent, awaiting response... 302 Found\n",
            "Location: https://setup.johnsnowlabs.com/colab.sh [following]\n",
            "--2022-11-11 16:39:10--  https://setup.johnsnowlabs.com/colab.sh\n",
            "Connecting to setup.johnsnowlabs.com (setup.johnsnowlabs.com)|51.158.130.125|:443... connected.\n",
            "HTTP request sent, awaiting response... 302 Moved Temporarily\n",
            "Location: https://raw.githubusercontent.com/JohnSnowLabs/spark-nlp/master/scripts/colab_setup.sh [following]\n",
            "--2022-11-11 16:39:11--  https://raw.githubusercontent.com/JohnSnowLabs/spark-nlp/master/scripts/colab_setup.sh\n",
            "Resolving raw.githubusercontent.com (raw.githubusercontent.com)... 185.199.109.133, 185.199.110.133, 185.199.108.133, ...\n",
            "Connecting to raw.githubusercontent.com (raw.githubusercontent.com)|185.199.109.133|:443... connected.\n",
            "HTTP request sent, awaiting response... 200 OK\n",
            "Length: 1191 (1.2K) [text/plain]\n",
            "Saving to: ‘STDOUT’\n",
            "\n",
            "-                   100%[===================>]   1.16K  --.-KB/s    in 0s      \n",
            "\n",
            "2022-11-11 16:39:11 (55.9 MB/s) - written to stdout [1191/1191]\n",
            "\n",
            "Installing PySpark 3.2.1 and Spark NLP 4.2.3\n",
            "setup Colab for PySpark 3.2.1 and Spark NLP 4.2.3\n",
            "\u001b[K     |████████████████████████████████| 281.4 MB 42 kB/s \n",
            "\u001b[K     |████████████████████████████████| 648 kB 60.1 MB/s \n",
            "\u001b[K     |████████████████████████████████| 198 kB 60.7 MB/s \n",
            "\u001b[?25h  Building wheel for pyspark (setup.py) ... \u001b[?25l\u001b[?25hdone\n"
          ]
        }
      ],
      "source": [
        "# This is only to setup PySpark and Spark NLP on Colab\n",
        "!wget http://setup.johnsnowlabs.com/colab.sh -O - | bash"
      ]
    },
    {
      "cell_type": "code",
      "execution_count": null,
      "metadata": {
        "colab": {
          "base_uri": "https://localhost:8080/"
        },
        "id": "Qt4e9HW6jyHn",
        "outputId": "1ebde752-f0bb-4539-fad1-b58ab91bae30"
      },
      "outputs": [
        {
          "name": "stdout",
          "output_type": "stream",
          "text": [
            "Spark NLP version 4.2.3\n",
            "Apache Spark version: 3.2.1\n"
          ]
        }
      ],
      "source": [
        "import sparknlp\n",
        "from sparknlp.pretrained import PretrainedPipeline\n",
        "\n",
        "spark = sparknlp.start()\n",
        "\n",
        "print(\"Spark NLP version\", sparknlp.version())\n",
        "\n",
        "print(\"Apache Spark version:\", spark.version)"
      ]
    },
    {
      "cell_type": "code",
      "execution_count": null,
      "metadata": {
        "colab": {
          "base_uri": "https://localhost:8080/"
        },
        "id": "8GFzT8tBj4Cv",
        "outputId": "5f7aecc4-a055-48b0-e66a-a51f24f8f1b6"
      },
      "outputs": [
        {
          "name": "stdout",
          "output_type": "stream",
          "text": [
            "detect_language_21 download started this may take some time.\n",
            "Approx size to download 7.7 MB\n",
            "[OK!]\n"
          ]
        },
        {
          "data": {
            "text/plain": [
              "{'document': ['OpenEdu.ch ist eine 2020 von Wikimedia CH gegründete Plattform zur Unterstützung, Verbreitung und Förderung von Projekten, Ausbildungstools und News aus der Welt der offenen Bildung.'],\n",
              " 'sentence': ['OpenEdu.ch ist eine 2020 von Wikimedia CH gegründete Plattform zur Unterstützung, Verbreitung und Förderung von Projekten, Ausbildungstools und News aus der Welt der offenen Bildung.'],\n",
              " 'language': ['de']}"
            ]
          },
          "execution_count": 13,
          "metadata": {},
          "output_type": "execute_result"
        }
      ],
      "source": [
        "# Download a pre-trained pipeline by name and language\n",
        "language_detector_pipeline = PretrainedPipeline('detect_language_21', lang='xx')\n",
        "\n",
        "# Depending on the language (how similar the characters are), the LanguageDetectorDL works\n",
        "# best with text longer than 140 characters\n",
        "language_detector_pipeline.annotate(\"OpenEdu.ch ist eine 2020 von Wikimedia CH gegründete Plattform zur Unterstützung, Verbreitung und Förderung von Projekten, Ausbildungstools und News aus der Welt der offenen Bildung.\")"
      ]
    },
    {
      "cell_type": "markdown",
      "metadata": {
        "id": "K2lVK6B0j7QZ"
      },
      "source": [
        "### LanguageDetectorDL"
      ]
    },
    {
      "cell_type": "code",
      "execution_count": null,
      "metadata": {
        "id": "lkQtDPJuj-Xy"
      },
      "outputs": [],
      "source": [
        "from sparknlp.base import *\n",
        "from sparknlp.annotator import *"
      ]
    },
    {
      "cell_type": "code",
      "execution_count": null,
      "metadata": {
        "colab": {
          "base_uri": "https://localhost:8080/"
        },
        "id": "sE7JvtCNkAnf",
        "outputId": "bb2a9cd7-6546-432e-bd19-399f8c8d6bcf"
      },
      "outputs": [
        {
          "name": "stdout",
          "output_type": "stream",
          "text": [
            "ld_wiki_tatoeba_cnn_21 download started this may take some time.\n",
            "Approximate size to download 7.1 MB\n",
            "[OK!]\n"
          ]
        }
      ],
      "source": [
        "documentAssembler = DocumentAssembler()\\\n",
        ".setInputCol(\"text\")\\\n",
        ".setOutputCol(\"document\")\n",
        "\n",
        "language_detector = LanguageDetectorDL.pretrained(\"ld_wiki_tatoeba_cnn_21\")\\\n",
        ".setInputCols([\"document\"])\\\n",
        ".setOutputCol(\"lang\")\\\n",
        ".setThreshold(0.8)\\\n",
        ".setCoalesceSentences(True)\n",
        "\n",
        "languagePipeline = Pipeline(stages=[\n",
        " documentAssembler, \n",
        " language_detector\n",
        "])"
      ]
    },
    {
      "cell_type": "markdown",
      "metadata": {},
      "source": [
        "### Tests for English and Italien Languages"
      ]
    },
    {
      "cell_type": "code",
      "execution_count": null,
      "metadata": {
        "id": "yoeAU0VvkJe_"
      },
      "outputs": [],
      "source": [
        "test_df = spark.createDataFrame([\n",
        "  ['OpenEdu is a platform launched in 2020 by wikimedia CH to support, disseminate and promote projects, training tools and news from the world of open education.'], \n",
        "  ['OpenEdu.ch.ch è una piattaforma lanciata nel 2020 da wikimedia CH per supportare, diffondere e promuovere progetti, strumenti di formazione e novità dal mondo dell istruzione aperta.']]\n",
        ").toDF(\"text\")\n",
        "\n",
        "results = languagePipeline.fit(test_df).transform(test_df)"
      ]
    },
    {
      "cell_type": "code",
      "execution_count": null,
      "metadata": {
        "colab": {
          "base_uri": "https://localhost:8080/"
        },
        "id": "J-ZFNR40kAkB",
        "outputId": "4b58869b-49e6-4a46-b310-541d1a285305"
      },
      "outputs": [
        {
          "name": "stdout",
          "output_type": "stream",
          "text": [
            "+------+\n",
            "|result|\n",
            "+------+\n",
            "|  [en]|\n",
            "|  [it]|\n",
            "+------+\n",
            "\n"
          ]
        }
      ],
      "source": [
        "results.select(\"lang.result\").show()"
      ]
    },
    {
      "cell_type": "code",
      "execution_count": null,
      "metadata": {
        "colab": {
          "base_uri": "https://localhost:8080/"
        },
        "id": "7LIVtqSZkAhQ",
        "outputId": "21e3418d-1357-4889-cd96-cf5ab6c22a59"
      },
      "outputs": [
        {
          "name": "stdout",
          "output_type": "stream",
          "text": [
            "+----------------------------------------------------------------------------------------------------------------------------------------------------------------------------------------------------------------------------------------------------------------------------------------------------------------------------------------------------------------------------------------------------------------------------------------+\n",
            "|metadata                                                                                                                                                                                                                                                                                                                                                                                                                                |\n",
            "+----------------------------------------------------------------------------------------------------------------------------------------------------------------------------------------------------------------------------------------------------------------------------------------------------------------------------------------------------------------------------------------------------------------------------------------+\n",
            "|[{fr -> 2.0121462E-18, lv -> 0.0, pt -> 7.9050585E-19, cs -> 3.3215965E-18, el -> 7.450565E-29, it -> 5.5863163E-18, nl -> 1.7305893E-11, bg -> 0.0, et -> 1.2164655E-15, de -> 1.41921505E-14, sv -> 1.1298631E-16, da -> 6.8091915E-16, en -> 1.0, sk -> 5.6534574E-19, es -> 1.9432435E-18, fi -> 1.0997564E-23, ro -> 1.708527E-18, lt -> 6.818259E-17, sl -> 2.0057422E-8, sentence -> 0, hu -> 7.0635276E-15, pl -> 3.825764E-16}]|\n",
            "|[{fr -> 3.31558E-35, lv -> 0.0, pt -> 1.7470923E-30, cs -> 0.0, el -> 0.0, it -> 1.0, nl -> 7.185104E-33, bg -> 0.0, et -> 0.0, de -> 3.0440132E-33, sv -> 0.0, da -> 0.0, en -> 1.2669864E-37, sk -> 5.2121164E-37, es -> 2.4159906E-25, fi -> 0.0, ro -> 5.0925624E-22, lt -> 0.0, sl -> 0.0, sentence -> 0, hu -> 1.1476319E-27, pl -> 2.0126213E-34}]                                                                               |\n",
            "+----------------------------------------------------------------------------------------------------------------------------------------------------------------------------------------------------------------------------------------------------------------------------------------------------------------------------------------------------------------------------------------------------------------------------------------+\n",
            "\n"
          ]
        }
      ],
      "source": [
        "# probabilities for other languages\n",
        "results.select(\"lang.metadata\").show(2, False)"
      ]
    }
  ],
  "metadata": {
    "colab": {
      "provenance": []
    },
    "kernelspec": {
      "display_name": "Python 3",
      "name": "python3"
    },
    "language_info": {
      "name": "python"
    }
  },
  "nbformat": 4,
  "nbformat_minor": 0
}
